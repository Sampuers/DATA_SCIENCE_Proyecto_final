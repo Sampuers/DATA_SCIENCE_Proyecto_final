{
 "cells": [
  {
   "cell_type": "code",
   "execution_count": null,
   "id": "08f89da9-2ebe-41ed-bf3e-e725ea1fb4b9",
   "metadata": {},
   "outputs": [],
   "source": [
    "import pandas as pd\n",
    "import warnings\n",
    "\n",
    "warnings.filterwarnings('ignore') # Ignora los mensajes de error."
   ]
  },
  {
   "cell_type": "markdown",
   "id": "00531f4d-915f-4d80-a3bb-63ade7f64fb5",
   "metadata": {},
   "source": [
    "Voy a trabajar con un dataset del ministerio de educación de matriculaciones de Registros generales por comunidad y matriculaciones de necesidades especiales.\n",
    "\n",
    "De todas las discapacidades que se muestran, me centraré sólo en las neurológicas, que son discapacidad Intelectual, trastornos del espectro del autismo, y trastornos graves de conducta.\n",
    "\n",
    "Voy a definir cada una de ellas, para que quede claro:\n",
    "\n",
    "Discapacidad intelectual: implica limitaciones en el funcionamiento mental y adaptativo. Puede afectar la comunicación, el aprendizaje y la toma de decisiones. Con apoyo adecuado, las personas con esta condición pueden llevar vidas plenas y contribuir a la sociedad. La inclusión y el respeto son fundamentales para su bienestar.\n",
    "\n",
    "Trastornos del aspectro autismo: afectan la comunicación, interacción social y comportamiento. Con apoyo adecuado, las personas con TEA pueden llevar vidas plenas. Aceptación y comprensión son clave.\n",
    "\n",
    "Trastornos gaves de conducta: implican comportamientos desafiantes y problemáticos que pueden poner en peligro la seguridad de la persona o de los demás. Requieren atención especializada y apoyo para mejorar la calidad de vida. Son patrones persistentes de comportamiento desafiante y problemático que pueden incluir agresión, conducta antisocial, comportamientos autolesivos u otros comportamientos que ponen en peligro la seguridad de la persona o de los demás.\n",
    "\n",
    "Me encuetro con dos dataset para cada año y voy a unir todos los datasets con MERGE en uno. El rango de cursos lectivos que voy a trabajar son de 5 años, del 2017 al 2022."
   ]
  },
  {
   "cell_type": "code",
   "execution_count": null,
   "id": "0a4126a8-0d2d-428e-937e-4ba2af4d04fb",
   "metadata": {},
   "outputs": [],
   "source": [
    "# Descargo archivo RG 2021-2022 \n",
    "RG_21_22 = pd.read_csv(\"RG_21_22_CSV.csv\", sep='\\t', encoding='latin1')\n",
    "RG_21_22"
   ]
  },
  {
   "cell_type": "markdown",
   "id": "d8a3f959-d052-4f45-83a5-5f6e5132716e",
   "metadata": {},
   "source": [
    "Para tener los datos de cada dataset ordenados, voy a tener que crear una columna que se llame Curso y añadir el año del curso de finalización"
   ]
  },
  {
   "cell_type": "code",
   "execution_count": null,
   "id": "27b78e3e-58a3-4747-b1b2-7077644e3348",
   "metadata": {},
   "outputs": [],
   "source": [
    "# Añadir una nueva columna llamada 'Año' con el valor '2022' Realmente se refiere al Curso \n",
    "RG_21_22['Año'] = '2022'\n",
    "# Mover la columna a la posición 2. \n",
    "RG_21_22.insert(2, 'Año',RG_21_22.pop('Año'))"
   ]
  },
  {
   "cell_type": "markdown",
   "id": "28be790c-7916-4874-9f89-ce917a6b967c",
   "metadata": {},
   "source": [
    "También veo que tengo que ordenar los datos de todos los datasets, en el Tipo de plazas. Es decir, tengo que crear una columna llamada Tipo de plaza, y le asigno el registro de Ordinaria o Especial. La diferencia de cada plaza es la siguiente:\n",
    "\n",
    "* Ordinaria: una vacante disponible en una institución educativa, ya sea en un nivel escolar o universitario, que no está reservada para un programa específico o para estudiantes con necesidades especiales.\n",
    "\n",
    "* Especial: una vacante o espacio reservado para un programa educativo específico. Por ejemplo, en el caso de la educación especial, una \"plaza especial\" podría ser una vacante destinada a un estudiante con necesidades educativas especiales que requiere apoyo adicional o servicios personalizados."
   ]
  },
  {
   "cell_type": "code",
   "execution_count": null,
   "id": "fd948313-fe82-4d5a-9b0e-ee474066552e",
   "metadata": {},
   "outputs": [],
   "source": [
    "# Añadir una nueva columna llamada \"Plaza\" con registros \"Ordinaria\" en la posición 3\n",
    "RG_21_22.insert(loc=3, column='Plaza', value='Ordinarias')\n"
   ]
  },
  {
   "cell_type": "markdown",
   "id": "9919714e-5d76-4cd8-9b0c-9270021bd6b0",
   "metadata": {},
   "source": [
    "De todos los datasets, voy a eliminar las columnas de 'Titularidad/financiación del centro' y también 'Enseñanza'. Ya que el dato que me proporciona no es relevante para mi estudio."
   ]
  },
  {
   "cell_type": "code",
   "execution_count": null,
   "id": "0d586781-dc75-4f5a-9d6f-ce7bd6ad8b74",
   "metadata": {},
   "outputs": [],
   "source": [
    "# Eliminar la columna 'Titularidad/financiación del centro'\n",
    "RG_21_22 = RG_21_22.drop('Titularidad/financiación del centro', axis=1)\n",
    "\n",
    "# Eliminar la columna 'Enseñanza'\n",
    "RG_21_22 = RG_21_22.drop('Enseñanza', axis=1)"
   ]
  },
  {
   "cell_type": "code",
   "execution_count": null,
   "id": "9e99d825-1354-432a-a50e-691e6534b691",
   "metadata": {},
   "outputs": [],
   "source": [
    "NESE_21_22 = pd.read_csv(\"NESE_21_22_CSV1.csv\", sep='\\t', encoding='latin1')\n",
    "\n",
    "# Añadir una nueva columna llamada 'Año' con el valor '2022' Realmente se refiere al Curso \n",
    "NESE_21_22['Año'] = '2022'\n",
    "\n",
    "# Mover la columna a la posición 2. \n",
    "NESE_21_22.insert(2, 'Año',NESE_21_22.pop('Año'))\n",
    "\n",
    "# Añadir una nueva columna llamada \"Plaza\" con registros \"Ordinarios\" en la posición 3\n",
    "NESE_21_22.insert(loc=3, column='Plaza', value='Especiales')\n",
    "\n",
    "# Eliminar la columna 'Titularidad'\n",
    "NESE_21_22 = NESE_21_22.drop('Titularidad', axis=1)"
   ]
  },
  {
   "cell_type": "markdown",
   "id": "8a7ce3cd-5894-43e6-aa4a-85b16969d79a",
   "metadata": {},
   "source": [
    "Empiezo a unir los datasets con MERGE, y en la columna de Discapacidad, le asigno el valor 0 a los registros que no tienen valores, ya que están considerados como plazas sin discapacidad. Después más adelante, modifico el valor 0 por No (de No discapacidad)."
   ]
  },
  {
   "cell_type": "code",
   "execution_count": null,
   "id": "3e1284c0-fdc1-46ef-9398-02ad24d6623c",
   "metadata": {},
   "outputs": [],
   "source": [
    "import numpy as np\n",
    "# Copiar los DataFrames originales\n",
    "RG_21_22_copy = RG_21_22.copy()\n",
    "NESE_21_22_copy = NESE_21_22.copy()\n",
    "\n",
    "# Unir los DataFrames por las columnas especificadas\n",
    "Plazas_21_22 = pd.merge(RG_21_22_copy, NESE_21_22_copy, on=['Comunidad autónoma/provincia', 'Año', 'Plaza', 'Sexo','Total'], how='outer')\n",
    "\n",
    "# Rellenar los valores NaN con ceros\n",
    "Plazas_21_22 = Plazas_21_22.fillna(0)"
   ]
  },
  {
   "cell_type": "code",
   "execution_count": null,
   "id": "fb306cae-0a16-489b-891e-40de5357badb",
   "metadata": {},
   "outputs": [],
   "source": [
    "# Cambio los valores de 0 en la columna de discapacidad por NO. \n",
    "Plazas_21_22['Discapacidad'] = Plazas_21_22['Discapacidad'].replace(0, 'No')"
   ]
  },
  {
   "cell_type": "code",
   "execution_count": null,
   "id": "0b14bb1e-2b07-48f2-a6a7-df65943fa26b",
   "metadata": {},
   "outputs": [],
   "source": [
    "# Descargo archivo RG 2020-2021 \n",
    "RG_20_21 = pd.read_csv(\"RG_20_21.csv\", sep='\\t', encoding='latin1')\n",
    "\n",
    "# Añadir una nueva columna llamada 'Año' con el valor '2022' Realmente se refiere al Curso \n",
    "RG_20_21['Año'] = '2021'\n",
    "\n",
    "# Mover la columna a la posición 2. \n",
    "RG_20_21.insert(2, 'Año',RG_20_21.pop('Año'))\n",
    "\n",
    "# Añadir una nueva columna llamada \"Plaza\" con registros \"Ordinaria\" en la posición 3\n",
    "RG_20_21.insert(loc=3, column='Plaza', value='Ordinarias')\n",
    "\n",
    "# Eliminar la columna 'Titularidad/financiación del centro'\n",
    "RG_20_21 = RG_20_21.drop('Titularidad/financiación del centro', axis=1)\n",
    "\n",
    "# Eliminar la columna 'Enseñanza'\n",
    "RG_20_21 = RG_20_21.drop('Enseñanza', axis=1)"
   ]
  },
  {
   "cell_type": "code",
   "execution_count": null,
   "id": "4fb540ba-fbec-4ded-a508-7410495f851c",
   "metadata": {},
   "outputs": [],
   "source": [
    "NESE_20_21 = pd.read_csv(\"NESE_20_21.csv\", sep=';', encoding='latin1')\n",
    "\n",
    "# Añadir una nueva columna llamada 'Año' con el valor '2021' Realmente se refiere al Curso \n",
    "NESE_20_21['Año'] = '2021'\n",
    "\n",
    "# Mover la columna a la posición 2. \n",
    "NESE_20_21.insert(2, 'Año',NESE_20_21.pop('Año'))\n",
    "\n",
    "# Añadir una nueva columna llamada \"Plaza\" con registros \"Especial\" en la posición 3\n",
    "NESE_20_21.insert(loc=3, column='Plaza', value='Especiales')\n",
    "\n",
    "# Eliminar la columna 'Titularidad'\n",
    "NESE_20_21 = NESE_20_21.drop('Titularidad', axis=1)"
   ]
  },
  {
   "cell_type": "code",
   "execution_count": null,
   "id": "2bfae1ab-207d-4fbc-be47-a9d72b221765",
   "metadata": {},
   "outputs": [],
   "source": [
    "# Copiar los DataFrames originales\n",
    "RG_20_21_copy = RG_20_21.copy()\n",
    "NESE_20_21_copy = NESE_20_21.copy()\n",
    "\n",
    "# Unir los DataFrames por las columnas Comunidad autónoma, Año, Plaza, Sexo y Total.\n",
    "Plazas_20_21 = pd.merge(RG_20_21_copy, NESE_20_21_copy, on=['Comunidad autónoma/provincia', 'Año', 'Plaza', 'Sexo', 'Total'], how='outer')\n",
    "\n",
    "# Rellenar los valores NaN con ceros\n",
    "Plazas_20_21 = Plazas_20_21.fillna(0)\n",
    "\n",
    "# Cambiar los valores de 0 en la columna de discapacidad por 'No'\n",
    "Plazas_20_21['Discapacidad'] = Plazas_20_21['Discapacidad'].replace(0, 'No')\n",
    "\n",
    "# Mostrar el DataFrame resultante\n",
    "Plazas_20_21"
   ]
  },
  {
   "cell_type": "code",
   "execution_count": null,
   "id": "39b9fe51-5851-4ce5-af1f-67b14cc5b8ed",
   "metadata": {},
   "outputs": [],
   "source": [
    "# Copiar los DataFrames originales\n",
    "Plazas_21_22_copy = Plazas_21_22.copy()\n",
    "Plazas_20_21_copy = Plazas_20_21.copy()\n",
    "\n",
    "# Unir los DataFrames por las columnas Comunidad autónoma, Año, Plaza, Sexo, Total, Discapacidad\n",
    "Plazas = pd.merge(Plazas_21_22_copy, Plazas_20_21_copy, on=['Comunidad autónoma/provincia', 'Año', 'Plaza', 'Sexo', 'Discapacidad', 'Total'], how='outer')\n",
    "\n",
    "# Mover la columna discapacidad a la posición 3. \n",
    "Plazas.insert(3, 'Discapacidad',Plazas.pop('Discapacidad'))\n",
    "\n",
    "# Mover la columna año a la posición 0. \n",
    "Plazas.insert(0, 'Año',Plazas.pop('Año'))"
   ]
  },
  {
   "cell_type": "code",
   "execution_count": null,
   "id": "18cc7ef3-0ce8-47e6-93bb-1535967467c6",
   "metadata": {},
   "outputs": [],
   "source": [
    "# Descargo archivo RG 2019-2020 \n",
    "RG_19_20 = pd.read_csv(\"RG_19_20.csv\", sep='\\t', encoding='latin1')\n",
    "\n",
    "# Añadir una nueva columna llamada 'Año' con el valor '2020' Realmente se refiere al Curso \n",
    "RG_19_20['Año'] = '2020'\n",
    "\n",
    "# Mover la columna a la posición 2. \n",
    "RG_19_20.insert(2, 'Año',RG_19_20.pop('Año'))\n",
    "\n",
    "# Añadir una nueva columna llamada \"Plaza\" con registros \"Ordinaria\" en la posición 3\n",
    "RG_19_20.insert(loc=3, column='Plaza', value='Ordinarias')\n",
    "\n",
    "# Eliminar la columna 'Titularidad/financiación del centro'\n",
    "RG_19_20 = RG_19_20.drop('Titularidad/financiación del centro', axis=1)\n",
    "\n",
    "# Eliminar la columna 'Enseñanza'\n",
    "RG_19_20 = RG_19_20.drop('Enseñanza', axis=1)"
   ]
  },
  {
   "cell_type": "code",
   "execution_count": null,
   "id": "2c1cf65c-eb41-4b8c-8493-0aa739aa35ed",
   "metadata": {},
   "outputs": [],
   "source": [
    "NESE_19_20 = pd.read_csv(\"NESE_19_20.csv\", sep='\\t', encoding='latin1')\n",
    "\n",
    "# Añadir una nueva columna llamada 'Año' con el valor '2021' Realmente se refiere al Curso \n",
    "NESE_19_20['Año'] = '2020'\n",
    "\n",
    "# Mover la columna a la posición 2. \n",
    "NESE_19_20.insert(2, 'Año',NESE_19_20.pop('Año'))\n",
    "\n",
    "# Añadir una nueva columna llamada \"Plaza\" con registros \"Especial\" en la posición 3\n",
    "NESE_19_20.insert(loc=3, column='Plaza', value='Especiales')\n",
    "\n",
    "# Eliminar la columna 'Titularidad'\n",
    "NESE_19_20 = NESE_19_20.drop('Titularidad', axis=1)"
   ]
  },
  {
   "cell_type": "code",
   "execution_count": null,
   "id": "62cca3e0-ce9c-48ee-927d-280957ba87a4",
   "metadata": {},
   "outputs": [],
   "source": [
    "# Copiar los DataFrames originales\n",
    "RG_19_20_copy = RG_19_20.copy()\n",
    "NESE_19_20_copy = NESE_19_20.copy()\n",
    "\n",
    "# Unir los DataFrames por las columnas Comunidad autónoma, Año, Plaza, Sexo y Total\n",
    "Plazas_19_20 = pd.merge(RG_19_20_copy, NESE_19_20_copy , on=['Comunidad autónoma/provincia', 'Año', 'Plaza', 'Sexo', 'Total'], how='outer')\n",
    "\n",
    "# Rellenar los valores NaN con ceros\n",
    "Plazas_19_20 = Plazas_19_20.fillna(0)\n",
    "\n",
    "# Cambio los valores de 0 en la columna de discapacidad por 'No'\n",
    "Plazas_19_20['Discapacidad'] = Plazas_19_20['Discapacidad'].replace(0, 'No')"
   ]
  },
  {
   "cell_type": "code",
   "execution_count": null,
   "id": "0a9d4994-713f-4388-bf5c-1867619a7de9",
   "metadata": {},
   "outputs": [],
   "source": [
    "# Hacer copias de los DataFrames originales\n",
    "Plazas_copy = Plazas.copy()\n",
    "Plazas_19_20_copy = Plazas_19_20.copy()\n",
    "\n",
    "# Unir los DataFrames de los años 2019 y 2020 por las columnas Comunidad autónoma, Año, Plaza, Sexo, Total, Discapacidad\n",
    "Plazas = pd.merge(Plazas_copy, Plazas_19_20_copy, on=['Comunidad autónoma/provincia', 'Año', 'Plaza', 'Sexo', 'Discapacidad', 'Total'], how='outer')\n",
    "\n",
    "# Mostrar el DataFrame resultante\n",
    "Plazas"
   ]
  },
  {
   "cell_type": "code",
   "execution_count": null,
   "id": "f109b20d-6737-4021-b799-39a41fa5a9f5",
   "metadata": {},
   "outputs": [],
   "source": [
    "# Descargo archivo RG 2018-2019 \n",
    "RG_18_19 = pd.read_csv(\"RG_18_19.csv\", sep='\\t', encoding='latin1')\n",
    "\n",
    "# Añadir una nueva columna llamada 'Año' con el valor '2020' Realmente se refiere al Curso \n",
    "RG_18_19['Año'] = '2019'\n",
    "\n",
    "# Mover la columna a la posición 2. \n",
    "RG_18_19.insert(2, 'Año',RG_18_19.pop('Año'))\n",
    "\n",
    "# Añadir una nueva columna llamada \"Plaza\" con registros \"Ordinaria\" en la posición 3\n",
    "RG_18_19.insert(loc=3, column='Plaza', value='Ordinarias')\n",
    "\n",
    "# Eliminar la columna 'Titularidad/financiación del centro'\n",
    "RG_18_19 = RG_18_19.drop('Titularidad/financiación del centro', axis=1)\n",
    "\n",
    "# Eliminar la columna 'Enseñanza'\n",
    "RG_18_19 = RG_18_19.drop('Enseñanza', axis=1)"
   ]
  },
  {
   "cell_type": "code",
   "execution_count": null,
   "id": "56b86bb8-f472-4ee2-8751-4eccf86949cd",
   "metadata": {},
   "outputs": [],
   "source": [
    "NESE_18_19 = pd.read_csv(\"NESE_18_19.csv\", sep='\\t', encoding='latin1')\n",
    "\n",
    "# Añadir una nueva columna llamada 'Año' con el valor '2021' Realmente se refiere al Curso \n",
    "NESE_18_19['Año'] = '2019'\n",
    "\n",
    "# Mover la columna a la posición 2. \n",
    "NESE_18_19.insert(2, 'Año',NESE_18_19.pop('Año'))\n",
    "\n",
    "# Añadir una nueva columna llamada \"Plaza\" con registros \"Especial\" en la posición 3\n",
    "NESE_18_19.insert(loc=3, column='Plaza', value='Especiales')\n",
    "\n",
    "# Eliminar la columna 'Titularidad'\n",
    "NESE_18_19 = NESE_18_19.drop('Titularidad', axis=1)"
   ]
  },
  {
   "cell_type": "code",
   "execution_count": null,
   "id": "a8769d40-0832-4a28-92fa-0b96b6a90209",
   "metadata": {},
   "outputs": [],
   "source": [
    "# Hacer copias de los DataFrames originales\n",
    "RG_18_19_copy = RG_18_19.copy()\n",
    "NESE_18_19_copy = NESE_18_19.copy()\n",
    "\n",
    "# Unir los DataFrames por las columnas Comunidad autónoma, Año, Plaza, Sexo y Total\n",
    "Plazas_18_19 = pd.merge(RG_18_19_copy, NESE_18_19_copy, on=['Comunidad autónoma/provincia', 'Año', 'Plaza', 'Sexo', 'Total'], how='outer')\n",
    "\n",
    "# Rellenar los valores NaN con ceros\n",
    "Plazas_18_19 = Plazas_18_19.fillna(0)\n",
    "\n",
    "# Cambiar los valores de 0 en la columna de discapacidad por 'No'\n",
    "Plazas_18_19['Discapacidad'] = Plazas_18_19['Discapacidad'].replace(0, 'No')\n",
    "\n",
    "# Mostrar el DataFrame resultante\n",
    "Plazas_18_19"
   ]
  },
  {
   "cell_type": "code",
   "execution_count": null,
   "id": "125c4ee4-3343-462c-998f-4fcfd6af6c24",
   "metadata": {},
   "outputs": [],
   "source": [
    "# Hacer copia del DataFrame Plazas_18_19\n",
    "Plazas_18_19_copy = Plazas_18_19.copy()\n",
    "\n",
    "# Unir los DataFrames por las columnas Comunidad autónoma, Año, Plaza, Sexo, Discapacidad y Total\n",
    "Plazas = pd.merge(Plazas, Plazas_18_19_copy, on=['Comunidad autónoma/provincia', 'Año', 'Plaza', 'Sexo', 'Discapacidad', 'Total'], how='outer')"
   ]
  },
  {
   "cell_type": "code",
   "execution_count": null,
   "id": "dc4ca1e9-594e-4157-a935-ed97d38b7a6a",
   "metadata": {},
   "outputs": [],
   "source": [
    "# Descargo archivo RG 2017-2018 \n",
    "RG_17_18 = pd.read_csv(\"RG_17_18.csv\", sep='\\t', encoding='latin1')\n",
    "\n",
    "# Añadir una nueva columna llamada 'Año' con el valor '2020' Realmente se refiere al Curso \n",
    "RG_17_18['Año'] = '2018'\n",
    "\n",
    "# Mover la columna a la posición 2. \n",
    "RG_17_18.insert(2, 'Año',RG_17_18.pop('Año'))\n",
    "\n",
    "# Añadir una nueva columna llamada \"Plaza\" con registros \"Ordinaria\" en la posición 3\n",
    "RG_17_18.insert(loc=3, column='Plaza', value='Ordinarias')\n",
    "\n",
    "# Eliminar la columna 'Titularidad/financiación del centro'\n",
    "RG_17_18 = RG_17_18.drop('Titularidad/financiación del centro', axis=1)\n",
    "\n",
    "# Eliminar la columna 'Enseñanza'\n",
    "RG_17_18 = RG_17_18.drop('Enseñanza', axis=1)"
   ]
  },
  {
   "cell_type": "code",
   "execution_count": null,
   "id": "a36b89d4-7418-4512-9850-88de62398860",
   "metadata": {},
   "outputs": [],
   "source": [
    "NESE_17_18 = pd.read_csv(\"NESE_17_18.csv\", sep='\\t', encoding='latin1')\n",
    "\n",
    "# Añadir una nueva columna llamada 'Año' con el valor '2021' Realmente se refiere al Curso \n",
    "NESE_17_18['Año'] = '2018'\n",
    "\n",
    "# Mover la columna a la posición 2. \n",
    "NESE_17_18.insert(2, 'Año',NESE_17_18.pop('Año'))\n",
    "\n",
    "# Añadir una nueva columna llamada \"Plaza\" con registros \"Especial\" en la posición 3\n",
    "NESE_17_18.insert(loc=3, column='Plaza', value='Especiales')\n",
    "\n",
    "# Eliminar la columna 'Titularidad'\n",
    "NESE_17_18 = NESE_17_18.drop('Titularidad', axis=1)"
   ]
  },
  {
   "cell_type": "code",
   "execution_count": null,
   "id": "3eac0fc3-33e7-43aa-b3cd-2895c544b1a7",
   "metadata": {},
   "outputs": [],
   "source": [
    "# Hacer copia del DataFrame original\n",
    "RG_17_18_copy = RG_17_18.copy()\n",
    "NESE_17_18_copy = NESE_17_18.copy()\n",
    "\n",
    "# Unir los DataFrames por las columnas Comunidad autónoma, Año, Plaza, Sexo y Total\n",
    "Plazas_17_18 = pd.merge(RG_17_18_copy, NESE_17_18, on=['Comunidad autónoma/provincia', 'Año', 'Plaza', 'Sexo', 'Total'], how='outer')\n",
    "\n",
    "# Rellenar los valores NaN con ceros\n",
    "Plazas_17_18 =Plazas_17_18.fillna(0)\n",
    "\n",
    "# Cambio los valores de 0 en la columna de discapacidad por NO. \n",
    "Plazas_17_18['Discapacidad'] = Plazas_17_18['Discapacidad'].replace(0, 'No')"
   ]
  },
  {
   "cell_type": "code",
   "execution_count": null,
   "id": "1245d3ee-8bbf-454a-bf30-307ea1f5c064",
   "metadata": {},
   "outputs": [],
   "source": [
    "# Hacer copia del DataFrame original\n",
    "Plazas_copy = Plazas.copy()\n",
    "Plazas_17_18_copy = Plazas_17_18.copy()\n",
    "# Unir los DataFrames de Plazas con 2019 por las columnas Comunidad autónoma, Año, Plaza, Sexo, Total, Discapacidad.\n",
    "Plazas = pd.merge(Plazas_copy, Plazas_17_18 , on=['Comunidad autónoma/provincia', 'Año', 'Plaza', 'Sexo','Discapacidad','Total'], how='outer')\n",
    "# Cambiar el nombre de la columna 'Año', por 'Año finalización curso'.\n",
    "Plazas.rename(columns={'Año': 'Año finalización curso'}, inplace=True)\n",
    "\n",
    "# Cambiar el nombre de la columna Total, por 'Total plazas matriculaciones'.\n",
    "Plazas.rename(columns={'Total': 'Total plazas matriculaciones'}, inplace=True)\n",
    "\n",
    "# Cambiar el nombre de la columna 'Plaza', por 'Tipo de plazas'.\n",
    "Plazas.rename(columns={'Plaza': 'Tipo de plazas'}, inplace=True)\n",
    "\n",
    "Plazas "
   ]
  },
  {
   "cell_type": "code",
   "execution_count": null,
   "id": "ae3f9262-5465-429a-994a-2c9cb84c590b",
   "metadata": {},
   "outputs": [],
   "source": [
    "Plazas = Plazas.copy()"
   ]
  },
  {
   "cell_type": "markdown",
   "id": "18b72b45-65a0-4050-a857-eb0043db104b",
   "metadata": {},
   "source": [
    "YA TENGO LA BASE DE DATOS CREADAAAAAAA!!!!!"
   ]
  },
  {
   "cell_type": "markdown",
   "id": "5fd7d80e-d513-4586-b1b9-0478e9b1ab55",
   "metadata": {},
   "source": [
    "Vale, pues ahora me encuentro que los datos en la columna de Comunidad autónoma/provincia, tienen diferentes valores que no me lo ha registrado correctamente. Así que verifico los valores únicos de la columna y visualizo los errores. De ahí, aplico str.strip para eliminar los espacios en blanco no deseados y así limpiar los registros de la columna."
   ]
  },
  {
   "cell_type": "code",
   "execution_count": null,
   "id": "eb512f03-2ad7-4dfc-ad66-376db3b30c28",
   "metadata": {},
   "outputs": [],
   "source": [
    "valores_unicos_comunidad = Plazas['Comunidad autónoma/provincia'].unique()\n",
    "valores_unicos_comunidad"
   ]
  },
  {
   "cell_type": "code",
   "execution_count": null,
   "id": "b350f2fe-fd8f-4212-98b3-83ddb8c780ff",
   "metadata": {},
   "outputs": [],
   "source": [
    "# Filtrar las filas donde la \"Comunidad autónoma/provincia\" sea Barcelona\n",
    "df_barcelona = Plazas[Plazas['Tipo de plazas'] == 'Especiales']"
   ]
  },
  {
   "cell_type": "code",
   "execution_count": null,
   "id": "7a3ff512-7037-4ff7-8e21-3d9cceb0e0b4",
   "metadata": {},
   "outputs": [],
   "source": [
    "df_barcelona"
   ]
  },
  {
   "cell_type": "markdown",
   "id": "deccf7aa-e083-4578-8a57-8614185f9dcb",
   "metadata": {},
   "source": [
    "Me encunetro que algún registro de la misma columna Comunidad, está duplicado. Entonces, verifico los casos que hay más de cada uno de ellos. Así que, el tenga más, pues es la descripción que aplico para el resto. De esta manera todos los mismos registros se unificarán y no me causarán errores."
   ]
  },
  {
   "cell_type": "code",
   "execution_count": null,
   "id": "defeca98-6b47-46b5-a536-ba0acef258f3",
   "metadata": {},
   "outputs": [],
   "source": [
    "# Limpiar los valores de la columna 'Comunidad autónoma/provincia' eliminando los espacios en blanco no deseados\n",
    "Plazas['Comunidad autónoma/provincia'] = Plazas['Comunidad autónoma/provincia'].str.strip()\n",
    "\n",
    "# Obtener los registros únicos de la columna \"Comunidad autónoma\"\n",
    "comunidades_autonomas = Plazas['Comunidad autónoma/provincia'].unique()\n",
    "\n",
    "# Mostrar los registros únicos\n",
    "print(comunidades_autonomas)"
   ]
  },
  {
   "cell_type": "code",
   "execution_count": null,
   "id": "25c53f9a-76bb-4ebb-86b2-8479b087574a",
   "metadata": {},
   "outputs": [],
   "source": [
    "# Contar el número de registros para cada entrada de \"Navarra\"\n",
    "conteo_navarra_1 = len(Plazas[Plazas['Comunidad autónoma/provincia'] == '15 NAVARRA, COMUNIDAD FORAL DE'])\n",
    "conteo_navarra_2 = len(Plazas[Plazas['Comunidad autónoma/provincia'] == '15 NAVARRA (Comunidad Foral de) (3)'])\n",
    "\n",
    "# Mostrar los conteos\n",
    "print(\"Número de registros para '15 NAVARRA, COMUNIDAD FORAL DE':\", conteo_navarra_1)\n",
    "print(\"Número de registros para '15 NAVARRA (Comunidad Foral de) (3)':\", conteo_navarra_2)"
   ]
  },
  {
   "cell_type": "code",
   "execution_count": null,
   "id": "748dde64-82d3-415b-9ad2-a74953148171",
   "metadata": {},
   "outputs": [],
   "source": [
    "# Actualizar el nombre de '15 NAVARRA (Comunidad Foral de) (3)' a '15 NAVARRA, COMUNIDAD FORAL DE'\n",
    "Plazas.loc[Plazas['Comunidad autónoma/provincia'] == '15 NAVARRA (Comunidad Foral de) (3)', 'Comunidad autónoma/provincia'] = '15 NAVARRA, COMUNIDAD FORAL DE'\n",
    "\n",
    "# Obtener los registros únicos de la columna \"Comunidad autónoma\"\n",
    "comunidades_autonomas = Plazas['Comunidad autónoma/provincia'].unique()\n",
    "\n",
    "# Mostrar los registros únicos\n",
    "print(comunidades_autonomas)"
   ]
  },
  {
   "cell_type": "markdown",
   "id": "2c0bdd9f-52da-485d-b402-6c460edbc30a",
   "metadata": {},
   "source": [
    "Me encuentro también que hasta 2021 se pasa a llamar trastorno del espectro autismo, pero anteriormente se llamaba Trastornos generalizados del desarrollo. La definición de Trastornos generalizados del desarrollo, dice que es:\n",
    "\n",
    "Los trastornos generalizados del desarrollo (TGD) son un grupo de trastornos del neurodesarrollo que afectan la capacidad del individuo para interactuar y comunicarse con los demás, así como para comprender y adaptarse al entorno social que lo rodea. Estos trastornos suelen manifestarse en la infancia temprana y persistir a lo largo de toda la vida de la persona.dad de vida."
   ]
  },
  {
   "cell_type": "markdown",
   "id": "68b49b45-76ff-4091-93c3-ebf315d56eaf",
   "metadata": {},
   "source": [
    "Algunos ejemplos de trastornos generalizados del desarrollo incluyen:\n",
    "\n",
    "1. Trastorno del espectro autista (TEA): Es un trastorno del desarrollo que se caracteriza por déficits en la comunicación social y patrones de comportamiento repetitivos o restrictivos.\n",
    "\n",
    "2. Trastorno de Asperger: Anteriormente se consideraba una condición separada, pero ahora se considera parte del espectro autista. Se caracteriza por dificultades en la interacción social y patrones de comportamiento repetitivos, pero generalmente no hay retrasos significativos en el desarrollo del lenguaje o cognitivo.\n",
    "\n",
    "3. Trastorno desintegrativo infantil: Es un trastorno poco común que implica la pérdida de habilidades previamente adquiridas, como el lenguaje, las habilidades sociales y motoras, después de un período de desarrollo normal.\n",
    "\n",
    "4. Trastorno generalizado del desarrollo no especificado (PDD-NOS): Se utiliza cuando una persona tiene algunos síntomas de los trastornos del espectro autista pero no cumple con todos los criterios para un diagnóstico específico."
   ]
  },
  {
   "cell_type": "markdown",
   "id": "ceeb7524-3863-41a3-99fe-68c3f1288666",
   "metadata": {},
   "source": [
    "Estos trastornos pueden manifestarse de diversas maneras y con diferentes grados de gravedad, desde formas leves hasta formas más graves que afectan significativamente la vida diaria y la capacidad de funcionamiento de la persona. El diagnóstico y tratamiento tempranos son importantes para ayudar a las personas con trastornos generalizados del desarrollo a maximizar su potencial y mejorar su cali\n",
    "\n",
    "Básicamente se relacionaba a lo que ahora se le llama Autismo.\n",
    "\n",
    "Así que también hago un cambio en des descripción de la discapacidad, para que no me lo separe y lo intergre todo conjuntamente. dad de vida."
   ]
  },
  {
   "cell_type": "code",
   "execution_count": null,
   "id": "4f32eb40-3b9a-48ad-b3b4-518663631cf6",
   "metadata": {},
   "outputs": [],
   "source": [
    "# Obtener los registros únicos de la columna \"Discapacidad\"\n",
    "Discapacidad = Plazas['Discapacidad'].unique()\n",
    "\n",
    "# Mostrar los registros únicos\n",
    "print(Discapacidad)"
   ]
  },
  {
   "cell_type": "code",
   "execution_count": null,
   "id": "198db058-62ec-442f-82ce-3508107af75b",
   "metadata": {},
   "outputs": [],
   "source": [
    "# Actualizar el nombre de 'Trastornos graves de conducta' a 'Trastornos graves de conducta/personalidad'\n",
    "Plazas.loc[Plazas['Discapacidad'] == 'Trastornos graves de conducta', 'Discapacidad'] = 'Trastornos graves de conducta/personalidad'\n",
    "\n",
    "# Actualizar el nombre de 'Trastornos generalizados del desarrollo' a 'Trastornos del espectro del autismo (2)'\n",
    "Plazas.loc[Plazas['Discapacidad'] == 'Trastornos generalizados del desarrollo', 'Discapacidad'] = 'Trastornos del espectro del autismo (2)'\n",
    "\n",
    "# Obtener los registros únicos de la columna \"Comunidad autónoma\"\n",
    "Discapacidad = Plazas['Discapacidad'].unique()\n",
    "\n",
    "# Mostrar los registros únicos\n",
    "print(Discapacidad)"
   ]
  },
  {
   "cell_type": "code",
   "execution_count": null,
   "id": "baf041d4-293f-463c-8b2f-04c4e7a4e6c7",
   "metadata": {},
   "outputs": [],
   "source": [
    "Plazas = Plazas.copy()"
   ]
  },
  {
   "cell_type": "code",
   "execution_count": null,
   "id": "2d252c53-3c44-4ab4-84ba-7e63d8cf44cb",
   "metadata": {},
   "outputs": [],
   "source": [
    "# Mover la columna 'Tipo de plazas' a la posición 2\n",
    "nombre_columna = 'Tipo de plazas'\n",
    "posicion_deseada = 1  # Posición basada en 0\n",
    "columna_extraida = Plazas.pop(nombre_columna)  # Extraer la columna\n",
    "Plazas.insert(posicion_deseada, nombre_columna, columna_extraida)\n",
    "Plazas"
   ]
  },
  {
   "cell_type": "code",
   "execution_count": null,
   "id": "fc463651-2106-4262-b962-4453c50b7c21",
   "metadata": {},
   "outputs": [],
   "source": [
    "Plazas = Plazas.copy()"
   ]
  },
  {
   "cell_type": "code",
   "execution_count": null,
   "id": "f962bc86-49b2-4376-b50b-97d52c810118",
   "metadata": {},
   "outputs": [],
   "source": [
    "Plazas.info()"
   ]
  },
  {
   "cell_type": "markdown",
   "id": "337404b6-1f08-4334-ade8-79d2bea3b8aa",
   "metadata": {},
   "source": [
    "La columna de 'Año de finalización curso' estaba como object y tiene que estar cambiada a 'int', para convertirlo en datos enteros. La columna de 'Total plazas matriculaciones también está mal considerada, ya que está como Float, números con parte entera y parte fraccional, realmente son número enteros. Así que también realizo el cambio a int."
   ]
  },
  {
   "cell_type": "markdown",
   "id": "12529baa-8791-4260-a58a-940be015065c",
   "metadata": {},
   "source": [
    "Aquí me encunetro con otro error, los registros de la columna de Total plazas matriculaciones me está contabilizando el punto separador de miles, como si fuera una coma. Entonces me lo contabiliza como decimal. ¿Qúe pasa? pues que los datos no están bien. Así que tnego que quitar el punto. Pero además los números enteros como por ejemplo 70, me pone un punto al final 70. Entonces al quitar el (.) me transforma de 70 a 700 y ese valor tampoco es correcto. Entonces empiezo a trastear, hasta que consigo quitar el punto de todas, sin que ello me modifica las cifras."
   ]
  },
  {
   "cell_type": "code",
   "execution_count": null,
   "id": "0d560928-b735-4872-9d04-ccb3e13d4c67",
   "metadata": {},
   "outputs": [],
   "source": [
    "print(Plazas['Total plazas matriculaciones'].unique())"
   ]
  },
  {
   "cell_type": "code",
   "execution_count": null,
   "id": "3b51e5e0-dbba-44d3-998c-d319da6dd136",
   "metadata": {},
   "outputs": [],
   "source": [
    "# Define una función para eliminar los puntos de los miles en un número\n",
    "def eliminar_puntos(numero):\n",
    "    if isinstance(numero, str):\n",
    "        return numero.replace('.', '')\n",
    "    else:\n",
    "        return numero\n",
    "\n",
    "# Aplica la función a la columna 'Total plazas matriculaciones'\n",
    "Plazas['Total plazas matriculaciones'] = Plazas['Total plazas matriculaciones'].apply(eliminar_puntos)\n",
    "\n",
    "# Convierte la columna al tipo de datos adecuado (float)\n",
    "Plazas['Total plazas matriculaciones'] = Plazas['Total plazas matriculaciones'].astype(float)\n",
    "\n",
    "print(Plazas['Total plazas matriculaciones'].unique())"
   ]
  },
  {
   "cell_type": "code",
   "execution_count": null,
   "id": "c7735fd9-678c-4bfe-8565-4422afc803ac",
   "metadata": {},
   "outputs": [],
   "source": [
    "import re\n",
    "\n",
    "def clean_value(x):\n",
    "    # Utilizamos una expresión regular para encontrar los números decimales y eliminar los ceros adicionales\n",
    "    cleaned_value = re.sub(r'(\\d+)\\.(\\d+)', lambda match: f\"{match.group(1)}.{match.group(2).rstrip('0').lstrip('0')}\", x)\n",
    "    # Eliminamos los puntos decimales de los números enteros y eliminamos los ceros adicionales\n",
    "    cleaned_value = re.sub(r'\\.(\\d+)', lambda match: match.group(1).rstrip('0').lstrip('0'), cleaned_value)\n",
    "    # Eliminamos los puntos finales que puedan quedar al final del número\n",
    "    cleaned_value = cleaned_value.rstrip('.')\n",
    "    return cleaned_value\n",
    "\n",
    "Plazas['Total plazas matriculaciones'] = Plazas['Total plazas matriculaciones'].astype(str).apply(clean_value)\n",
    "\n",
    "print(Plazas['Total plazas matriculaciones'].unique())"
   ]
  },
  {
   "cell_type": "code",
   "execution_count": null,
   "id": "1c025cb3-7d49-4861-85e2-3020c91f1647",
   "metadata": {},
   "outputs": [],
   "source": [
    "Plazas.info()"
   ]
  },
  {
   "cell_type": "code",
   "execution_count": null,
   "id": "73470e22-8ed6-43fd-a85d-0c847e3ba3ae",
   "metadata": {},
   "outputs": [],
   "source": [
    "Plazas['Total plazas matriculaciones'] = Plazas['Total plazas matriculaciones'].astype('int64')\n",
    "\n",
    "Plazas.info()"
   ]
  },
  {
   "cell_type": "code",
   "execution_count": null,
   "id": "6255626e-2e33-4d09-b4cd-9372f45fbaf4",
   "metadata": {},
   "outputs": [],
   "source": [
    "print(Plazas['Total plazas matriculaciones'].unique())"
   ]
  },
  {
   "cell_type": "code",
   "execution_count": null,
   "id": "1b5f3c0c-eb5e-4223-955c-a7ffa8c9c1fe",
   "metadata": {},
   "outputs": [],
   "source": [
    "# Convertir la columna 'Año finalización curso' a tipo string\n",
    "Plazas['Año finalización curso'] = Plazas['Año finalización curso'].astype(str)\n",
    "\n",
    "Plazas.info()"
   ]
  },
  {
   "cell_type": "code",
   "execution_count": null,
   "id": "008fbb8c-8e7d-4054-92c6-19eeb59357f7",
   "metadata": {},
   "outputs": [],
   "source": [
    "print(Plazas['Año finalización curso'].dtype)"
   ]
  },
  {
   "cell_type": "code",
   "execution_count": null,
   "id": "54e01803-f65b-46d9-9523-e1530818dcd1",
   "metadata": {},
   "outputs": [],
   "source": [
    "# Filtrar valores no numéricos en la columna 'Año finalización curso'\n",
    "non_numeric_values = Plazas[~Plazas['Año finalización curso'].str.isnumeric()]['Año finalización curso']\n",
    "\n",
    "# Imprimir los valores no numéricos\n",
    "print(non_numeric_values)"
   ]
  },
  {
   "cell_type": "code",
   "execution_count": null,
   "id": "b2329ae0-ba4b-4770-a47c-1c8579c28e53",
   "metadata": {},
   "outputs": [],
   "source": [
    "print(Plazas['Año finalización curso'].unique())"
   ]
  },
  {
   "cell_type": "code",
   "execution_count": null,
   "id": "f1762cc6-af47-404b-abe8-87e4dd427e40",
   "metadata": {},
   "outputs": [],
   "source": [
    "Plazas['Año finalización curso'] = Plazas['Año finalización curso'].astype(int)"
   ]
  },
  {
   "cell_type": "code",
   "execution_count": null,
   "id": "e6b1acac-73b9-4db3-a6d4-69bf198dd5de",
   "metadata": {},
   "outputs": [],
   "source": [
    "Plazas = Plazas.copy()\n",
    "Plazas.info()"
   ]
  },
  {
   "cell_type": "markdown",
   "id": "84e20ff4-d82c-4bdf-951a-a83edeb5f2f1",
   "metadata": {},
   "source": [
    "Finalmente lo he conseguido así que puedo hacer el cambio de dtype de los datos para que porfin ya estén correctos."
   ]
  },
  {
   "cell_type": "code",
   "execution_count": null,
   "id": "041af5cb-a923-47ad-bfc7-1c6007536b6e",
   "metadata": {},
   "outputs": [],
   "source": [
    "# Filtrar las filas correspondientes a la Comunidad autónoma/provincia 09 CATALUÑA y tipo de plazas especiales\n",
    "plazas_especiales_cataluna = Plazas[(Plazas['Comunidad autónoma/provincia'] == '05 CANARIAS') & \n",
    "                                    (Plazas['Tipo de plazas'] == 'Especiales')]\n",
    "\n",
    "# Filtrar los datos solo para el año 2022\n",
    "df_2022 = Plazas[Plazas['Año finalización curso'] == 2022]\n",
    "\n",
    "# Mostrar todos los datos de las columnas para el año 2022\n",
    "with pd.option_context('display.max_rows', None, 'display.max_columns', None):\n",
    "    df_2022"
   ]
  },
  {
   "cell_type": "code",
   "execution_count": null,
   "id": "8f4eaa24-5c98-47c4-8800-cdb1b9f9d5c0",
   "metadata": {},
   "outputs": [],
   "source": [
    "df_2022"
   ]
  },
  {
   "cell_type": "markdown",
   "id": "93eef93e-71b6-45b9-9fc7-f3f6caac9e8a",
   "metadata": {},
   "source": [
    "Pues No, todavía no están bien todos los datos.\n",
    "Cuando cargué los datasets de Registros generales, me dí cuenta de que el número de plazas matriculadas por Comunidad, no corresponde con lo que quiero trabajar. Es decir, cuando se habla de Registros Genereales, se incluyen todas las plazas especiales más las plazas Ordinarias, es decir el computo de ambas. Mi interés por diferenciar el total de plazas Ordinarias y Especiales, principalmente es para saber que porcentaje de plazas especiales se asignan por comunidad en función de las plazas Ordinales. Y de este modo poder saber si realmente existe un porcentaje mayor o más de lo previsto por Comuindad. Así que lo que realizo ahora simplemnete es una modificación de los registros de las plazas Ordinales de Hombres y Mujeres de cada Comunidad autónoma por cada año, que en este caso son 5 años, sin modificar los registros de las plazas Especiales."
   ]
  },
  {
   "cell_type": "code",
   "execution_count": null,
   "id": "5f70ce41-4b97-4b93-bb3b-bc233a8b89d8",
   "metadata": {},
   "outputs": [],
   "source": [
    "# Diccionario de plazas ordinarias de hombres por comunidad autónoma\n",
    "plazas_hombres = {\n",
    "    '01 ANDALUCÍA': 798099,\n",
    "    '02 ARAGÓN': 112841,\n",
    "    '03 ASTURIAS, PRINCIPADO DE': 66721,\n",
    "    '04 BALEARS, ILLES': 97068,\n",
    "    '05 CANARIAS': 165638,\n",
    "    '06 CANTABRIA': 46862,\n",
    "    '07 CASTILLA Y LEÓN': 171251,\n",
    "    '08 CASTILLA-LA MANCHA': 182962,\n",
    "    '09 CATALUÑA': 694616,\n",
    "    'Barcelona': 502282,\n",
    "    'Girona': 68615,\n",
    "    'Lleida': 49595,\n",
    "    'Tarragona': 74124,\n",
    "    '10 COMUNITAT VALENCIANA': 449753,\n",
    "    '11 EXTREMADURA': 87310,\n",
    "    '12 GALICIA': 196730,\n",
    "    '13 MADRID, COMUNIDAD DE': 617463,\n",
    "    '14 MURCIA, REGIÓN DE': 150790,\n",
    "    '15 NAVARRA (Comunidad Foral de) (3)': 59530,\n",
    "    '16 PAÍS VASCO': 189047,\n",
    "    '17 RIOJA, LA': 28670,\n",
    "    '18 CEUTA': 9628,\n",
    "    '19 MELILLA': 10360\n",
    "}\n",
    "\n",
    "# Diccionario de plazas ordinarias de mujeres por comunidad autónoma\n",
    "plazas_mujeres = {\n",
    "    '01 ANDALUCÍA': 770165,\n",
    "    '02 ARAGÓN': 105110,\n",
    "    '03 ASTURIAS, PRINCIPADO DE': 63932,\n",
    "    '04 BALEARS, ILLES': 91797,\n",
    "    '05 CANARIAS': 163993,\n",
    "    '06 CANTABRIA': 45060,\n",
    "    '07 CASTILLA Y LEÓN': 161263,\n",
    "    '08 CASTILLA-LA MANCHA': 173693,\n",
    "    '09 CATALUÑA': 681427,\n",
    "    'Barcelona': 483460,\n",
    "    'Girona': 65570,\n",
    "    'Lleida': 62730,\n",
    "    'Tarragona': 69667,\n",
    "    '10 COMUNITAT VALENCIANA': 424172,\n",
    "    '11 EXTREMADURA': 82402,\n",
    "    '12 GALICIA': 189185,\n",
    "    '13 MADRID, COMUNIDAD DE': 590850,\n",
    "    '14 MURCIA, REGIÓN DE': 138973,\n",
    "    '15 NAVARRA (Comunidad Foral de) (3)': 55799,\n",
    "    '16 PAÍS VASCO': 172326,\n",
    "    '17 RIOJA, LA': 26909,\n",
    "    '18 CEUTA': 9390,\n",
    "    '19 MELILLA': 10000\n",
    "}\n",
    "# Actualizar los valores de 'Total plazas matriculaciones' en el DataFrame para hombres y mujeres\n",
    "for index, row in Plazas.iterrows():\n",
    "    if (row['Año finalización curso'] == 2022 and \n",
    "        row['Tipo de plazas'] == 'Ordinarias' and \n",
    "        row['Discapacidad'] == 'No'):\n",
    "        \n",
    "        comunidad = row['Comunidad autónoma/provincia']\n",
    "        sexo = row['Sexo']\n",
    "        \n",
    "        if comunidad in plazas_hombres and sexo == 'Hombres':\n",
    "            Plazas.at[index, 'Total plazas matriculaciones'] = plazas_hombres[comunidad]\n",
    "        elif comunidad in plazas_mujeres and sexo == 'Mujeres':\n",
    "            Plazas.at[index, 'Total plazas matriculaciones'] = plazas_mujeres[comunidad]"
   ]
  },
  {
   "cell_type": "code",
   "execution_count": null,
   "id": "8d785768-2769-45ed-9e91-a6dbe6e3c511",
   "metadata": {},
   "outputs": [],
   "source": [
    "# Diccionario de plazas ordinarias de hombres por comunidad autónoma para el año 2021\n",
    "plazas_hombres_2021 = {\n",
    "    '01 ANDALUCÍA': 796023,\n",
    "    '02 ARAGÓN': 112429,\n",
    "    '03 ASTURIAS, PRINCIPADO DE': 67709,\n",
    "    '04 BALEARS, ILLES': 97377,\n",
    "    '05 CANARIAS': 167624,\n",
    "    '06 CANTABRIA': 47189,\n",
    "    '07 CASTILLA Y LEÓN': 172827,\n",
    "    '08 CASTILLA-LA MANCHA': 183092,\n",
    "    '09 CATALUÑA': 691519,\n",
    "    'Barcelona': 502786,\n",
    "    'Girona': 68524,\n",
    "    'Lleida': 46427,\n",
    "    'Tarragona': 73782,\n",
    "    '10 COMUNITAT VALENCIANA': 450421,\n",
    "    '11 EXTREMADURA': 87560,\n",
    "    '12 GALICIA': 197702,\n",
    "    '13 MADRID, COMUNIDAD DE': 615405,\n",
    "    '14 MURCIA, REGIÓN DE': 151271,\n",
    "    '15 NAVARRA (Comunidad Foral de) (3)': 57101,\n",
    "    '16 PAÍS VASCO': 190449,\n",
    "    '17 RIOJA, LA': 28078,\n",
    "    '18 CEUTA': 9913,\n",
    "    '19 MELILLA': 10497\n",
    "}\n",
    "\n",
    "# Diccionario de plazas ordinarias de mujeres por comunidad autónoma para el año 2021\n",
    "plazas_mujeres_2021 = {\n",
    "    '01 ANDALUCÍA': 767490,\n",
    "    '02 ARAGÓN': 104425,\n",
    "    '03 ASTURIAS, PRINCIPADO DE': 64760,\n",
    "    '04 BALEARS, ILLES': 91303,\n",
    "    '05 CANARIAS': 165040,\n",
    "    '06 CANTABRIA': 45325,\n",
    "    '07 CASTILLA Y LEÓN': 162787,\n",
    "    '08 CASTILLA-LA MANCHA': 173449,\n",
    "    '09 CATALUÑA': 671113,\n",
    "    'Barcelona': 483266,\n",
    "    'Girona': 65520,\n",
    "    'Lleida': 53338,\n",
    "    'Tarragona': 68989,\n",
    "    '10 COMUNITAT VALENCIANA': 424751,\n",
    "    '11 EXTREMADURA': 83288,\n",
    "    '12 GALICIA': 190007,\n",
    "    '13 MADRID, COMUNIDAD DE': 587995,\n",
    "    '14 MURCIA, REGIÓN DE': 138881,\n",
    "    '15 NAVARRA (Comunidad Foral de) (3)': 54739,\n",
    "    '16 PAÍS VASCO': 174190,\n",
    "    '17 RIOJA, LA': 26542,\n",
    "    '18 CEUTA': 9650,\n",
    "    '19 MELILLA': 10087\n",
    "}\n",
    "# Actualizar los valores de 'Total plazas matriculaciones' en el DataFrame para hombres y mujeres\n",
    "for index, row in Plazas.iterrows():\n",
    "    if (row['Año finalización curso'] == 2021 and \n",
    "        row['Tipo de plazas'] == 'Ordinarias' and \n",
    "        row['Discapacidad'] == 'No'):\n",
    "        \n",
    "        comunidad = row['Comunidad autónoma/provincia']\n",
    "        sexo = row['Sexo']\n",
    "        \n",
    "        if comunidad in plazas_hombres and sexo == 'Hombres':\n",
    "            Plazas.at[index, 'Total plazas matriculaciones'] = plazas_hombres_2021[comunidad]\n",
    "        elif comunidad in plazas_mujeres and sexo == 'Mujeres':\n",
    "            Plazas.at[index, 'Total plazas matriculaciones'] = plazas_mujeres_2021[comunidad]"
   ]
  },
  {
   "cell_type": "code",
   "execution_count": null,
   "id": "9ccd0772-bc8c-4056-a5d7-317cb90ab165",
   "metadata": {},
   "outputs": [],
   "source": [
    "# Diccionario de plazas ordinarias de hombres por comunidad autónoma para el año 2020\n",
    "plazas_hombres_2020 = {\n",
    "    '01 ANDALUCÍA': 830411,\n",
    "    '02 ARAGÓN': 114943,\n",
    "    '03 ASTURIAS, PRINCIPADO DE': 70750,\n",
    "    '04 BALEARS, ILLES': 100617,\n",
    "    '05 CANARIAS': 176822,\n",
    "    '06 CANTABRIA': 48462,\n",
    "    '07 CASTILLA Y LEÓN': 179734,\n",
    "    '08 CASTILLA-LA MANCHA': 187861,\n",
    "    '09 CATALUÑA': 711783,\n",
    "    'Barcelona': 520398,\n",
    "    'Girona': 70708,\n",
    "    'Lleida': 44374,\n",
    "    'Tarragona': 76303,\n",
    "    '10 COMUNITAT VALENCIANA': 455708,\n",
    "    '11 EXTREMADURA': 89974,\n",
    "    '12 GALICIA': 210048,\n",
    "    '13 MADRID, COMUNIDAD DE': 632698,\n",
    "    '14 MURCIA, REGIÓN DE': 157148,\n",
    "    '15 NAVARRA (Comunidad Foral de) (3)': 60723,\n",
    "    '16 PAÍS VASCO': 198313,\n",
    "    '17 RIOJA, LA': 28886,\n",
    "    '18 CEUTA': 10455,\n",
    "    '19 MELILLA': 11055\n",
    "}\n",
    "\n",
    "# Diccionario de plazas ordinarias de mujeres por comunidad autónoma para el año 2020\n",
    "plazas_mujeres_2020 = {\n",
    "    '01 ANDALUCÍA': 767490,\n",
    "    '02 ARAGÓN': 104425,\n",
    "    '03 ASTURIAS, PRINCIPADO DE': 64760,\n",
    "    '04 BALEARS, ILLES': 91303,\n",
    "    '05 CANARIAS': 165040,\n",
    "    '06 CANTABRIA': 45325,\n",
    "    '07 CASTILLA Y LEÓN': 162787,\n",
    "    '08 CASTILLA-LA MANCHA': 173449,\n",
    "    '09 CATALUÑA': 671113,\n",
    "    'Barcelona': 483266,\n",
    "    'Girona': 65520,\n",
    "    'Lleida': 53338,\n",
    "    'Tarragona': 68989,\n",
    "    '10 COMUNITAT VALENCIANA': 424751,\n",
    "    '11 EXTREMADURA': 83288,\n",
    "    '12 GALICIA': 190007,\n",
    "    '13 MADRID, COMUNIDAD DE': 587995,\n",
    "    '14 MURCIA, REGIÓN DE': 138881,\n",
    "    '15 NAVARRA (Comunidad Foral de) (3)': 54739,\n",
    "    '16 PAÍS VASCO': 174190,\n",
    "    '17 RIOJA, LA': 26542,\n",
    "    '18 CEUTA': 9650,\n",
    "    '19 MELILLA': 10087\n",
    "}\n",
    "# Actualizar los valores de 'Total plazas matriculaciones' en el DataFrame para hombres y mujeres\n",
    "for index, row in Plazas.iterrows():\n",
    "    if (row['Año finalización curso'] == 2020 and \n",
    "        row['Tipo de plazas'] == 'Ordinarias' and \n",
    "        row['Discapacidad'] == 'No'):\n",
    "        \n",
    "        comunidad = row['Comunidad autónoma/provincia']\n",
    "        sexo = row['Sexo']\n",
    "        \n",
    "        if comunidad in plazas_hombres and sexo == 'Hombres':\n",
    "            Plazas.at[index, 'Total plazas matriculaciones'] = plazas_hombres_2020[comunidad]\n",
    "        elif comunidad in plazas_mujeres and sexo == 'Mujeres':\n",
    "            Plazas.at[index, 'Total plazas matriculaciones'] = plazas_mujeres_2020[comunidad]"
   ]
  },
  {
   "cell_type": "code",
   "execution_count": null,
   "id": "0ed9e32e-f881-4e8e-bf46-4e1c06181266",
   "metadata": {},
   "outputs": [],
   "source": [
    "# Diccionario de plazas ordinarias de hombres por comunidad autónoma para el año 2019\n",
    "plazas_hombres_2019 = {\n",
    "    '01 ANDALUCÍA': 824514,\n",
    "    '02 ARAGÓN': 113508,\n",
    "    '03 ASTURIAS, PRINCIPADO DE': 70526,\n",
    "    '04 BALEARS, ILLES': 98963,\n",
    "    '05 CANARIAS': 176734,\n",
    "    '06 CANTABRIA': 48154,\n",
    "    '07 CASTILLA Y LEÓN': 179327,\n",
    "    '08 CASTILLA-LA MANCHA': 186258,\n",
    "    '09 CATALUÑA': 699442,\n",
    "    'Barcelona': 512379,\n",
    "    'Girona': 69694,\n",
    "    'Lleida': 42084,\n",
    "    'Tarragona': 75285,\n",
    "    '10 COMUNITAT VALENCIANA': 449109,\n",
    "    '11 EXTREMADURA': 90271,\n",
    "    '12 GALICIA': 207997,\n",
    "    '13 MADRID, COMUNIDAD DE': 620450,\n",
    "    '14 MURCIA, REGIÓN DE': 153805,\n",
    "    '15 NAVARRA (Comunidad Foral de) (3)': 59599,\n",
    "    '16 PAÍS VASCO': 197765,\n",
    "    '17 RIOJA, LA': 28205,\n",
    "    '18 CEUTA': 10403,\n",
    "    '19 MELILLA': 10837\n",
    "}\n",
    "\n",
    "# Diccionario de plazas ordinarias de mujeres por comunidad autónoma para el año 2019\n",
    "plazas_mujeres_2019 = {\n",
    "    '01 ANDALUCÍA': 778869,\n",
    "    '02 ARAGÓN': 104966,\n",
    "    '03 ASTURIAS, PRINCIPADO DE': 65704,\n",
    "    '04 BALEARS, ILLES': 89463,\n",
    "    '05 CANARIAS': 169406,\n",
    "    '06 CANTABRIA': 45713,\n",
    "    '07 CASTILLA Y LEÓN': 166431,\n",
    "    '08 CASTILLA-LA MANCHA': 174450,\n",
    "    '09 CATALUÑA': 662553,\n",
    "    'Barcelona': 484360,\n",
    "    'Girona': 65811,\n",
    "    'Lleida': 42719,\n",
    "    'Tarragona': 69663,\n",
    "    '10 COMUNITAT VALENCIANA': 421178,\n",
    "    '11 EXTREMADURA': 85525,\n",
    "    '12 GALICIA': 193955,\n",
    "    '13 MADRID, COMUNIDAD DE': 584850,\n",
    "    '14 MURCIA, REGIÓN DE': 139251,\n",
    "    '15 NAVARRA (Comunidad Foral de) (3)': 55412,\n",
    "    '16 PAÍS VASCO': 177818,\n",
    "    '17 RIOJA, LA': 26546,\n",
    "    '18 CEUTA': 9948,\n",
    "    '19 MELILLA': 10387\n",
    "}\n",
    "# Actualizar los valores de 'Total plazas matriculaciones' en el DataFrame para hombres y mujeres\n",
    "for index, row in Plazas.iterrows():\n",
    "    if (row['Año finalización curso'] == 2029 and \n",
    "        row['Tipo de plazas'] == 'Ordinarias' and \n",
    "        row['Discapacidad'] == 'No'):\n",
    "        \n",
    "        comunidad = row['Comunidad autónoma/provincia']\n",
    "        sexo = row['Sexo']\n",
    "        \n",
    "        if comunidad in plazas_hombres and sexo == 'Hombres':\n",
    "            Plazas.at[index, 'Total plazas matriculaciones'] = plazas_hombres_2019[comunidad]\n",
    "        elif comunidad in plazas_mujeres and sexo == 'Mujeres':\n",
    "            Plazas.at[index, 'Total plazas matriculaciones'] = plazas_mujeres_2019[comunidad]"
   ]
  },
  {
   "cell_type": "code",
   "execution_count": null,
   "id": "fcb2f492-c9f7-4e9c-9c19-88a45c0265a1",
   "metadata": {},
   "outputs": [],
   "source": [
    "# Diccionario de plazas ordinarias de hombres por comunidad autónoma para el año 2018\n",
    "plazas_hombres_2018 = {\n",
    "    '01 ANDALUCÍA': 825162,\n",
    "    '02 ARAGÓN': 112815,\n",
    "    '03 ASTURIAS, PRINCIPADO DE': 70608,\n",
    "    '04 BALEARS, ILLES': 97340,\n",
    "    '05 CANARIAS': 177948,\n",
    "    '06 CANTABRIA': 48227,\n",
    "    '07 CASTILLA Y LEÓN': 180888,\n",
    "    '08 CASTILLA-LA MANCHA': 186527,\n",
    "    '09 CATALUÑA': 693353,\n",
    "    'Barcelona': 508574,\n",
    "    'Girona': 68980,\n",
    "    'Lleida': 41002,\n",
    "    'Tarragona': 74797,\n",
    "    '10 COMUNITAT VALENCIANA': 446971,\n",
    "    '11 EXTREMADURA': 91648,\n",
    "    '12 GALICIA': 207600,\n",
    "    '13 MADRID, COMUNIDAD DE': 614646,\n",
    "    '14 MURCIA, REGIÓN DE': 152661,\n",
    "    '15 NAVARRA (Comunidad Foral de) (3)': 58726,\n",
    "    '16 PAÍS VASCO': 197826,\n",
    "    '17 RIOJA, LA': 27960,\n",
    "    '18 CEUTA': 10321,\n",
    "    '19 MELILLA': 10710\n",
    "}\n",
    "\n",
    "# Diccionario de plazas ordinarias de mujeres por comunidad autónoma para el año 2018\n",
    "plazas_mujeres_2018 = {\n",
    "    '01 ANDALUCÍA': 778009,\n",
    "    '02 ARAGÓN': 104492,\n",
    "    '03 ASTURIAS, PRINCIPADO DE': 65712,\n",
    "    '04 BALEARS, ILLES': 87723,\n",
    "    '05 CANARIAS': 170584,\n",
    "    '06 CANTABRIA': 45719,\n",
    "    '07 CASTILLA Y LEÓN': 167972,\n",
    "    '08 CASTILLA-LA MANCHA': 174427,\n",
    "    '09 CATALUÑA': 656537,\n",
    "    'Barcelona': 481180,\n",
    "    'Girona': 65355,\n",
    "    'Lleida': 40534,\n",
    "    'Tarragona': 69468,\n",
    "    '10 COMUNITAT VALENCIANA': 418921,\n",
    "    '11 EXTREMADURA': 86716,\n",
    "    '12 GALICIA': 194134,\n",
    "    '13 MADRID, COMUNIDAD DE': 579320,\n",
    "    '14 MURCIA, REGIÓN DE': 139279,\n",
    "    '15 NAVARRA (Comunidad Foral de) (3)': 54658,\n",
    "    '16 PAÍS VASCO': 177691,\n",
    "    '17 RIOJA, LA': 26505,\n",
    "    '18 CEUTA': 9904,\n",
    "    '19 MELILLA': 10103\n",
    "}\n",
    "\n",
    "# Actualizar los valores de 'Total plazas matriculaciones' en el DataFrame para hombres y mujeres\n",
    "for index, row in Plazas.iterrows():\n",
    "    if (row['Año finalización curso'] == 2018 and \n",
    "        row['Tipo de plazas'] == 'Ordinarias' and \n",
    "        row['Discapacidad'] == 'No'):\n",
    "        \n",
    "        comunidad = row['Comunidad autónoma/provincia']\n",
    "        sexo = row['Sexo']\n",
    "        \n",
    "        if comunidad in plazas_hombres_2019 and sexo == 'Hombres':\n",
    "            Plazas.at[index, 'Total plazas matriculaciones'] = plazas_hombres_2018[comunidad]\n",
    "        elif comunidad in plazas_mujeres_2019 and sexo == 'Mujeres':\n",
    "            Plazas.at[index, 'Total plazas matriculaciones'] = plazas_mujeres_2018[comunidad]"
   ]
  },
  {
   "cell_type": "code",
   "execution_count": null,
   "id": "b4018b09-1fe1-4bee-a480-add2d70f7711",
   "metadata": {},
   "outputs": [],
   "source": [
    "Plazas = Plazas.copy()\n",
    "Plazas"
   ]
  },
  {
   "cell_type": "markdown",
   "id": "86652320-48a1-4739-b179-99d64bc158df",
   "metadata": {},
   "source": [
    "Vale, los datos ya los tengo actualizados, he tenido que restar las plazas especiales por sexo a las plazas ordinarias, porque mostraba el total de plazas de matriculaciones incluyendo las discapacidades a trabajar."
   ]
  },
  {
   "cell_type": "code",
   "execution_count": null,
   "id": "70c358fb-fff1-4757-9427-a361969b8106",
   "metadata": {},
   "outputs": [],
   "source": [
    "Plazas.duplicated()"
   ]
  },
  {
   "cell_type": "markdown",
   "id": "b96dd738-5f7c-41d5-a30a-e8005e270308",
   "metadata": {},
   "source": [
    "No exiten duplicados. Voy a mirar valores NAN."
   ]
  },
  {
   "cell_type": "code",
   "execution_count": null,
   "id": "2f4a4f70-d044-44ff-80f6-2316d94cb367",
   "metadata": {},
   "outputs": [],
   "source": [
    "Plazas.isna().sum()"
   ]
  },
  {
   "cell_type": "markdown",
   "id": "0ccaac19-a07a-43f7-bac8-5da83135cadb",
   "metadata": {},
   "source": [
    "Tampoco tenemos datos Nulos. Empezaríamos con datos estadísticos, gráficos, EDA"
   ]
  },
  {
   "cell_type": "code",
   "execution_count": null,
   "id": "2db11986-3be6-442a-b2c6-516052f4a847",
   "metadata": {},
   "outputs": [],
   "source": [
    "# Calculo de inicio estadísticas descriptivas. \n",
    "Plazas.describe().round()"
   ]
  },
  {
   "cell_type": "markdown",
   "id": "e000bec6-25f6-4ae4-ba48-426ba9d1d862",
   "metadata": {},
   "source": [
    "Como ya dije al principio me encuentro con un dataframe con muchas columnas categoricas. En cuanto a numéricas una me indica el año y de ahí saco que la media es 2020, realmente no es muy relevante, ya que lo que principalmente me va a aportar esta columna es la evolución y tendencia a través de los registros. Pero la otra columna numérica, que es el Total de plazas matriculaciones, aquí si que del total de los datos registrados me dice que hay un total de 920 registros, la media de los datos es 49945, la mediana es 141171, el número min 0 y el máximo 830411 y el primer quartil es 28, el segundo 148, y el tercero 2130."
   ]
  },
  {
   "cell_type": "markdown",
   "id": "aec7b15d-89a2-48bd-a9bf-9476ad14eccc",
   "metadata": {},
   "source": [
    "Para la limpieza y prepocesado de datos, me encuentro que los datos están bien, aunque en montar los datos he tardado mucho, ahora los datos están limpios. Así que ya puedo pasar al Análisi Exploratorio de Datos."
   ]
  },
  {
   "cell_type": "markdown",
   "id": "3bff00c8-ee34-451c-8327-c722850cb37e",
   "metadata": {},
   "source": [
    "### EDA"
   ]
  },
  {
   "cell_type": "markdown",
   "id": "4ef4f5ff-e5b4-4ee1-b0b0-5fbab1214b49",
   "metadata": {},
   "source": [
    "Voy a empezar a visualizar los datos, que es lo que me tiene más intrigada.\n",
    "Empezaré por ver Plazas Ordinarias asignadas por Comunidad del año 2022. Después pasaré a ver las plazas especiales, y por cada discapacidad."
   ]
  },
  {
   "cell_type": "markdown",
   "id": "835ba321-e0bb-4b80-a479-bea95b9f48e3",
   "metadata": {},
   "source": [
    "## Visualización plazas ordinarias por Comunidad y Sexo, 2022¶\n"
   ]
  },
  {
   "cell_type": "code",
   "execution_count": null,
   "id": "19704acd-16ff-4178-8982-a005fbc5f304",
   "metadata": {},
   "outputs": [],
   "source": [
    "# Filtrar los datos para el año 2022 y tipo de plazas (ordinarias)\n",
    "plazas_ordinarias_2022 = Plazas[(Plazas['Año finalización curso'] == 2022) & \n",
    "                                (Plazas['Tipo de plazas'] == 'Ordinarias') &\n",
    "                                (~Plazas['Comunidad autónoma/provincia'].isin(['Barcelona', 'Tarragona', 'Lleida', 'Girona']))]\n",
    "\n",
    "# Agrupar por comunidad autónoma/provincia y sexo, luego sumar las plazas matriculaciones\n",
    "plazas_ordinarias_2022_por_sexo = plazas_ordinarias_2022.groupby(['Comunidad autónoma/provincia', 'Sexo'])['Total plazas matriculaciones'].sum()\n",
    "\n",
    "# Ordenar de más a menos plazas\n",
    "plazas_ordinarias_2022_por_sexo_sorted = plazas_ordinarias_2022_por_sexo.sort_values(ascending=False)\n",
    "\n",
    "# Mostrar el resultado\n",
    "print(plazas_ordinarias_2022_por_sexo_sorted)"
   ]
  },
  {
   "cell_type": "code",
   "execution_count": null,
   "id": "f8aea02a-cc72-4b38-b147-73c5255eff28",
   "metadata": {},
   "outputs": [],
   "source": [
    "import matplotlib.pyplot as plt\n",
    "\n",
    "# Sumar las plazas ordinarias por sexo y comunidad autónoma\n",
    "plazas_ordinarias_2022_por_sexo_sum = plazas_ordinarias_2022.groupby(['Comunidad autónoma/provincia', 'Sexo'])['Total plazas matriculaciones'].sum().unstack()\n",
    "\n",
    "# Calcular la suma total de plazas ordinarias por comunidad autónoma\n",
    "plazas_ordinarias_2022_por_sexo_sum['Total'] = plazas_ordinarias_2022_por_sexo_sum.sum(axis=1)\n",
    "\n",
    "# Ordenar los datos por el total de plazas ordinarias para hombres y mujeres\n",
    "plazas_ordinarias_2022_por_sexo_sum_sorted = plazas_ordinarias_2022_por_sexo_sum.sort_values(by='Total', ascending=False)\n",
    "\n",
    "# Eliminar la columna 'Total' ya que solo es un auxiliar para ordenar los datos\n",
    "plazas_ordinarias_2022_por_sexo_sum_sorted.drop(columns='Total', inplace=True)\n",
    "\n",
    "# Definir colores para hombres y mujeres\n",
    "color_hombre = 'turquoise'\n",
    "color_mujer = 'purple'\n",
    "\n",
    "# Graficar el total de plazas ordinarias por comunidad autónoma y sexo para el año 2022 (ordenado)\n",
    "plazas_ordinarias_2022_por_sexo_sum_sorted.plot(kind='bar', figsize=(12, 6), stacked=False, color=[color_hombre, color_mujer])\n",
    "\n",
    "plt.title('Plazas Ordinarias por Comunidad Autónoma y Sexo (2022)')\n",
    "plt.xlabel('Comunidad Autónoma/Provincia')\n",
    "plt.ylabel('Total de Plazas Ordinarias')\n",
    "plt.xticks(rotation=45, ha='right')\n",
    "plt.legend(title='Sexo', labels=['Hombre', 'Mujer'])\n",
    "plt.tight_layout()\n",
    "plt.show()"
   ]
  },
  {
   "cell_type": "markdown",
   "id": "1bab2fc1-c336-42f6-b56c-7fa9493dede6",
   "metadata": {},
   "source": [
    "En todas las comunidades autónomas vemos que existen más plazas asignadas en este caso Ordinarias, para los hombres. Importante destacar que las comunidades autónomas que más matriculación registra son:\n",
    "\n",
    "- ANDALUCÍA\n",
    "- CATALUÑA\n",
    "- MADRID\n",
    "- VALENCIA\n",
    "- GALICIA\n",
    "  \n",
    "Pasamos a visualizas las plazas especiales..."
   ]
  },
  {
   "cell_type": "markdown",
   "id": "cc76e3ff-6ad0-45f6-8fa0-55ecad1de396",
   "metadata": {},
   "source": [
    "## Visualización total plazas especiales por Comunidad y Sexo, 2022"
   ]
  },
  {
   "cell_type": "code",
   "execution_count": null,
   "id": "f71055b4-db06-4238-9d6f-688f6e7d5ef2",
   "metadata": {},
   "outputs": [],
   "source": [
    "# Filtrar los datos para el año 2022 y tipo de plazas (Especiales), excluyendo Barcelona, Tarragona, Lleida y Girona\n",
    "plazas_especiales_2022_filtered = Plazas[(Plazas['Año finalización curso'] == 2022) & \n",
    "                                         (Plazas['Tipo de plazas'] == 'Especiales') & \n",
    "                                         (~Plazas['Comunidad autónoma/provincia'].isin(['Barcelona', 'Tarragona', 'Lleida', 'Girona']))]\n",
    "\n",
    "# Agrupar los datos por comunidad autónoma/provincia y sexo, y calcular el total de plazas matriculaciones para cada grupo\n",
    "plazas_especiales_sexo_comunidad_2022 = plazas_especiales_2022_filtered.groupby(['Comunidad autónoma/provincia', 'Sexo'])['Total plazas matriculaciones'].sum()\n",
    "\n",
    "# Mostrar los datos agrupados por comunidad autónoma/provincia y sexo\n",
    "print(plazas_especiales_sexo_comunidad_2022)"
   ]
  },
  {
   "cell_type": "code",
   "execution_count": null,
   "id": "3e132dab-5ce6-4a1c-abe3-405f6da0981d",
   "metadata": {},
   "outputs": [],
   "source": [
    "## Definir colores para hombres y mujeres\n",
    "color_hombre = 'turquoise'\n",
    "color_mujer = 'purple'\n",
    "\n",
    "# Ordenar los datos de más a menos según el total de plazas matriculaciones por cada comunidad y sexo\n",
    "plazas_especiales_sexo_comunidad_2022_sorted = plazas_especiales_sexo_comunidad_2022.unstack().sort_values(by='Hombres', ascending=False)\n",
    "\n",
    "# Crear una figura y ejes para el gráfico\n",
    "fig, ax = plt.subplots(figsize=(12, 6))\n",
    "\n",
    "# Graficar los datos ordenados\n",
    "plazas_especiales_sexo_comunidad_2022_sorted.plot(kind='bar', ax=ax, color=[color_hombre, color_mujer])\n",
    "\n",
    "# Configurar el título y etiquetas de los ejes\n",
    "ax.set_title('Plazas especiales por comunidad y sexo (2022)')\n",
    "ax.set_xlabel('Comunidad autónoma/provincia')\n",
    "ax.set_ylabel('Total plazas matriculaciones')\n",
    "\n",
    "# Mostrar la leyenda\n",
    "ax.legend(title='Sexo')\n",
    "\n",
    "# Rotar las etiquetas del eje x para una mejor visualización\n",
    "plt.xticks(rotation=45, ha='right')\n",
    "\n",
    "# Mostrar el gráfico\n",
    "plt.tight_layout()\n",
    "plt.show()"
   ]
  },
  {
   "cell_type": "markdown",
   "id": "226f89ea-3858-49c3-b365-753774f67fb0",
   "metadata": {},
   "source": [
    "En este caso, el total de plazas de necesidades especiales por Comunidad nos indica que los hombres destinan casi el doble de plazas neurológicas, en comparación a las mujeres.\n",
    "\n",
    "El top 5 de comunidades de plazas asignadas por Necesidades especiales son:\n",
    "\n",
    "- ANDALUCÍA\n",
    "- CATALUÑA\n",
    "- VALENCIA\n",
    "- MADRID\n",
    "- CANARIAS\n",
    "\n",
    "Las 4 primeras posiciones coinciden en el volumen total de matriculaciones con respecto a la población. Sin embargo, llama la atención el caso de Canarias, ya que, según la tabla anterior, se encuentra en la mitad de la clasificación. Es posible que intervengan otros factores, como el medio ambiente o el desarrollo de la comunidad en estos casos, entre otras cosas.\n",
    "\n",
    "Ahora vamos a visualizar por cada una de las discapacidades que trabajamos."
   ]
  },
  {
   "cell_type": "markdown",
   "id": "3adb66de-b615-4010-8c00-2d73a89b7d7a",
   "metadata": {},
   "source": [
    "## Visualización plazas discapacidad intelectual por Comunidad y Sexo, 2022"
   ]
  },
  {
   "cell_type": "code",
   "execution_count": null,
   "id": "220cd3b4-7d3a-43ae-afdc-e76d67f5d86a",
   "metadata": {},
   "outputs": [],
   "source": [
    "# Filtrar los datos para discapacidad intelectual y excluir Barcelona, Tarragona, Lleida y Girona\n",
    "filtered_data = Plazas[(Plazas['Discapacidad'] == 'Intelectual') &\n",
    "                       (~Plazas['Comunidad autónoma/provincia'].isin(['Barcelona', 'Tarragona', 'Lleida', 'Girona']))]\n",
    "\n",
    "# Agrupar los datos por comunidad autónoma/provincia y sexo, y calcular el total de plazas matriculaciones\n",
    "grouped_data = filtered_data.groupby(['Comunidad autónoma/provincia', 'Sexo'])['Total plazas matriculaciones'].sum()\n",
    "\n",
    "# Ordenar los datos de más a menos según el total de plazas matriculaciones\n",
    "sorted_data = grouped_data.unstack().sort_values(by='Hombres', ascending=False)\n",
    "\n",
    "# Mostrar los datos ordenados\n",
    "print(sorted_data)"
   ]
  },
  {
   "cell_type": "code",
   "execution_count": null,
   "id": "2061c790-d232-43e3-8283-9b6089c180a7",
   "metadata": {},
   "outputs": [],
   "source": [
    "# Definir colores para hombres y mujeres\n",
    "color_hombre = 'turquoise'\n",
    "color_mujer = 'purple'\n",
    "\n",
    "# Crear una figura y ejes para el gráfico\n",
    "fig, ax = plt.subplots(figsize=(12, 6))\n",
    "\n",
    "# Graficar los datos ordenados y especificar colores para hombres y mujeres\n",
    "sorted_data.plot(kind='bar', ax=ax, color=[color_hombre, color_mujer])\n",
    "\n",
    "# Configurar el título y etiquetas de los ejes\n",
    "ax.set_title('Discapacidad Intelectual por comunidad y sexo (2022)')\n",
    "ax.set_xlabel('Comunidad autónoma/provincia')\n",
    "ax.set_ylabel('Total plazas matriculaciones')\n",
    "\n",
    "# Mostrar la leyenda\n",
    "ax.legend(title='Sexo')\n",
    "\n",
    "# Rotar las etiquetas del eje x para una mejor visualización\n",
    "plt.xticks(rotation=45, ha='right')\n",
    "\n",
    "# Mostrar el gráfico\n",
    "plt.tight_layout()\n",
    "plt.show()"
   ]
  },
  {
   "cell_type": "markdown",
   "id": "800349e2-30ff-46bf-ac61-462863bad7aa",
   "metadata": {},
   "source": [
    "El top 5 de discapacidad intelectual:\n",
    "\n",
    "- ANDALUCÍA\n",
    "- MADRID\n",
    "- CATALUÑA\n",
    "- VALENCIA\n",
    "- CANARIAS\n",
    "\n",
    "Tengo la misma sensación del gráfico anterior. Me llama la atención Madrid dónde los datos reflejan 4 veces más que las mujeres."
   ]
  },
  {
   "cell_type": "markdown",
   "id": "71c0b328-be51-4ce5-a151-eed2abac4a68",
   "metadata": {},
   "source": [
    "## Visualización plazas discapacidad Trastornos del espectro del autismo (2) por Comunidad y Sexo, 2022"
   ]
  },
  {
   "cell_type": "code",
   "execution_count": null,
   "id": "678e97ef-3464-4c8c-8cb6-599b5bf89b87",
   "metadata": {},
   "outputs": [],
   "source": [
    "# Filtrar los datos para el año 2022, discapacidad intelectual y excluir Barcelona, Tarragona, Lleida y Girona\n",
    "filtered_data_2022 = Plazas[(Plazas['Año finalización curso'] == 2022) & \n",
    "                             (Plazas['Discapacidad'] == 'Trastornos del espectro del autismo (2)') &\n",
    "                             (~Plazas['Comunidad autónoma/provincia'].isin(['Barcelona', 'Tarragona', 'Lleida', 'Girona']))]\n",
    "\n",
    "# Agrupar los datos por comunidad autónoma/provincia y sexo, y calcular el total de plazas matriculaciones\n",
    "grouped_data_2022 = filtered_data_2022.groupby(['Comunidad autónoma/provincia', 'Sexo'])['Total plazas matriculaciones'].sum()\n",
    "\n",
    "# Ordenar los datos de más a menos según el total de plazas matriculaciones\n",
    "sorted_data_2022 = grouped_data_2022.unstack().sort_values(by='Hombres', ascending=False)\n",
    "\n",
    "# Mostrar los datos ordenados\n",
    "print(sorted_data_2022)"
   ]
  },
  {
   "cell_type": "code",
   "execution_count": null,
   "id": "68b49af6-c9f1-4dae-9f4c-2e3a6801eece",
   "metadata": {},
   "outputs": [],
   "source": [
    "# Definir colores para hombres y mujeres\n",
    "color_hombre = 'turquoise'\n",
    "color_mujer = 'purple'\n",
    "\n",
    "# Crear una figura y ejes para el gráfico\n",
    "fig, ax = plt.subplots(figsize=(12, 6))\n",
    "\n",
    "# Graficar los datos ordenados y especificar colores para hombres y mujeres\n",
    "sorted_data_2022.plot(kind='bar', ax=ax, color=[color_hombre, color_mujer])\n",
    "\n",
    "# Configurar el título y etiquetas de los ejes\n",
    "ax.set_title('Discapacidad Trastornos del espectro del autismo (2) por comunidad y sexo (2022)')\n",
    "ax.set_xlabel('Comunidad autónoma/provincia')\n",
    "ax.set_ylabel('Total plazas matriculaciones')\n",
    "\n",
    "# Mostrar la leyenda\n",
    "ax.legend(title='Sexo')\n",
    "\n",
    "# Rotar las etiquetas del eje x para una mejor visualización\n",
    "plt.xticks(rotation=45, ha='right')\n",
    "\n",
    "# Mostrar el gráfico\n",
    "plt.tight_layout()\n",
    "plt.show()"
   ]
  },
  {
   "cell_type": "markdown",
   "id": "332337ca-0dfc-4cb7-a4ce-b6a7cbfaf24d",
   "metadata": {},
   "source": [
    "En cuanto al autismo, El top 5:\n",
    "\n",
    "- ANDALUCÍA\n",
    "- CATALUÑA\n",
    "- VALENCIA\n",
    "- MADRID\n",
    "- CANARIAS\n",
    "\n",
    "Volvemos a repetir con Canarias en el 5 puesto y vemos que en el caso de autismo el hombre dobla los datos en relación a las mujeres."
   ]
  },
  {
   "cell_type": "markdown",
   "id": "75e3c06d-fe8c-4f0a-94f4-7dd485971024",
   "metadata": {},
   "source": [
    "## Visualización plazas discapacidad Trastornos graves de conducta/personalidad por Comunidad y Sexo, 2022"
   ]
  },
  {
   "cell_type": "code",
   "execution_count": null,
   "id": "4e8e536b-b4c8-4b4d-82e3-1fdee12a409a",
   "metadata": {},
   "outputs": [],
   "source": [
    "# Filtrar los datos para el año 2022, discapacidad intelectual y excluir Barcelona, Tarragona, Lleida y Girona\n",
    "filtered_data_2022 = Plazas[(Plazas['Año finalización curso'] == 2022) & \n",
    "                             (Plazas['Discapacidad'] == 'Trastornos graves de conducta/personalidad') &\n",
    "                             (~Plazas['Comunidad autónoma/provincia'].isin(['Barcelona', 'Tarragona', 'Lleida', 'Girona']))]\n",
    "\n",
    "# Agrupar los datos por comunidad autónoma/provincia y sexo, y calcular el total de plazas matriculaciones\n",
    "grouped_data_2022 = filtered_data_2022.groupby(['Comunidad autónoma/provincia', 'Sexo'])['Total plazas matriculaciones'].sum()\n",
    "\n",
    "# Ordenar los datos de más a menos según el total de plazas matriculaciones\n",
    "sorted_data_2022 = grouped_data_2022.unstack().sort_values(by='Hombres', ascending=False)\n",
    "\n",
    "# Mostrar los datos ordenados\n",
    "print(sorted_data_2022)"
   ]
  },
  {
   "cell_type": "code",
   "execution_count": null,
   "id": "a7a217aa-069f-4705-9dc0-75b6a1d859e7",
   "metadata": {},
   "outputs": [],
   "source": [
    "# Definir colores para hombres y mujeres\n",
    "color_hombre = 'turquoise'\n",
    "color_mujer = 'purple'\n",
    "\n",
    "# Crear una figura y ejes para el gráfico\n",
    "fig, ax = plt.subplots(figsize=(12, 6))\n",
    "\n",
    "# Graficar los datos ordenados y especificar colores para hombres y mujeres\n",
    "sorted_data_2022.plot(kind='bar', ax=ax, color=[color_hombre, color_mujer])\n",
    "\n",
    "# Configurar el título y etiquetas de los ejes\n",
    "ax.set_title('Discapacidad Trastornos graves de conducta/personalidad por comunidad y sexo (2022)')\n",
    "ax.set_xlabel('Comunidad autónoma/provincia')\n",
    "ax.set_ylabel('Total plazas matriculaciones')\n",
    "\n",
    "# Mostrar la leyenda\n",
    "ax.legend(title='Sexo')\n",
    "\n",
    "# Rotar las etiquetas del eje x para una mejor visualización\n",
    "plt.xticks(rotation=45, ha='right')\n",
    "\n",
    "# Mostrar el gráfico\n",
    "plt.tight_layout()\n",
    "plt.show()"
   ]
  },
  {
   "cell_type": "markdown",
   "id": "e369c6b2-7aee-4b63-b8f6-634cb2f1f5da",
   "metadata": {},
   "source": [
    "Con el trastorno grave de conducta, el top 5:\n",
    "\n",
    "- MADRID\n",
    "- CATALUÑA\n",
    "- ANDALUCÍA\n",
    "- GALICIA\n",
    "- MURCIA\n",
    "\n",
    "En este caso si tenemos variación, y se entiende que la población no tiene tanto que ver, bueno, un poci sí pero en este caso Andalucía se encuentra en 3 posición, pero Valencia baja a mitad de la lista y sube posiciones Galicia y Murcia.\n",
    "\n",
    "Ahora quiero mirar la evolución y la tendencia de cada discapacidad."
   ]
  },
  {
   "cell_type": "markdown",
   "id": "51b390e1-0ad5-4819-8fda-bb93bec5b222",
   "metadata": {},
   "source": [
    "## Visualización evolución total discapacidad intelectual (2018-1022)"
   ]
  },
  {
   "cell_type": "code",
   "execution_count": null,
   "id": "6f1febc5-7f3c-475d-acfc-9e06f7e2b626",
   "metadata": {},
   "outputs": [],
   "source": [
    "# Filtrar los datos para discapacidad intelectual\n",
    "data_discapacidad_intelectual = Plazas[Plazas['Discapacidad'] == 'Intelectual']\n",
    "\n",
    "# Agrupar los datos por año y calcular el total de plazas matriculaciones para cada año\n",
    "grouped_data_año = data_discapacidad_intelectual.groupby('Año finalización curso')['Total plazas matriculaciones'].sum()\n",
    "\n",
    "# Crear una figura y ejes para el gráfico\n",
    "fig, ax = plt.subplots(figsize=(10, 6))\n",
    "\n",
    "# Graficar la evolución del total de plazas matriculaciones por año\n",
    "grouped_data_año.plot(kind='line', marker='o', color='b', ax=ax)\n",
    "\n",
    "# Configurar el título y etiquetas de los ejes\n",
    "ax.set_title('Evolución del total de matriculaciones por Discapacidad Intelectual (2018-2022)')\n",
    "ax.set_xlabel('Año')\n",
    "ax.set_ylabel('Total plazas matriculaciones')\n",
    "\n",
    "# Mostrar la cuadrícula\n",
    "ax.grid(True)\n",
    "\n",
    "# Mostrar el gráfico\n",
    "plt.tight_layout()\n",
    "plt.show()"
   ]
  },
  {
   "cell_type": "markdown",
   "id": "9a61aa52-ed12-4b73-8055-c8d538a98bad",
   "metadata": {},
   "source": [
    "En este caso, se puede comprobar que existe una tendencia positiva, con lo que se indica que posiblemente haya que destinar cada año más matriculaciones a esta discapacidad."
   ]
  },
  {
   "cell_type": "markdown",
   "id": "6f363826-610f-4690-a0ff-98171480a9dc",
   "metadata": {},
   "source": [
    "## Visualización evolución total discapacidad Trastornos del espectro del autismo (2) (2018-1022)"
   ]
  },
  {
   "cell_type": "code",
   "execution_count": null,
   "id": "8da0616b-9afe-44ae-b19e-a96b7074544e",
   "metadata": {},
   "outputs": [],
   "source": [
    "# Filtrar los datos para la discapacidad \"Trastornos del espectro del autismo (2)\"\n",
    "data_discapacidad_autismo = Plazas[Plazas['Discapacidad'] == 'Trastornos del espectro del autismo (2)']\n",
    "\n",
    "# Agrupar los datos por año y calcular el total de plazas matriculaciones para cada año\n",
    "grouped_data_autismo_año = data_discapacidad_autismo.groupby('Año finalización curso')['Total plazas matriculaciones'].sum()\n",
    "\n",
    "# Convertir el índice a enteros\n",
    "grouped_data_autismo_año.index = grouped_data_autismo_año.index.astype(int)\n",
    "\n",
    "# Crear una figura y ejes para el gráfico\n",
    "fig, ax = plt.subplots(figsize=(10, 6))\n",
    "\n",
    "# Graficar la evolución del total de plazas matriculaciones por año\n",
    "grouped_data_autismo_año.plot(kind='line', marker='o', color='b', ax=ax)\n",
    "\n",
    "# Configurar el título y etiquetas de los ejes\n",
    "ax.set_title('Evolución del total de matriculaciones por Discapacidad Trastornos del espectro del autismo (2) (2018-2022)')\n",
    "ax.set_xlabel('Año')\n",
    "ax.set_ylabel('Total plazas matriculaciones')\n",
    "\n",
    "# Mostrar la cuadrícula\n",
    "ax.grid(True)\n",
    "\n",
    "# Mostrar el gráfico\n",
    "plt.tight_layout()\n",
    "plt.show()"
   ]
  },
  {
   "cell_type": "markdown",
   "id": "ee58e6f2-00fa-433e-aa12-8118475fec44",
   "metadata": {},
   "source": [
    "En el caso del autismo, se pecibe una tendencia positiva hasta 2021, que después se estabiliza. Posiblemente sea porque hace pocos años que se está implementando en España, quizás por ello la primera impresión de tendencia, y en este momento está más controlado. Es una suposición."
   ]
  },
  {
   "cell_type": "markdown",
   "id": "2b734926-5e9b-413c-9e3f-d1287076ab52",
   "metadata": {},
   "source": [
    "## Visualización evolución total discapacidad Trastornos graves de conducta/personalidad (2018-1022)"
   ]
  },
  {
   "cell_type": "code",
   "execution_count": null,
   "id": "6d2dacc7-bb04-4c2a-9ddc-50be64066baa",
   "metadata": {},
   "outputs": [],
   "source": [
    "# Filtrar los datos para la discapacidad \"Trastornos graves de conducta/personalidad\"\n",
    "data_discapacidad_graves_conducta = Plazas[Plazas['Discapacidad'] == 'Trastornos graves de conducta/personalidad']\n",
    "\n",
    "# Agrupar los datos por año y calcular el total de plazas matriculaciones para cada año\n",
    "grouped_data_graves_conducta_año = data_discapacidad_graves_conducta.groupby('Año finalización curso')['Total plazas matriculaciones'].sum()\n",
    "\n",
    "# Convertir el índice a enteros\n",
    "grouped_data_graves_conducta_año.index = grouped_data_graves_conducta_año.index.astype(int)\n",
    "\n",
    "# Crear una figura y ejes para el gráfico\n",
    "fig, ax = plt.subplots(figsize=(10, 6))\n",
    "\n",
    "# Graficar la evolución del total de plazas matriculaciones por año\n",
    "grouped_data_graves_conducta_año.plot(kind='line', marker='o', color='b', ax=ax)\n",
    "\n",
    "# Configurar el título y etiquetas de los ejes\n",
    "ax.set_title('Evolución del total de matriculaciones por Discapacidad Trastornos graves de conducta/personalidad (2018-2022)')\n",
    "ax.set_xlabel('Año')\n",
    "ax.set_ylabel('Total plazas matriculaciones')\n",
    "\n",
    "# Mostrar la cuadrícula\n",
    "ax.grid(True)\n",
    "\n",
    "# Mostrar el gráfico\n",
    "plt.tight_layout()\n",
    "plt.show()"
   ]
  },
  {
   "cell_type": "markdown",
   "id": "d8530be9-620e-42c6-acb1-26e582a774af",
   "metadata": {},
   "source": [
    "La evolución del trastorno grave de conducta, la tendencia es negativa, hasta 2020 que parece que se estabiliza y sigue bajando. Hay que tener en cuenta que el total de plazas destinadas para cada discapacidades son muy diferentes y en cada una de sus visualizaciones se percibe las tendencias, pero voy a gruparlas en un gráfico con una escala de plazas de matriculaciones iguales para cada una de ellas, y se verá de diferente manera."
   ]
  },
  {
   "cell_type": "markdown",
   "id": "cfab785e-ea78-4b1f-96f4-1cc4736c7e7e",
   "metadata": {},
   "source": [
    "## Visualización evolución matriculaciones por discapacidad (2018-2022)"
   ]
  },
  {
   "cell_type": "code",
   "execution_count": null,
   "id": "92eabb7f-502e-4778-af91-ec87a25f7441",
   "metadata": {},
   "outputs": [],
   "source": [
    "# Filtrar los datos para cada tipo de discapacidad\n",
    "data_intelectual = Plazas[Plazas['Discapacidad'] == 'Intelectual']\n",
    "data_autismo = Plazas[Plazas['Discapacidad'] == 'Trastornos del espectro del autismo (2)']\n",
    "data_graves = Plazas[Plazas['Discapacidad'] == 'Trastornos graves de conducta/personalidad']\n",
    "\n",
    "# Agrupar los datos por año y calcular el total de plazas matriculaciones para cada año\n",
    "grouped_data_intelectual = data_intelectual.groupby('Año finalización curso')['Total plazas matriculaciones'].sum()\n",
    "grouped_data_autismo = data_autismo.groupby('Año finalización curso')['Total plazas matriculaciones'].sum()\n",
    "grouped_data_graves = data_graves.groupby('Año finalización curso')['Total plazas matriculaciones'].sum()\n",
    "\n",
    "# Crear una figura y ejes para el gráfico\n",
    "fig, ax = plt.subplots(figsize=(10, 6))\n",
    "\n",
    "# Graficar la evolución del total de plazas matriculaciones por año para cada tipo de discapacidad\n",
    "grouped_data_intelectual.plot(kind='line', marker='o', color='b', label='Intelectual', ax=ax)\n",
    "grouped_data_autismo.plot(kind='line', marker='o', color='r', label='Autismo', ax=ax)\n",
    "grouped_data_graves.plot(kind='line', marker='o', color='g', label='Trastornos graves', ax=ax)\n",
    "\n",
    "# Configurar el título y etiquetas de los ejes\n",
    "ax.set_title('Evolución del total de matriculaciones por Discapacidad (2018-2022)')\n",
    "ax.set_xlabel('Año')\n",
    "ax.set_ylabel('Total plazas matriculaciones')\n",
    "\n",
    "# Agregar la leyenda\n",
    "ax.legend()\n",
    "\n",
    "# Mostrar la cuadrícula\n",
    "ax.grid(True)\n",
    "\n",
    "# Mostrar el gráfico\n",
    "plt.tight_layout()\n",
    "plt.show()"
   ]
  },
  {
   "cell_type": "markdown",
   "id": "06843834-2b46-4cc2-aec2-e41ae06be4d1",
   "metadata": {},
   "source": [
    "De este modo, no sorprende tanto los datos, ya que en trastornos graves se mantiene constante, en los otros dos casao se percibe lo mismo, pero siguen habiendo más casos de plazas especiales destinadas a discapacidad intelectual.\n",
    "\n",
    "Tenía ganas de mostrar un mapa gráfico nacional por cada discapacidad, para que visualmente se viera como están distribuidas el total de plazas."
   ]
  },
  {
   "cell_type": "markdown",
   "id": "8654f14d-50cd-4197-ad50-8a14b27af35d",
   "metadata": {},
   "source": [
    "## VISUALIZACIÓN MAPA ESPAÑA DISCAPACIDAD INTELECTUAL 2022"
   ]
  },
  {
   "cell_type": "code",
   "execution_count": null,
   "id": "4525156d-58c9-48e4-a9d1-df0a0e61c681",
   "metadata": {},
   "outputs": [],
   "source": [
    "# Filtrar los datos para el año 2022, discapacidad intelectual y excluir Barcelona, Tarragona, Lleida y Girona\n",
    "filtered_data_2022 = Plazas[(Plazas['Año finalización curso'] == 2022) & \n",
    "                             (Plazas['Discapacidad'] == 'Intelectual') &\n",
    "                             (~Plazas['Comunidad autónoma/provincia'].isin(['Barcelona', 'Tarragona', 'Lleida', 'Girona']))]\n",
    "\n",
    "# Agrupar los datos por comunidad autónoma/provincia y sexo, y calcular el total de plazas matriculaciones\n",
    "filtro_intelectual = filtered_data_2022.groupby(['Comunidad autónoma/provincia'])['Total plazas matriculaciones'].sum()\n",
    "\n",
    "# Ordenar los datos de forma descendente\n",
    "filtro_intelectual_ordenado = filtro_intelectual.sort_values(ascending=False)\n",
    "\n",
    "# Mostrar los datos ordenados\n",
    "print(filtro_intelectual_ordenado)"
   ]
  },
  {
   "cell_type": "code",
   "execution_count": null,
   "id": "be5e0f0c-eec7-42e3-bd7d-ad9736871294",
   "metadata": {},
   "outputs": [],
   "source": [
    "# Guardar los datos en un archivo CSV\n",
    "filtro_intelectual.to_csv(\"matriculaciones_discapacidad_intelectual_2022.csv\", header=True)"
   ]
  },
  {
   "cell_type": "code",
   "execution_count": null,
   "id": "3d0eed4f-8578-45e5-b7b3-208420e0f142",
   "metadata": {},
   "outputs": [],
   "source": [
    "import pandas as pd\n",
    "import plotly.express as px\n",
    "import json\n",
    "from urllib.request import urlopen\n",
    "\n",
    "# Cargar los datos desde el archivo CSV\n",
    "datos_csv = \"matriculaciones_discapacidad_intelectual_2022.csv\"\n",
    "df = pd.read_csv(datos_csv)\n",
    "\n",
    "# Definir el diccionario de mapeo de nombres\n",
    "mapeo_nombres = {\n",
    "    '01 ANDALUCÍA': 'Andalucía',\n",
    "    '02 ARAGÓN': 'Aragón',\n",
    "    '03 ASTURIAS, PRINCIPADO DE': 'Principado de Asturias',\n",
    "    '04 BALEARS, ILLES': 'Islas Baleares',\n",
    "    '05 CANARIAS': 'Islas Canarias',\n",
    "    '06 CANTABRIA': 'Cantabria',\n",
    "    '07 CASTILLA Y LEÓN': 'Castilla y León',\n",
    "    '08 CASTILLA-LA MANCHA': 'Castilla-La Mancha',\n",
    "    '09 CATALUÑA': 'Cataluña',\n",
    "    '10 COMUNITAT VALENCIANA': 'Comunidad Valenciana',\n",
    "    '11 EXTREMADURA': 'Extremadura',\n",
    "    '12 GALICIA': 'Galicia',\n",
    "    '13 MADRID, COMUNIDAD DE': 'Comunidad de Madrid',\n",
    "    '14 MURCIA, REGIÓN DE': 'Región de Murcia',\n",
    "    '15 NAVARRA, COMUNIDAD FORAL DE': 'Comunidad Foral de Navarra',\n",
    "    '16 PAÍS VASCO': 'País Vasco',\n",
    "    '17 RIOJA, LA': 'La Rioja',\n",
    "    '18 CEUTA': 'Ceuta',\n",
    "    '19 MELILLA': 'Melilla'\n",
    "}\n",
    "\n",
    "# Aplicar el mapeo al DataFrame\n",
    "df['Comunidad autónoma/provincia'] = df['Comunidad autónoma/provincia'].map(mapeo_nombres)\n",
    "\n",
    "# URL del archivo GeoJSON que contiene las geometrías de las comunidades autónomas de España\n",
    "url_geojson_espana = \"https://raw.githubusercontent.com/R-CoderDotCom/data/main/shapefile_spain/spain.geojson\"\n",
    "\n",
    "# Cargar el GeoJSON desde la URL\n",
    "with urlopen(url_geojson_espana) as response:\n",
    "    geojson_espana = json.load(response)\n",
    "\n",
    "# Crear el mapa coroplético con dimensiones más grandes\n",
    "fig = px.choropleth_mapbox(df, \n",
    "                           geojson=geojson_espana, \n",
    "                           locations='Comunidad autónoma/provincia', \n",
    "                           featureidkey=\"properties.name\",\n",
    "                           color='Total plazas matriculaciones',\n",
    "                           color_continuous_scale=\"Viridis\",\n",
    "                           range_color=(0, max(df['Total plazas matriculaciones'])),\n",
    "                           mapbox_style=\"carto-positron\",\n",
    "                           zoom=5, center = {\"lat\": 40.4168, \"lon\": -3.7038},\n",
    "                           opacity=0.7,\n",
    "                           labels={'Total plazas matriculaciones':'Total de matriculaciones'},\n",
    "                           title='Total de Matriculaciones por Comunidad de Discapacidad Intelectual en 2022',\n",
    "                           width=1200, height=800  # ajustar el ancho y alto del gráfico\n",
    "                          )\n",
    "\n",
    "# Mostrar el mapa\n",
    "fig.show()"
   ]
  },
  {
   "cell_type": "markdown",
   "id": "2592c8f6-1196-4a86-bc02-d28f394a8c5d",
   "metadata": {},
   "source": [
    "## VISUALIZACIÓN MAPA ESPAÑA DISCAPACIDAD Trastornos del espectro del autismo (2) 2022"
   ]
  },
  {
   "cell_type": "code",
   "execution_count": null,
   "id": "54d2a796-ad3f-49ca-9a85-02f85c7f69f9",
   "metadata": {},
   "outputs": [],
   "source": [
    "# Filtrar los datos para el año 2022, discapacidad Trastornos del espectro del autismo (2) y excluir Barcelona, Tarragona, Lleida y Girona\n",
    "filtered_data_2022 = Plazas[(Plazas['Año finalización curso'] == 2022) & \n",
    "                             (Plazas['Discapacidad'] == 'Trastornos del espectro del autismo (2)') &\n",
    "                             (~Plazas['Comunidad autónoma/provincia'].isin(['Barcelona', 'Tarragona', 'Lleida', 'Girona']))]\n",
    "\n",
    "# Agrupar los datos por comunidad autónoma/provincia y sexo, y calcular el total de plazas matriculaciones\n",
    "filtro_autismo = filtered_data_2022.groupby(['Comunidad autónoma/provincia'])['Total plazas matriculaciones'].sum()\n",
    "\n",
    "# Ordenar los datos de forma ascendente (de menos a más)\n",
    "filtro_autismo_ordenado_ascendente = filtro_autismo.sort_values(ascending=False)\n",
    "\n",
    "# Mostrar los datos ordenados de forma ascendente\n",
    "print(filtro_autismo_ordenado_ascendente)"
   ]
  },
  {
   "cell_type": "code",
   "execution_count": null,
   "id": "58fa562c-da70-422e-b52d-27ac2eb84126",
   "metadata": {},
   "outputs": [],
   "source": [
    "# Guardar los datos en un archivo CSV\n",
    "filtro_autismo.to_csv(\"matriculaciones_discapacidad_autismo_2022.csv\", header=True)"
   ]
  },
  {
   "cell_type": "code",
   "execution_count": null,
   "id": "5a40f3c0-cd58-499e-ab10-2a28b5b67916",
   "metadata": {},
   "outputs": [],
   "source": [
    "# Cargar los datos desde el archivo CSV\n",
    "datos_csv = \"matriculaciones_discapacidad_autismo_2022.csv\"\n",
    "df = pd.read_csv(datos_csv)\n",
    "\n",
    "# Definir el diccionario de mapeo de nombres\n",
    "mapeo_nombres = {\n",
    "     '01 ANDALUCÍA': 'Andalucía',\n",
    "    '02 ARAGÓN': 'Aragón',\n",
    "    '03 ASTURIAS, PRINCIPADO DE': 'Principado de Asturias',\n",
    "    '04 BALEARS, ILLES': 'Islas Baleares',\n",
    "    '05 CANARIAS': 'Islas Canarias',\n",
    "    '06 CANTABRIA': 'Cantabria',\n",
    "    '07 CASTILLA Y LEÓN': 'Castilla y León',\n",
    "    '08 CASTILLA-LA MANCHA': 'Castilla-La Mancha',\n",
    "    '09 CATALUÑA': 'Cataluña',\n",
    "    '10 COMUNITAT VALENCIANA': 'Comunidad Valenciana',\n",
    "    '11 EXTREMADURA': 'Extremadura',\n",
    "    '12 GALICIA': 'Galicia',\n",
    "    '13 MADRID, COMUNIDAD DE': 'Comunidad de Madrid',\n",
    "    '14 MURCIA, REGIÓN DE': 'Región de Murcia',\n",
    "    '15 NAVARRA, COMUNIDAD FORAL DE': 'Comunidad Foral de Navarra',\n",
    "    '16 PAÍS VASCO': 'País Vasco',\n",
    "    '17 RIOJA, LA': 'La Rioja',\n",
    "    '18 CEUTA': 'Ceuta',\n",
    "    '19 MELILLA': 'Melilla'\n",
    "}\n",
    "\n",
    "# Aplicar el mapeo al DataFrame\n",
    "df['Comunidad autónoma/provincia'] = df['Comunidad autónoma/provincia'].map(mapeo_nombres)\n",
    "\n",
    "# URL del archivo GeoJSON que contiene las geometrías de las comunidades autónomas de España\n",
    "url_geojson_espana = \"https://raw.githubusercontent.com/R-CoderDotCom/data/main/shapefile_spain/spain.geojson\"\n",
    "\n",
    "# Cargar el GeoJSON desde la URL\n",
    "with urlopen(url_geojson_espana) as response:\n",
    "    geojson_espana = json.load(response)\n",
    "\n",
    "# Crear el mapa coroplético\n",
    "fig = px.choropleth_mapbox(df, \n",
    "                           geojson=geojson_espana, \n",
    "                           locations='Comunidad autónoma/provincia', \n",
    "                           featureidkey=\"properties.name\",\n",
    "                           color='Total plazas matriculaciones',\n",
    "                           color_continuous_scale=\"Viridis\",\n",
    "                           range_color=(0, max(df['Total plazas matriculaciones'])),\n",
    "                           mapbox_style=\"carto-positron\",\n",
    "                           zoom=5, center = {\"lat\": 40.4168, \"lon\": -3.7038},\n",
    "                           opacity=0.7,\n",
    "                           labels={'Total plazas matriculaciones':'Total de matriculaciones'},\n",
    "                           title='Total de Matriculaciones por Comunidad de Discapacidad Trastornos del espectro del autismo (2) en 2022',\n",
    "                           width=1200, height=800\n",
    "                          )\n",
    "\n",
    "# Mostrar el mapa\n",
    "fig.show()"
   ]
  },
  {
   "cell_type": "markdown",
   "id": "048f2510-2346-4ba3-b3c5-ef8b2af108b8",
   "metadata": {},
   "source": [
    "## VISUALIZACIÓN MAPA ESPAÑA DISCAPACIDAD Trastornos graves de conducta/personalidad' 2022"
   ]
  },
  {
   "cell_type": "code",
   "execution_count": null,
   "id": "7c480d78-8cce-49f9-b18f-4027ec47a46c",
   "metadata": {},
   "outputs": [],
   "source": [
    "# Filtrar los datos para el año 2022, discapacidad Trastornos graves de conducta/personalidad y excluir Barcelona, Tarragona, Lleida y Girona\n",
    "filtered_data_2022 = Plazas[(Plazas['Año finalización curso'] == 2022) & \n",
    "                             (Plazas['Discapacidad'] == 'Trastornos graves de conducta/personalidad') &\n",
    "                             (~Plazas['Comunidad autónoma/provincia'].isin(['Barcelona', 'Tarragona', 'Lleida', 'Girona']))]\n",
    "\n",
    "# Agrupar los datos por comunidad autónoma/provincia y sexo, y calcular el total de plazas matriculaciones\n",
    "filtro_trastornos = filtered_data_2022.groupby(['Comunidad autónoma/provincia'])['Total plazas matriculaciones'].sum()\n",
    "\n",
    "# Ordenar los datos de forma ascendente (de menos a más)\n",
    "filtro_trastornos_ordenado_ascendente = filtro_trastornos.sort_values(ascending=False)\n",
    "\n",
    "# Mostrar los datos ordenados de forma ascendente\n",
    "print(filtro_trastornos_ordenado_ascendente)"
   ]
  },
  {
   "cell_type": "code",
   "execution_count": null,
   "id": "43d53ebe-d99a-4661-923a-035aea45b643",
   "metadata": {},
   "outputs": [],
   "source": [
    "# Guardar los datos en un archivo CSV\n",
    "filtro_trastornos.to_csv(\"matriculaciones_discapacidad_trastornos_2022.csv\", header=True)"
   ]
  },
  {
   "cell_type": "code",
   "execution_count": null,
   "id": "f8b52161-14f2-4dc6-8abc-c0f8757e3984",
   "metadata": {
    "scrolled": true
   },
   "outputs": [],
   "source": [
    "# Cargar los datos desde el archivo CSV\n",
    "datos_csv = \"matriculaciones_discapacidad_trastornos_2022.csv\"\n",
    "df = pd.read_csv(datos_csv)\n",
    "\n",
    "# Definir el diccionario de mapeo de nombres\n",
    "mapeo_nombres = {\n",
    "     '01 ANDALUCÍA': 'Andalucía',\n",
    "    '02 ARAGÓN': 'Aragón',\n",
    "    '03 ASTURIAS, PRINCIPADO DE': 'Principado de Asturias',\n",
    "    '04 BALEARS, ILLES': 'Islas Baleares',\n",
    "    '05 CANARIAS': 'Islas Canarias',\n",
    "    '06 CANTABRIA': 'Cantabria',\n",
    "    '07 CASTILLA Y LEÓN': 'Castilla y León',\n",
    "    '08 CASTILLA-LA MANCHA': 'Castilla-La Mancha',\n",
    "    '09 CATALUÑA': 'Cataluña',\n",
    "    '10 COMUNITAT VALENCIANA': 'Comunidad Valenciana',\n",
    "    '11 EXTREMADURA': 'Extremadura',\n",
    "    '12 GALICIA': 'Galicia',\n",
    "    '13 MADRID, COMUNIDAD DE': 'Comunidad de Madrid',\n",
    "    '14 MURCIA, REGIÓN DE': 'Región de Murcia',\n",
    "    '15 NAVARRA, COMUNIDAD FORAL DE': 'Comunidad Foral de Navarra',\n",
    "    '16 PAÍS VASCO': 'País Vasco',\n",
    "    '17 RIOJA, LA': 'La Rioja',\n",
    "    '18 CEUTA': 'Ceuta',\n",
    "    '19 MELILLA': 'Melilla'\n",
    "}\n",
    "\n",
    "# Aplicar el mapeo al DataFrame\n",
    "df['Comunidad autónoma/provincia'] = df['Comunidad autónoma/provincia'].map(mapeo_nombres)\n",
    "\n",
    "# URL del archivo GeoJSON que contiene las geometrías de las comunidades autónomas de España\n",
    "url_geojson_espana = \"https://raw.githubusercontent.com/R-CoderDotCom/data/main/shapefile_spain/spain.geojson\"\n",
    "\n",
    "# Cargar el GeoJSON desde la URL\n",
    "with urlopen(url_geojson_espana) as response:\n",
    "    geojson_espana = json.load(response)\n",
    "\n",
    "# Crear el mapa coroplético\n",
    "fig = px.choropleth_mapbox(df, \n",
    "                           geojson=geojson_espana, \n",
    "                           locations='Comunidad autónoma/provincia', \n",
    "                           featureidkey=\"properties.name\",\n",
    "                           color='Total plazas matriculaciones',\n",
    "                           color_continuous_scale=\"Viridis\",\n",
    "                           range_color=(0, max(df['Total plazas matriculaciones'])),\n",
    "                           mapbox_style=\"carto-positron\",\n",
    "                           zoom=5, center = {\"lat\": 40.4168, \"lon\": -3.7038},\n",
    "                           opacity=0.7,\n",
    "                           labels={'Total plazas matriculaciones':'Total de matriculaciones'},\n",
    "                           title='Total de Matriculaciones por Comunidad de Discapacidad Trastornos graves de conducta/personalidad en 2022',\n",
    "                           width=1200, height=800\n",
    "                          )\n",
    "\n",
    "# Mostrar el mapa\n",
    "fig.show()"
   ]
  },
  {
   "cell_type": "markdown",
   "id": "bbe6aed7-4721-40f3-9b6a-314a109518ca",
   "metadata": {},
   "source": [
    "Lo que sorprende es que sin valorar las plazas Ordinales asignadas por comunidad, si visualizo el tamaño de cada comunidad se entiende que es posible que deberian haber más casos en Andalucía, Castilla i León i Castilla la Mancha, pero en ninguno de los tres gráficos se visualiza. Sólo coincide Andalucía.\n",
    "\n",
    "A partir de aquí, empezamos a trabajar con el dataset reducido, voy a trabajar con los datos de Catalunya, por provincia. Quiero visualizar los datos en Cataluña."
   ]
  },
  {
   "cell_type": "code",
   "execution_count": null,
   "id": "6347910f-ccc6-4b78-b2fb-d96c28fc5745",
   "metadata": {},
   "outputs": [],
   "source": [
    "# 1. Filtrar los datos originales\n",
    "datos_filtrados = Plazas[\n",
    "    (Plazas['Año finalización curso'].between(2018, 2022)) & \n",
    "    ((Plazas['Tipo de plazas'] == 'Ordinarias') | (Plazas['Tipo de plazas'] == 'Especiales')) & \n",
    "    (Plazas['Comunidad autónoma/provincia'].isin(['Barcelona', 'Tarragona', 'Lleida', 'Girona']))\n",
    "]\n",
    "\n",
    "# 2. Seleccionar columnas específicas\n",
    "columnas_seleccionadas = [\n",
    "    'Año finalización curso', 'Tipo de plazas', 'Comunidad autónoma/provincia', \n",
    "    'Discapacidad', 'Sexo', 'Total plazas matriculaciones'\n",
    "]\n",
    "\n",
    "# 3. Crear el nuevo DataFrame\n",
    "Cataluña = datos_filtrados[columnas_seleccionadas]\n",
    "\n",
    "# 1. Filtrar los datos originales para el año 2022\n",
    "datos_filtrados_2022 = Plazas[\n",
    "    (Plazas['Año finalización curso'] == 2022) & \n",
    "    ((Plazas['Tipo de plazas'] == 'Ordinarias') | (Plazas['Tipo de plazas'] == 'Especiales')) & \n",
    "    (Plazas['Comunidad autónoma/provincia'].isin(['Barcelona', 'Tarragona', 'Lleida', 'Girona']))\n",
    "]\n",
    "\n",
    "# 2. Seleccionar columnas específicas\n",
    "columnas_seleccionadas = [\n",
    "    'Año finalización curso', 'Tipo de plazas', 'Comunidad autónoma/provincia', \n",
    "    'Discapacidad', 'Sexo', 'Total plazas matriculaciones'\n",
    "]\n",
    "\n",
    "# 3. Crear el nuevo DataFrame\n",
    "df_cat_2022 = datos_filtrados_2022[columnas_seleccionadas]\n",
    "\n",
    "# Mostrar las primeras filas del nuevo DataFrame\n",
    "df_cat_2022\n"
   ]
  },
  {
   "cell_type": "code",
   "execution_count": null,
   "id": "db76279a-14ac-423e-8a84-8cabbae2ffe8",
   "metadata": {},
   "outputs": [],
   "source": [
    "# Filtrar los datos para el año de finalización del curso 2022 y excluir los valores \"No\" de la discapacidad\n",
    "datos_2022_sin_no = Cataluña[(Cataluña['Año finalización curso'] == 2022) & (Cataluña['Discapacidad'] != 'No')]\n",
    "\n",
    "# Agrupar los datos por discapacidad y comunidad autónoma/provincia, y sumar el total de plazas matriculaciones\n",
    "total_plazas_por_discapacidad = datos_2022_sin_no.groupby(['Discapacidad', 'Comunidad autónoma/provincia'])['Total plazas matriculaciones'].sum()\n",
    "\n",
    "# Definir la paleta de colores personalizada\n",
    "colores = {'Barcelona': 'Lavender',  # Lila\n",
    "           'Girona': 'SandyBrown',         # Turquesa\n",
    "           'Lleida': 'HoneyDew',             # Amarillo\n",
    "           'Tarragona': 'LightSteelBlue'}      # Verde pistacho\n",
    "\n",
    "# Crear tres gráficos circulares, uno para cada discapacidad\n",
    "for discapacidad in total_plazas_por_discapacidad.index.levels[0]:\n",
    "    # Filtrar los datos para la discapacidad específica\n",
    "    datos_discapacidad = total_plazas_por_discapacidad.loc[discapacidad]\n",
    "    \n",
    "    # Crear la figura y los ejes del gráfico circular\n",
    "    plt.figure(figsize=(6, 6))\n",
    "    \n",
    "    # Graficar el gráfico circular\n",
    "    plt.pie(datos_discapacidad, labels=datos_discapacidad.index, colors=[colores.get(x, 'blue') for x in datos_discapacidad.index], autopct='%1.1f%%', startangle=140)\n",
    "    \n",
    "    # Configurar el título del gráfico\n",
    "    plt.suptitle(f'Distribución del total de plazas matriculaciones por provincia en Cataluña para la discapacidad: {discapacidad}', y=1.05, fontsize=16)\n",
    "    \n",
    "    # Mostrar el gráfico\n",
    "    plt.axis('equal')  # Aspecto igual para que sea circular\n",
    "    plt.tight_layout()\n",
    "    plt.show()"
   ]
  },
  {
   "cell_type": "markdown",
   "id": "1e2a2b47-f541-40db-b763-78650858705d",
   "metadata": {},
   "source": [
    "Está claro que Barcelona es la provincia que más casos tiene y de calle, se entiende que por población.\n",
    "\n",
    "En Barcelona a 2023 tenemos una población de 5.795.594.\n",
    "En Tarragona a 2023 tenemos una población de 138260.\n",
    "En Lleida a 2023 tenemos una población de 448676.\n",
    "En Girona a 2023 tenemos una población de 201615.\n",
    "Así que está claro porque salen estos resultados.\n",
    "\n",
    "Voy a calcular la tendencia en cataluña de las tres discapacidaes."
   ]
  },
  {
   "cell_type": "code",
   "execution_count": null,
   "id": "50bb008a-4c28-43d8-85e7-8409ebf992e2",
   "metadata": {},
   "outputs": [],
   "source": [
    "# Filtrar los datos para las tres discapacidades y las provincias específicas desde 2018 hasta 2022\n",
    "data_intelectual = Plazas[(Plazas['Discapacidad'] == 'Intelectual') & \n",
    "                          (Plazas['Comunidad autónoma/provincia'].isin(['Barcelona', 'Tarragona', 'Lleida', 'Girona'])) & \n",
    "                          (Plazas['Año finalización curso'] >= 2018) & \n",
    "                          (Plazas['Año finalización curso'] <= 2022)]\n",
    "\n",
    "data_autismo = Plazas[(Plazas['Discapacidad'] == 'Trastornos del espectro del autismo (2)') & \n",
    "                      (Plazas['Comunidad autónoma/provincia'].isin(['Barcelona', 'Tarragona', 'Lleida', 'Girona'])) & \n",
    "                      (Plazas['Año finalización curso'] >= 2018) & \n",
    "                      (Plazas['Año finalización curso'] <= 2022)]\n",
    "\n",
    "data_graves = Plazas[(Plazas['Discapacidad'] == 'Trastornos graves de conducta/personalidad') & \n",
    "                     (Plazas['Comunidad autónoma/provincia'].isin(['Barcelona', 'Tarragona', 'Lleida', 'Girona'])) & \n",
    "                     (Plazas['Año finalización curso'] >= 2018) & \n",
    "                     (Plazas['Año finalización curso'] <= 2022)]\n",
    "\n",
    "# Agrupar los datos por año y calcular el total de plazas matriculaciones para cada año\n",
    "grouped_data_intelectual = data_intelectual.groupby('Año finalización curso')['Total plazas matriculaciones'].sum()\n",
    "grouped_data_autismo = data_autismo.groupby('Año finalización curso')['Total plazas matriculaciones'].sum()\n",
    "grouped_data_graves = data_graves.groupby('Año finalización curso')['Total plazas matriculaciones'].sum()\n",
    "\n",
    "# Crear una figura y ejes para el gráfico\n",
    "fig, ax = plt.subplots(figsize=(10, 6))\n",
    "\n",
    "# Graficar la evolución del total de plazas matriculaciones por año para cada tipo de discapacidad\n",
    "grouped_data_intelectual.plot(kind='line', marker='o', color='b', label='Intelectual', ax=ax)\n",
    "grouped_data_autismo.plot(kind='line', marker='o', color='r', label='Autismo', ax=ax)\n",
    "grouped_data_graves.plot(kind='line', marker='o', color='g', label='Trastornos graves', ax=ax)\n",
    "\n",
    "# Configurar el título y etiquetas de los ejes\n",
    "ax.set_title('Evolución del total de matriculaciones por Discapacidad (2018-2022) - Barcelona, Tarragona, Lleida, Girona')\n",
    "ax.set_xlabel('Año')\n",
    "ax.set_ylabel('Total plazas matriculaciones')\n",
    "\n",
    "# Agregar la leyenda debajo del gráfico\n",
    "ax.legend(loc='upper center', bbox_to_anchor=(0.5, -0.15), shadow=True, ncol=3, fontsize='medium')\n",
    "\n",
    "# Mostrar la cuadrícula\n",
    "ax.grid(True)\n",
    "\n",
    "# Mostrar el gráfico\n",
    "plt.tight_layout()\n",
    "plt.show()"
   ]
  },
  {
   "cell_type": "markdown",
   "id": "4847dd45-7692-458b-ab0a-579e7192e696",
   "metadata": {},
   "source": [
    "Trastornos graves de conducta se mantiene constante, como los datos nacionales, el autismo, existe la misma tendencia que la nacional pero de 2021 a 2022 decrece, así que son buenos datos. Y en el caso de la discapacidad intelectual existe también la misma tendencia positiva hasta 2020, y a posterior la tendencia es negativa, así que también son buenas noticias.\n",
    "\n",
    "Volvemos al dataset a nivel nacional, pero sólo vamos a contemplar los datos de 2022, ya que para aplicar el modelo de clasificación, no creo que le resulte fácil o coherente agrupar los datos repetidos temporalmente."
   ]
  },
  {
   "cell_type": "code",
   "execution_count": null,
   "id": "d99c7354-8f18-4197-acda-9cc670ae1234",
   "metadata": {},
   "outputs": [],
   "source": [
    "# Filtrar las filas que tienen el año de finalización del curso igual a 2022\n",
    "plazas_2022 = Plazas[Plazas['Año finalización curso'] == 2022]\n",
    "\n",
    "# Eliminar registros de Barcelona, Girona, Lleida y Tarragona\n",
    "plazas_2022 = plazas_2022[~plazas_2022['Comunidad autónoma/provincia'].isin(['Barcelona', 'Girona', 'Lleida', 'Tarragona'])]\n",
    "plazas_2022"
   ]
  },
  {
   "cell_type": "markdown",
   "id": "e13c11ac-ad55-497e-aa3e-46d9d4274836",
   "metadata": {},
   "source": [
    "Nos encontramos con una tabla que tiene 2 columnas numéricas, y el resto son categóricas. Primero vamos a transformar las columnas en numéricas para poder aplicar correctamente los modelos. Para la columna de Comunidad autónoma voy a aplicar un one-hot encoding, y para el resto de columnas aplico Ordinal Encoder."
   ]
  },
  {
   "cell_type": "code",
   "execution_count": null,
   "id": "b9912345-d36f-4ead-9f96-0fd7d0de1c4f",
   "metadata": {},
   "outputs": [],
   "source": [
    "from sklearn.preprocessing import OrdinalEncoder\n",
    "\n",
    "\n",
    "# Creamos el codificador ordinal\n",
    "encoder = OrdinalEncoder()\n",
    "\n",
    "# Aplicamos el encoder a la columna 'Discapacidad' y asignamos los valores codificados directamente\n",
    "plazas_2022['Discapacidad_encoded'] = encoder.fit_transform(plazas_2022[['Discapacidad']])\n",
    "\n",
    "# Creamos el codificador ordinal\n",
    "encoder = OrdinalEncoder()\n",
    "\n",
    "# Aplicamos el encoder a la columna 'Tipo de plazas' y asignamos los valores codificados directamente\n",
    "plazas_2022['Tipo de plazas_encoded'] = encoder.fit_transform(plazas_2022[['Tipo de plazas']])\n",
    "\n",
    "# Creamos el codificador ordinal para Sexo\n",
    "encoder_sexo = OrdinalEncoder()\n",
    "\n",
    "# Aplicamos el encoder a la columna 'Sexo' y asignamos los valores codificados\n",
    "plazas_2022['Sexo_encoded'] = encoder_sexo.fit_transform(plazas_2022[['Sexo']])\n"
   ]
  },
  {
   "cell_type": "code",
   "execution_count": null,
   "id": "16f4387b-6679-4374-b150-984c7f72715d",
   "metadata": {},
   "outputs": [],
   "source": [
    "# Aplicamos one-hot encoding\n",
    "comunidad_autonoma_encoded = pd.get_dummies(plazas_2022['Comunidad autónoma/provincia'], prefix='Comunidad')\n",
    "\n",
    "# Convertimos los valores True y False a 1 y 0\n",
    "comunidad_autonoma_encoded = comunidad_autonoma_encoded.astype(int)\n",
    "\n",
    "# Concatenamos el DataFrame original con las columnas codificadas\n",
    "plazas_2022 = pd.concat([plazas_2022, comunidad_autonoma_encoded], axis=1)\n",
    "\n",
    "# Eliminamos la columna original 'Comunidad autónoma/provincia'\n",
    "plazas_2022.drop(columns=['Comunidad autónoma/provincia'], inplace=True)"
   ]
  },
  {
   "cell_type": "code",
   "execution_count": null,
   "id": "3eb075ea-a84d-432d-a813-e20c0dd05a09",
   "metadata": {},
   "outputs": [],
   "source": [
    "# Seleccionar solo las columnas numéricas\n",
    "columnas_numericas = ['Total plazas matriculaciones','Discapacidad_encoded','Tipo de plazas_encoded','Sexo_encoded','Comunidad_01 ANDALUCÍA','Comunidad_02 ARAGÓN',\t'Comunidad_10 COMUNITAT VALENCIANA','Comunidad_11 EXTREMADURA', 'Comunidad_12 GALICIA',\t'Comunidad_13 MADRID, COMUNIDAD DE', 'Comunidad_14 MURCIA, REGIÓN DE', 'Comunidad_15 NAVARRA, COMUNIDAD FORAL DE', 'Comunidad_16 PAÍS VASCO',\t'Comunidad_17 RIOJA, LA', 'Comunidad_18 CEUTA',\t'Comunidad_19 MELILLA']\n",
    "\n",
    "# Crear el nuevo DataFrame con las columnas numéricas y la columna categórica\n",
    "df = plazas_2022[columnas_numericas]"
   ]
  },
  {
   "cell_type": "code",
   "execution_count": null,
   "id": "83b0eed7-6c08-426a-b804-e59e1ceab11e",
   "metadata": {},
   "outputs": [],
   "source": [
    "df.describe().round(2)"
   ]
  },
  {
   "cell_type": "markdown",
   "id": "35591391-19e2-4d16-946d-5ee0b2a039f5",
   "metadata": {},
   "source": [
    "Voy a comprobar la distribución las las variables aplicando la prueba shapiro."
   ]
  },
  {
   "cell_type": "code",
   "execution_count": null,
   "id": "72ae64ec-94d7-4ce8-aa20-6b70e37fda6b",
   "metadata": {},
   "outputs": [],
   "source": [
    "from scipy.stats import shapiro\n",
    "from tabulate import tabulate\n",
    "import pandas as pd\n",
    "\n",
    "# Creamos una lista para almacenar los resultados de la prueba\n",
    "resultados = []\n",
    "\n",
    "# Iteramos sobre cada columna en el DataFrame 'df'\n",
    "for columna in df.columns:\n",
    "    stat, p = shapiro(df[columna])\n",
    "        \n",
    "    alpha = 0.05  # Nivel de significancia\n",
    "    if p > alpha:\n",
    "        resultado = \"Probablemente sigue una distribución normal\"\n",
    "    else:\n",
    "        resultado = \"Probablemente no sigue una distribución normal\"\n",
    "        \n",
    "    resultados.append([columna, stat, p, resultado])\n",
    "\n",
    "# Imprimimos los resultados en formato tabular\n",
    "tabla_resultados = tabulate(resultados, headers=[\"Variable\", \"Estadística\", \"Valor-p\", \"Resultado\"], tablefmt=\"pretty\")\n",
    "print(tabla_resultados)"
   ]
  },
  {
   "cell_type": "markdown",
   "id": "659c37cd-b2bd-436b-b10c-0cf6bfef21f7",
   "metadata": {},
   "source": [
    "Y se confirma que no tiene una distribución normal. Así que voy a graficarlas."
   ]
  },
  {
   "cell_type": "code",
   "execution_count": null,
   "id": "091bdb43-6c69-420b-be53-26aef485453e",
   "metadata": {},
   "outputs": [],
   "source": [
    "import seaborn as sns\n",
    "\n",
    "plt.figure(figsize=(20, 40))\n",
    "\n",
    "for columna in columnas_numericas:\n",
    "  \n",
    "    plt.subplot(10, 3, df.columns.get_loc(columna) + 1)\n",
    "    sns.histplot(data=df[columna],kde=True)\n",
    "    plt.xlabel(columna)\n",
    "    \n",
    "    plt.subplots_adjust(hspace=0.5)\n",
    "    \n",
    "    plt.show"
   ]
  },
  {
   "cell_type": "code",
   "execution_count": null,
   "id": "844acdbb-5cb3-41c8-aa38-b77b6ddb1c1b",
   "metadata": {},
   "outputs": [],
   "source": [
    "# Definir el tamaño de la figura\n",
    "plt.figure(figsize=(15, 10))\n",
    "\n",
    "# Iterar sobre cada columna del DataFrame\n",
    "for i, columna in enumerate(df.columns):\n",
    "    # Crear un subplot para cada variable\n",
    "    plt.subplot(4, 4, i+1)\n",
    "    \n",
    "    # Si la variable es numérica, crea un boxplot\n",
    "    if df[columna].dtype in ['float64', 'int64']:\n",
    "        sns.boxplot(x=df[columna], orient='v', width=0.3, color='skyblue')\n",
    "        plt.ylabel(columna, fontsize=10)\n",
    "    # Si la variable es categórica, crea un countplot\n",
    "    else:\n",
    "        sns.countplot(y=df[columna], color='lightgreen')\n",
    "        plt.xlabel('Count', fontsize=10)\n",
    "        plt.ylabel(columna, fontsize=10)\n",
    "\n",
    "plt.tight_layout()\n",
    "plt.show()"
   ]
  },
  {
   "cell_type": "code",
   "execution_count": null,
   "id": "728de6fc-f297-4c11-9381-30f40942dba4",
   "metadata": {},
   "outputs": [],
   "source": [
    "# Definir el tamaño de la figura\n",
    "plt.figure(figsize=(15, 10))\n",
    "\n",
    "# Iterar sobre cada columna del DataFrame\n",
    "for i, columna in enumerate(df.columns):\n",
    "    # Crear un subplot para cada variable\n",
    "    plt.subplot(4, 4, i+1)\n",
    "    \n",
    "    # Crear un boxplot para la variable actual\n",
    "    sns.boxplot(x=df[columna], orient='v', width=0.3, color='skyblue')\n",
    "    plt.ylabel(columna, fontsize=10)\n",
    "\n",
    "plt.tight_layout()\n",
    "plt.show()"
   ]
  },
  {
   "cell_type": "code",
   "execution_count": null,
   "id": "c1723ba6-fb09-4531-ba34-8ac9ead471cf",
   "metadata": {},
   "outputs": [],
   "source": [
    "import matplotlib.pyplot as plt\n",
    "\n",
    "\n",
    "for i in columnas_numericas:\n",
    "    plt.figure(figsize=(8, 5))\n",
    "    sns.set()\n",
    "    \n",
    "    # Filtra los valores no nulos en la columna actual\n",
    "    filtered_data = df[df[i].notna()]\n",
    "    \n",
    "    # Crea un subplot con dos áreas (boxplot y histograma)\n",
    "    f, (ax_box, ax_hist) = plt.subplots(2, sharex=True, gridspec_kw={\"height_ratios\": (.15, .85)})\n",
    "    \n",
    "    # Dibuja el boxplot en la parte superior en posición horizontal\n",
    "    sns.boxplot(x=filtered_data[i], orient=\"h\", ax=ax_box, linewidth=1.0)\n",
    "    \n",
    "    # Dibuja el histograma en la parte inferior\n",
    "    sns.histplot(filtered_data[i], ax=ax_hist, bins=10, kde=True)\n",
    "    \n",
    "    # Añade títulos a los subplots\n",
    "    ax_box.set(xlabel='')\n",
    "    ax_hist.set(xlabel=i)\n",
    "    \n",
    "    plt.gca().set(xlabel=i, ylabel='Frequency')\n",
    "\n",
    "    # Mostrar los gráficos"
   ]
  },
  {
   "cell_type": "markdown",
   "id": "ac4997a8-cf23-4f76-baef-1b417a3ed621",
   "metadata": {},
   "source": [
    "Los datos no siguen una distribución normal(Gaussiana). Y en las variables Discapacidad_encoded, Sexo_encoded no presentan Outliers, así que voy a aplicar para el escalado MinMaxScaler. Para las variables que tienen Outliers que son, Total Plazas matriculaciones, Tipo de plazas_encoded, 'Comunidad_01 ANDALUCÍA','Comunidad_02 ARAGÓN', 'Comunidad_10 COMUNITAT VALENCIANA','Comunidad_11 EXTREMADURA', 'Comunidad_12 GALICIA', 'Comunidad_13 MADRID, COMUNIDAD DE', 'Comunidad_14 MURCIA, REGIÓN DE', 'Comunidad_15 NAVARRA, COMUNIDAD FORAL DE', 'Comunidad_16 PAÍS VASCO', 'Comunidad_17 RIOJA, LA', 'Comunidad_18 CEUTA', 'Comunidad_19 MELILLA', aplicaré RobustScaler."
   ]
  },
  {
   "cell_type": "code",
   "execution_count": null,
   "id": "4d56e349-6fef-47fa-90e1-9d0cb8505464",
   "metadata": {},
   "outputs": [],
   "source": [
    "from sklearn.preprocessing import MinMaxScaler, RobustScaler\n",
    "\n",
    "# Selecciona las columnas numéricas que deseas escalar\n",
    "columns_minmax = [ 'Discapacidad_encoded', 'Sexo_encoded']\n",
    "columns_robust = ['Total plazas matriculaciones', 'Tipo de plazas_encoded', 'Comunidad_01 ANDALUCÍA','Comunidad_02 ARAGÓN','Comunidad_10 COMUNITAT VALENCIANA','Comunidad_11 EXTREMADURA', 'Comunidad_12 GALICIA',\t'Comunidad_13 MADRID, COMUNIDAD DE', 'Comunidad_14 MURCIA, REGIÓN DE', 'Comunidad_15 NAVARRA, COMUNIDAD FORAL DE', 'Comunidad_16 PAÍS VASCO',\t'Comunidad_17 RIOJA, LA', 'Comunidad_18 CEUTA',\t'Comunidad_19 MELILLA']\n",
    "\n",
    "# Crea una instancia de MinMaxScaler y RobustScaler\n",
    "minmax_scaler = MinMaxScaler()\n",
    "robust_scaler = RobustScaler()\n",
    "\n",
    "# Ajusta y transforma los datos seleccionados con MinMaxScaler\n",
    "df[columns_minmax] = minmax_scaler.fit_transform(df[columns_minmax])\n",
    "\n",
    "# Ajusta y transforma los datos seleccionados con RobustScaler\n",
    "df[columns_robust] = robust_scaler.fit_transform(df[columns_robust])\n",
    "df"
   ]
  },
  {
   "cell_type": "code",
   "execution_count": null,
   "id": "5ea86239-7dbd-4e46-946f-d7b18e070480",
   "metadata": {},
   "outputs": [],
   "source": [
    "df_scaler = df"
   ]
  },
  {
   "cell_type": "markdown",
   "id": "fe7d4bbb-27da-4f05-8f0d-64f614dbad1f",
   "metadata": {},
   "source": [
    "Consideré hacer una PCA, y los valores me los reducía a una dimensión, pero luego tenía dificultades para graficar los resultados. Así que finalmente he preferido omitir la PCA, y aplicar el modelo Kmeans para todos los datos."
   ]
  },
  {
   "cell_type": "code",
   "execution_count": null,
   "id": "ab548fee-c05e-44e1-8924-318f4749aa29",
   "metadata": {},
   "outputs": [],
   "source": [
    "!pip install kneed"
   ]
  },
  {
   "cell_type": "code",
   "execution_count": null,
   "id": "e84907b6-80e6-4298-a917-52b6b6f25302",
   "metadata": {},
   "outputs": [],
   "source": [
    "from sklearn.cluster import KMeans\n",
    "from kneed import KneeLocator\n",
    "import matplotlib.pyplot as plt\n",
    "\n",
    "inertia = []\n",
    "for k in range(2, 10):\n",
    "    kmeans = KMeans(n_clusters=k).fit(df_scaler.values)\n",
    "    inertia.append(kmeans.inertia_)\n",
    "    \n",
    "plt.plot(range(2, 10), inertia, marker=\"o\", linestyle=\"-\")\n",
    "plt.xlabel(\"Número de Clusters\")\n",
    "plt.ylabel(\"Inercia\")\n",
    "plt.title(\"Número de Clusters vs. Inercia\")\n",
    "\n",
    "# Utilizamos KneeLocator para encontrar el punto de inflexión\n",
    "kneedle = KneeLocator(range(2, 10), inertia, curve=\"convex\", direction=\"decreasing\")\n",
    "plt.vlines(kneedle.knee, plt.ylim()[0], plt.ylim()[1], linestyles='dashed', color='red')\n",
    "plt.text(kneedle.knee+0.1, plt.ylim()[1]/2, 'Punto de codo', rotation=90)\n",
    "\n",
    "plt.show()"
   ]
  },
  {
   "cell_type": "markdown",
   "id": "4ed6ad7c-e24b-402e-8106-5ef5ad61f348",
   "metadata": {},
   "source": [
    "He comprobado la inercia de mis datos, la prueba del codo y aplicando KneeLocator se ve que el punto más óptimo de Clusters es 4.\n",
    "\n"
   ]
  },
  {
   "cell_type": "code",
   "execution_count": null,
   "id": "67084ee0-2d10-431e-ada3-45bdf084d6c6",
   "metadata": {},
   "outputs": [],
   "source": [
    "from sklearn.metrics import silhouette_score\n",
    "\n",
    "\n",
    "def plot_silhouette(data, k_values):\n",
    "    silhouette_scores = []\n",
    "\n",
    "    for k in k_values:\n",
    "        kmeans = KMeans(n_clusters=k, n_init=10, random_state=45)\n",
    "        cluster_labels = kmeans.fit_predict(data)\n",
    "        silhouette_avg = silhouette_score(data, cluster_labels)\n",
    "        silhouette_scores.append(silhouette_avg)\n",
    "\n",
    "    plt.plot(k_values, silhouette_scores, 'bo-')\n",
    "    plt.xlabel('Número de Clusters (K)')\n",
    "    plt.ylabel('Silhouette Score')\n",
    "    plt.title('Silhouette Scores vs Número de Clusters(K)')\n",
    "    plt.show()\n",
    "\n",
    "k_values = list(range(2, 9))\n",
    "plot_silhouette(df.values, k_values)"
   ]
  },
  {
   "cell_type": "markdown",
   "id": "80519788-c7ce-49f9-9646-e1880fa3fe6c",
   "metadata": {},
   "source": [
    "Con el método silhouette el valor más alto de su coeficiente es de 2. Este en principio sería el número de k, el número de centroides. Si establecemos 4, lo que nos está indicando es que no se están dividiendo los datos de una buena forma, ya que el Score se encuentra en 0.86. Sin embargo si optamos por establecer el número 2, el Score se encuentra lo más próximo a 1. Entonces, voy a aplicar los dos para ver que está haciendo."
   ]
  },
  {
   "cell_type": "code",
   "execution_count": null,
   "id": "f76743db-53f9-425f-871f-d834f21c7cfe",
   "metadata": {},
   "outputs": [],
   "source": [
    "#desplegamos el método kmeans con el número de k escogido \n",
    "kmeans = KMeans(n_clusters=4).fit(df_scaler)\n",
    "\n",
    "#predecimos los labels \n",
    "labels = kmeans.predict(df_scaler)\n",
    "\n",
    "#creamos una nueva columna en nuestro dataset limpio con los valores de los labels\n",
    "plazas_2022['label'] = labels"
   ]
  },
  {
   "cell_type": "markdown",
   "id": "83f9319d-9faa-4cf4-8ce9-9b9be95f2cc6",
   "metadata": {},
   "source": [
    "Primeramente, voy a graficar la descripción de los clusters teniendo en cuenta el tamaño de cada uno de los clusters y su relación con el conjunto total de datos."
   ]
  },
  {
   "cell_type": "code",
   "execution_count": null,
   "id": "39f313d4-a018-4726-9294-eca135de0bd8",
   "metadata": {},
   "outputs": [],
   "source": [
    "#contamos el número de observaciones por cluster\n",
    "cluster_counts = plazas_2022['label'].value_counts()\n",
    "messages = [f'Cluster {label}: {count} observaciones' for label, count in cluster_counts.items()]\n",
    "\n",
    "#imprimimos la información\n",
    "for message in messages:\n",
    "    print(message)\n",
    "\n",
    "#creamos un gráfico de pastel\n",
    "plt.figure(figsize=(8, 8))\n",
    "plt.pie(cluster_counts, labels=cluster_counts.index, autopct='%1.1f%%', startangle=90)\n",
    "\n",
    "#configuramos el título\n",
    "plt.title('Tamaño de cada cluster')\n",
    "\n",
    "# Mostrar el gráfico\n",
    "plt.show()"
   ]
  },
  {
   "cell_type": "markdown",
   "id": "796ee755-fdcc-46b0-92b9-bc5e0b4ed384",
   "metadata": {},
   "source": [
    "Según el gráfico se establecen 4 Clusters, :\n",
    "\n",
    "El cluster 0 es el que más observaciones tiene del conjunto de datos. \n",
    "Los clusters 1,2 y 3 representan solo el 17% del data set.\n",
    "Existe mucha diferencia del cluster 0 al resto de clusters.\n",
    "\n",
    "Voy a visualizar la distribución de los clusters vs las variables. Primeramente voy a ver como distribuye la variable discapacidad."
   ]
  },
  {
   "cell_type": "code",
   "execution_count": null,
   "id": "a7ecd95c-3d05-448f-ad7d-934a7c6c9281",
   "metadata": {},
   "outputs": [],
   "source": [
    "# Contar el número de ocurrencias de cada valor en 'Discapacidad_encoded' para cada cluster\n",
    "conteo_discapacidad_por_cluster = plazas_2022.groupby(['label', 'Discapacidad']).size().unstack()\n",
    "\n",
    "# Normalizar los valores para obtener el porcentaje\n",
    "conteo_discapacidad_porcentaje = conteo_discapacidad_por_cluster.div(conteo_discapacidad_por_cluster.sum(axis=1), axis=0) * 100\n",
    "\n",
    "# Escoger un estilo \n",
    "sns.set(style=\"whitegrid\")\n",
    "\n",
    "# Crear el gráfico\n",
    "plt.figure(figsize=(12, 8))\n",
    "conteo_discapacidad_porcentaje.plot(kind='barh', stacked=True)\n",
    "\n",
    "# Configurar\n",
    "plt.title('Distribución de Discapacidad por Cluster')\n",
    "plt.xlabel('Porcentaje del Total de Discapacidad')\n",
    "plt.ylabel('Cluster')\n",
    "\n",
    "# Ajustar leyenda\n",
    "plt.legend(title='Discapacidad', bbox_to_anchor=(1.05, 1), loc='upper left')\n",
    "\n",
    "# Mostrar el gráfico\n",
    "plt.show()"
   ]
  },
  {
   "cell_type": "markdown",
   "id": "b5e516d5-e211-46c4-a077-fea3b4f3ce79",
   "metadata": {},
   "source": [
    "Y agrupa todas las discapacidades en el cluster 0, entonces se entiende que no tiene peso la variable Discapacidad para la agrupación ya que no lo hace de manera equitativa.\n",
    "\n",
    "Voy a visualizar si lo agrupa por tipo de plazas."
   ]
  },
  {
   "cell_type": "code",
   "execution_count": null,
   "id": "2e67beea-9d4e-453f-a63c-c5e3432a1ec2",
   "metadata": {},
   "outputs": [],
   "source": [
    "# Contar el número de ocurrencias de cada valor en 'Tipo de plazas_encoded' para cada cluster\n",
    "conteo_tipo_plazas_por_cluster = plazas_2022.groupby(['label', 'Tipo de plazas']).size().unstack()\n",
    "\n",
    "# Normalizar los valores para obtener el porcentaje\n",
    "conteo_tipo_plazas_porcentaje = conteo_tipo_plazas_por_cluster.div(conteo_tipo_plazas_por_cluster.sum(axis=1), axis=0) * 100\n",
    "\n",
    "# Escoger un estilo \n",
    "sns.set(style=\"whitegrid\")\n",
    "\n",
    "# Crear el gráfico\n",
    "plt.figure(figsize=(12, 8))\n",
    "conteo_tipo_plazas_porcentaje.plot(kind='barh', stacked=True)\n",
    "\n",
    "# Configurar\n",
    "plt.title('Distribución de Tipo de Plazas por Cluster')\n",
    "plt.xlabel('Porcentaje del Total de Tipo de Plazas')\n",
    "plt.ylabel('Cluster')\n",
    "\n",
    "# Ajustar leyenda\n",
    "plt.legend(title='Tipo de Plazas', bbox_to_anchor=(1.05, 1), loc='upper left')\n",
    "\n",
    "# Mostrar el gráfico\n",
    "plt.show()"
   ]
  },
  {
   "cell_type": "markdown",
   "id": "25b0cf39-bf59-4d84-a7c5-96e115076dd3",
   "metadata": {},
   "source": [
    "Y la sorpresa es que agrupa en el Cluster 0 las plazas especiales y el resto las distribuye en los otros Clusters.\n",
    "\n",
    "Ahora, voy a visualizar la variable de Sexo."
   ]
  },
  {
   "cell_type": "code",
   "execution_count": null,
   "id": "7ea8eae1-3a70-441b-a5fa-ce3f96ced414",
   "metadata": {},
   "outputs": [],
   "source": [
    "# Contar el número de ocurrencias de cada valor en 'Tipo de plazas_encoded' para cada cluster\n",
    "conteo_tipo_plazas_por_cluster = plazas_2022.groupby(['label', 'Sexo']).size().unstack()\n",
    "\n",
    "# Normalizar los valores para obtener el porcentaje\n",
    "conteo_tipo_plazas_porcentaje = conteo_tipo_plazas_por_cluster.div(conteo_tipo_plazas_por_cluster.sum(axis=1), axis=0) * 100\n",
    "\n",
    "# Escoger un estilo \n",
    "sns.set(style=\"whitegrid\")\n",
    "\n",
    "# Crear el gráfico\n",
    "plt.figure(figsize=(12, 8))\n",
    "conteo_tipo_plazas_porcentaje.plot(kind='barh', stacked=True)\n",
    "\n",
    "# Configurar\n",
    "plt.title('Distribución de sexo por Cluster')\n",
    "plt.xlabel('Porcentaje por tipo de sexo')\n",
    "plt.ylabel('Cluster')\n",
    "\n",
    "# Ajustar leyenda\n",
    "plt.legend(title='Sexo', bbox_to_anchor=(1.05, 1), loc='upper left')\n",
    "\n",
    "# Mostrar el gráfico\n",
    "plt.show()"
   ]
  },
  {
   "cell_type": "markdown",
   "id": "dd7773fc-79ec-4cfd-991a-89e42dffbbbd",
   "metadata": {},
   "source": [
    "Y aquí si que distribuye la mitad para cada cluster. Entonces voy a visualizar por el tota de plazas matriculaciones."
   ]
  },
  {
   "cell_type": "code",
   "execution_count": null,
   "id": "0b774d2e-a931-4601-967b-c9dd478e4b07",
   "metadata": {},
   "outputs": [],
   "source": [
    "# Contar el número de ocurrencias de cada valor en 'Tipo de plazas_encoded' para cada cluster\n",
    "conteo_tipo_plazas_por_cluster = plazas_2022.groupby(['label', 'Total plazas matriculaciones']).size().unstack()\n",
    "\n",
    "# Normalizar los valores para obtener el porcentaje\n",
    "conteo_tipo_plazas_porcentaje = conteo_tipo_plazas_por_cluster.div(conteo_tipo_plazas_por_cluster.sum(axis=1), axis=0) * 100\n",
    "\n",
    "# Escoger un estilo \n",
    "sns.set(style=\"whitegrid\")\n",
    "\n",
    "# Crear el gráfico\n",
    "plt.figure(figsize=(12, 8))\n",
    "conteo_tipo_plazas_porcentaje.plot(kind='barh', stacked=True)\n",
    "\n",
    "# Configurar\n",
    "plt.title('Distribución de Total de  Plazas matriculaciones por Cluster')\n",
    "plt.xlabel('Porcentaje del Total de Plazas')\n",
    "plt.ylabel('Cluster')\n",
    "\n",
    "# Ajustar leyenda\n",
    "plt.legend(title='Tipo de Plazas', bbox_to_anchor=(1.05, 1), loc='upper left')\n",
    "\n",
    "# Mostrar el gráfico\n",
    "plt.show()"
   ]
  },
  {
   "cell_type": "markdown",
   "id": "368d7bf9-0624-4e0c-be65-edb7a82a5642",
   "metadata": {},
   "source": [
    "Y sorpresa, me está haciendo grupos por el número de registros de matriculaciones. Sinceramente no le veo el sentido, pero..."
   ]
  },
  {
   "cell_type": "code",
   "execution_count": null,
   "id": "7bfeb811-c553-4a85-bb23-0d07771e3f18",
   "metadata": {},
   "outputs": [],
   "source": [
    "#calculamos los valores medios por cada columna\n",
    "mean_values = plazas_2022.groupby('label')[columnas_numericas].mean()\n",
    "\n",
    "print(mean_values)"
   ]
  },
  {
   "cell_type": "code",
   "execution_count": null,
   "id": "7eb2e85d-d397-4a6a-8be7-1aea363f219c",
   "metadata": {},
   "outputs": [],
   "source": [
    "#determinamos la media  por cluster \n",
    "media = plazas_2022.groupby('label')[columnas_numericas].mean().reset_index()\n",
    "\n",
    "\n",
    "#creamos un gráfico de barras agrupadas\n",
    "plt.figure()\n",
    "sns.barplot(data=media.melt(id_vars='label'), x='label', y='value', hue='variable', palette='viridis')\n",
    "\n",
    "#configuramos el gráfico\n",
    "plt.title('Valores Medios de Reacciones por Cluster')\n",
    "plt.xlabel('Cluster')\n",
    "plt.ylabel('Valor Medio')\n",
    "plt.legend(title='Valor medio por Cluster', bbox_to_anchor=(1.05, 1), loc='upper left')\n",
    "\n",
    "plt.show()"
   ]
  },
  {
   "cell_type": "markdown",
   "id": "eda87cfa-71a4-4fda-beb3-ae085ea28b6a",
   "metadata": {},
   "source": [
    "Bueno, pues con este gráfico puedo ver perfectamente como se está distribuyendo las variables en cada cluster. Y evidencia lo que he explicando anteriormente."
   ]
  },
  {
   "cell_type": "code",
   "execution_count": null,
   "id": "fdd4fd53-ac67-4657-93bb-8acdee1b2081",
   "metadata": {},
   "outputs": [],
   "source": [
    "#creamos el scatter con comments y shares\n",
    "sns.scatterplot(x='Total plazas matriculaciones', y='Sexo', hue='label', data=plazas_2022, alpha=0.7, palette='viridis')\n",
    "\n",
    "#configuramos el gráfico\n",
    "plt.title('Scatter Plot de Total plazas matriculaciones vs. Sexo_encoded (con Hue en Label)')\n",
    "plt.xlabel('Total plazas matriculaciones')\n",
    "plt.ylabel('Sexo_encoded')\n",
    "plt.legend(title='Label')\n",
    "\n",
    "plt.show()"
   ]
  },
  {
   "cell_type": "markdown",
   "id": "f7703c03-f8c8-4e78-8090-fc89b1e18e6d",
   "metadata": {},
   "source": [
    "Y haciendo un scatterplot de este modo me está agrupando los datos por sexo, y por el Total de plazas matriculaciones. Voy a aplicar 2 cluters para ver que pasa esta vez."
   ]
  },
  {
   "cell_type": "code",
   "execution_count": null,
   "id": "02623ec8-e1e1-4fc0-a467-b3b957438630",
   "metadata": {},
   "outputs": [],
   "source": [
    "#desplegamos el método kmeans con el número de k escogido \n",
    "kmeans = KMeans(n_clusters=2).fit(df_scaler)\n",
    "\n",
    "#predecimos los labels \n",
    "labels = kmeans.predict(df_scaler)\n",
    "\n",
    "#creamos una nueva columna en nuestro dataset limpio con los valores de los labels\n",
    "plazas_2022['label'] = labels\n",
    "\n",
    "#contamos el número de observaciones por cluster\n",
    "cluster_counts = plazas_2022['label'].value_counts()\n",
    "messages = [f'Cluster {label}: {count} observaciones' for label, count in cluster_counts.items()]\n",
    "\n",
    "#imprimimos la información\n",
    "for message in messages:\n",
    "    print(message)\n",
    "\n",
    "#creamos un gráfico de pastel\n",
    "plt.figure(figsize=(8, 8))\n",
    "plt.pie(cluster_counts, labels=cluster_counts.index, autopct='%1.1f%%', startangle=90)\n",
    "\n",
    "#configuramos el título\n",
    "plt.title('Tamaño de cada cluster')\n",
    "\n",
    "# Mostrar el gráfico\n",
    "plt.show()"
   ]
  },
  {
   "cell_type": "markdown",
   "id": "0873a4e2-27dd-4d56-81c2-98e3793ed12f",
   "metadata": {},
   "source": [
    "Me asigna 94,7% en el Cluster 0 y un 5,3% en el Cluster 1."
   ]
  },
  {
   "cell_type": "code",
   "execution_count": null,
   "id": "ac608d94-66b5-45b8-98d7-249ab16d77f7",
   "metadata": {},
   "outputs": [],
   "source": [
    "# Contar el número de ocurrencias de cada valor en 'Discapacidad_encoded' para cada cluster\n",
    "conteo_discapacidad_por_cluster = plazas_2022.groupby(['label', 'Discapacidad']).size().unstack()\n",
    "\n",
    "# Normalizar los valores para obtener el porcentaje\n",
    "conteo_discapacidad_porcentaje = conteo_discapacidad_por_cluster.div(conteo_discapacidad_por_cluster.sum(axis=1), axis=0) * 100\n",
    "\n",
    "# Escoger un estilo \n",
    "sns.set(style=\"whitegrid\")\n",
    "\n",
    "# Crear el gráfico\n",
    "plt.figure(figsize=(12, 8))\n",
    "conteo_discapacidad_porcentaje.plot(kind='barh', stacked=True)\n",
    "\n",
    "# Configurar\n",
    "plt.title('Distribución de Discapacidad por Cluster')\n",
    "plt.xlabel('Porcentaje del Total de Discapacidad')\n",
    "plt.ylabel('Cluster')\n",
    "\n",
    "# Ajustar leyenda\n",
    "plt.legend(title='Discapacidad', bbox_to_anchor=(1.05, 1), loc='upper left')\n",
    "\n",
    "# Mostrar el gráfico\n",
    "plt.show()"
   ]
  },
  {
   "cell_type": "markdown",
   "id": "7d295701-0e28-429f-9466-7035392847a6",
   "metadata": {},
   "source": [
    "Interesante, Discapacidades en el Cluster 0 y el resto en Cluster 1. Voy a seguir mirando."
   ]
  },
  {
   "cell_type": "code",
   "execution_count": null,
   "id": "93270757-696b-4c0c-afd8-0dc9c551890a",
   "metadata": {},
   "outputs": [],
   "source": [
    "# Contar el número de ocurrencias de cada valor en 'Tipo de plazas_encoded' para cada cluster\n",
    "conteo_tipo_plazas_por_cluster = plazas_2022.groupby(['label', 'Tipo de plazas']).size().unstack()\n",
    "\n",
    "# Normalizar los valores para obtener el porcentaje\n",
    "conteo_tipo_plazas_porcentaje = conteo_tipo_plazas_por_cluster.div(conteo_tipo_plazas_por_cluster.sum(axis=1), axis=0) * 100\n",
    "\n",
    "# Escoger un estilo \n",
    "sns.set(style=\"whitegrid\")\n",
    "\n",
    "# Crear el gráfico\n",
    "plt.figure(figsize=(12, 8))\n",
    "conteo_tipo_plazas_porcentaje.plot(kind='barh', stacked=True)\n",
    "\n",
    "# Configurar\n",
    "plt.title('Distribución de Tipo de Plazas por Cluster')\n",
    "plt.xlabel('Porcentaje del Total de Tipo de Plazas')\n",
    "plt.ylabel('Cluster')\n",
    "\n",
    "# Ajustar leyenda\n",
    "plt.legend(title='Tipo de Plazas', bbox_to_anchor=(1.05, 1), loc='upper left')\n",
    "\n",
    "# Mostrar el gráfico\n",
    "plt.show()"
   ]
  },
  {
   "cell_type": "markdown",
   "id": "765e9230-f700-4d6e-8479-50ec20c3c3b0",
   "metadata": {},
   "source": [
    "Bien, asigna plazas Especiales a Cluster 0 y Plazas Ordinarias a Cluster 1.\n",
    "\n"
   ]
  },
  {
   "cell_type": "code",
   "execution_count": null,
   "id": "1b31f369-6a5f-4087-b4b2-699d6dd3775a",
   "metadata": {},
   "outputs": [],
   "source": [
    "# Contar el número de ocurrencias de cada valor en 'Tipo de plazas_encoded' para cada cluster\n",
    "conteo_tipo_plazas_por_cluster = plazas_2022.groupby(['label', 'Sexo']).size().unstack()\n",
    "\n",
    "# Normalizar los valores para obtener el porcentaje\n",
    "conteo_tipo_plazas_porcentaje = conteo_tipo_plazas_por_cluster.div(conteo_tipo_plazas_por_cluster.sum(axis=1), axis=0) * 100\n",
    "\n",
    "# Escoger un estilo \n",
    "sns.set(style=\"whitegrid\")\n",
    "\n",
    "# Crear el gráfico\n",
    "plt.figure(figsize=(12, 8))\n",
    "conteo_tipo_plazas_porcentaje.plot(kind='barh', stacked=True)\n",
    "\n",
    "# Configurar\n",
    "plt.title('Distribución de sexo por Cluster')\n",
    "plt.xlabel('Porcentaje por tipo de sexo')\n",
    "plt.ylabel('Cluster')\n",
    "\n",
    "# Ajustar leyenda\n",
    "plt.legend(title='Sexo', bbox_to_anchor=(1.05, 1), loc='upper left')\n",
    "\n",
    "# Mostrar el gráfico\n",
    "plt.show()"
   ]
  },
  {
   "cell_type": "markdown",
   "id": "91adc8a2-0636-4a46-8c10-a18299250169",
   "metadata": {},
   "source": [
    "Esta vez, igual que en la anterior agrupación, reparte hombres y mujeres por igual a cada Cluster."
   ]
  },
  {
   "cell_type": "code",
   "execution_count": null,
   "id": "ca3ccca7-8e66-40e4-a4b0-a1fe425d4ee5",
   "metadata": {},
   "outputs": [],
   "source": [
    "# Contar el número de ocurrencias de cada valor en 'Tipo de plazas_encoded' para cada cluster\n",
    "conteo_tipo_plazas_por_cluster = plazas_2022.groupby(['label', 'Total plazas matriculaciones']).size().unstack()\n",
    "\n",
    "# Normalizar los valores para obtener el porcentaje\n",
    "conteo_tipo_plazas_porcentaje = conteo_tipo_plazas_por_cluster.div(conteo_tipo_plazas_por_cluster.sum(axis=1), axis=0) * 100\n",
    "\n",
    "# Escoger un estilo \n",
    "sns.set(style=\"whitegrid\")\n",
    "\n",
    "# Crear el gráfico\n",
    "plt.figure(figsize=(12, 8))\n",
    "conteo_tipo_plazas_porcentaje.plot(kind='barh', stacked=True)\n",
    "\n",
    "# Configurar\n",
    "plt.title('Distribución de Total de  Plazas matriculaciones por Cluster')\n",
    "plt.xlabel('Porcentaje del Total de Plazas')\n",
    "plt.ylabel('Cluster')\n",
    "\n",
    "# Ajustar leyenda\n",
    "plt.legend(title='Tipo de Plazas', bbox_to_anchor=(1.05, 1), loc='upper left')\n",
    "\n",
    "# Mostrar el gráfico\n",
    "plt.show()"
   ]
  },
  {
   "cell_type": "markdown",
   "id": "0a2473a9-6daf-4d5f-baf7-e0715cc563a4",
   "metadata": {},
   "source": [
    "También tiene en cuenta el Total de plazas, pero entiendo que tiene más peso los argumentos anteriores."
   ]
  },
  {
   "cell_type": "code",
   "execution_count": null,
   "id": "c157f401-4468-48f8-bb5b-fcaff8036790",
   "metadata": {},
   "outputs": [],
   "source": [
    "#calculamos los valores medios por cada columna\n",
    "mean_values = plazas_2022.groupby('label')[columnas_numericas].mean()\n",
    "\n",
    "print(mean_values)"
   ]
  },
  {
   "cell_type": "code",
   "execution_count": null,
   "id": "ed9e9572-8788-45a1-94b4-b8831cae447a",
   "metadata": {},
   "outputs": [],
   "source": [
    "#determinamos la media  por cluster \n",
    "media = plazas_2022.groupby('label')[columnas_numericas].mean().reset_index()\n",
    "\n",
    "\n",
    "#creamos un gráfico de barras agrupadas\n",
    "plt.figure()\n",
    "sns.barplot(data=media.melt(id_vars='label'), x='label', y='value', hue='variable', palette='viridis')\n",
    "\n",
    "#configuramos el gráfico\n",
    "plt.title('Valores Medios de Reacciones por Cluster')\n",
    "plt.xlabel('Cluster')\n",
    "plt.ylabel('Valor Medio')\n",
    "plt.legend(title='Valor medio por Cluster', bbox_to_anchor=(1.05, 1), loc='upper left')\n",
    "\n",
    "plt.show()"
   ]
  },
  {
   "cell_type": "code",
   "execution_count": null,
   "id": "2f069ca0-2e51-4070-8969-88eb42b66c3e",
   "metadata": {},
   "outputs": [],
   "source": [
    "#creamos el scatter \n",
    "sns.scatterplot(x='Total plazas matriculaciones', y='Sexo', hue='label', data=plazas_2022, alpha=0.7, palette='viridis')\n",
    "\n",
    "#configuramos el gráfico\n",
    "plt.title('Scatter Plot de Total plazas matriculaciones vs. Sexo_encoded (con Hue en Label)')\n",
    "plt.xlabel('Total plazas matriculaciones')\n",
    "plt.ylabel('Sexo_encoded')\n",
    "plt.legend(title='Label')\n",
    "\n",
    "plt.show()"
   ]
  },
  {
   "cell_type": "markdown",
   "id": "0e2264c4-f2e2-4e6d-8a28-ed8b85e3b943",
   "metadata": {},
   "source": [
    "CONCLUSIONES:\n",
    "\n",
    "Partiendo que mi dataset tiene variables que no tienen relación entre ellas, ya que se trata de un dataset con registros anuales, que además son repetidos en el tiempo. También me encuentro que no tenemos una variable target, por ello se me presentaban 2 opciones de aplicación de modelo, o agrupación sin target, como es mi caso K-means, (ya que el resto de modelos de clasificación me piden expresamente que exista dicha variable) o por el contrario una predicción que tomara datos temporales sin estacionalidad. Revisé los modelos que se podrían aplicar y encontré uno la autoregresión pero tampoco lo logré.\n",
    "\n",
    "Así que finalmente, aplicando el modelo K-mens me quedo más convencida de que la segunda opción me lo agrupa de una manera más coherente que la primera. En plazas Ordinarias y plazas Especiales.\n",
    "\n",
    "Realmente el fin de mi proyecto a sido darme luz de la realidad que existe a nivel nacional las discapacidades especiales en nustro país. Creía que cada vez existian más casos, esa era mi sensación. Me he encontrado que en España no se está movilizando de la misma manera como se ha movilizado en Estados Unidos. Además de que llevan mucho más tiempo estuciando lo relacionado a las discapacidaes. Me encontré que practicamente no existian bases de datos relacionadas, que además lo que existía no eran datos reales, ya que existe un tardancia en la otorgación de la discapacidad por parte de las administraciones. Y que este dataset que he creado sí tiene esa transparencia real, ya que en el momento que se realiza un informe médico automáticamente se asigna una plaza de necesidades especiales.\n",
    "\n",
    "También he podido confirmar que un 94,7% se destina a plazas Ordinarias y el resto sólo el 5,3% se destina a las plazas especiales totales a nivel nacional. Esta es la realidad de mi proyecto."
   ]
  }
 ],
 "metadata": {
  "kernelspec": {
   "display_name": "Python 3 (ipykernel)",
   "language": "python",
   "name": "python3"
  },
  "language_info": {
   "codemirror_mode": {
    "name": "ipython",
    "version": 3
   },
   "file_extension": ".py",
   "mimetype": "text/x-python",
   "name": "python",
   "nbconvert_exporter": "python",
   "pygments_lexer": "ipython3",
   "version": "3.11.7"
  }
 },
 "nbformat": 4,
 "nbformat_minor": 5
}

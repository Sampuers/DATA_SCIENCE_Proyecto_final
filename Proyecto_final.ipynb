{
 "cells": [
  {
   "cell_type": "code",
   "execution_count": null,
   "id": "5634d18a-60a6-41cc-a4c6-daf334317fd3",
   "metadata": {},
   "outputs": [],
   "source": [
    "import pandas as pd\n",
    "import warnings\n",
    "\n",
    "warnings.filterwarnings('ignore') # Ignora los mensajes de error."
   ]
  },
  {
   "cell_type": "markdown",
   "id": "99a079cb-e946-4fdc-bc9e-2f830c2f1cc2",
   "metadata": {},
   "source": [
    "Voy a trabajar con un dataset del ministerio de educación de matriculaciones de Registros generales por comunidad y matriculaciones de necesidades especiales. \n",
    "\n",
    "De todas las discapacidades que se muestran, me centraré sólo en las neurológicas, que son discapacidad Intelectual, trastornos del espectro del autismo, y trastornos graves de conducta. \n",
    "\n",
    "Voy a definir cada una de ellas, para que quede claro:\n",
    "\n",
    "- Discapacidad intelectual:  implica limitaciones en el funcionamiento mental y adaptativo. Puede afectar la comunicación, el aprendizaje y la toma de decisiones. Con apoyo adecuado, las personas con esta condición pueden llevar vidas plenas y contribuir a la sociedad. La inclusión y el respeto son fundamentales para su bienestar.\n",
    "  \n",
    "- Trastornos del aspectro autismo: afectan la comunicación, interacción social y comportamiento. Con apoyo adecuado, las personas con TEA pueden llevar vidas plenas. Aceptación y comprensión son clave.\n",
    "  \n",
    "- Trastornos gaves de conducta: implican comportamientos desafiantes y problemáticos que pueden poner en peligro la seguridad de la persona o de los demás. Requieren atención especializada y apoyo para mejorar la calidad de vida. Son patrones persistentes de comportamiento desafiante y problemático que pueden incluir agresión, conducta antisocial, comportamientos autolesivos u otros comportamientos que ponen en peligro la seguridad de la persona o de los demás.\n",
    "\n",
    "Me encuetro con dos dataset para cada año y voy a unir todos los datasets con MERGE en uno. El rango de cursos lectivos que voy a trabajar son de 5 años, del 2017 al 2022. "
   ]
  },
  {
   "cell_type": "code",
   "execution_count": null,
   "id": "524708ce-642b-424a-a902-d35f9e92038e",
   "metadata": {},
   "outputs": [],
   "source": [
    "# Descargo archivo RG 2021-2022 \n",
    "RG_21_22 = pd.read_csv(\"RG_21_22_CSV.csv\", sep='\\t', encoding='latin1')\n",
    "RG_21_22"
   ]
  },
  {
   "cell_type": "markdown",
   "id": "46c211b9-3cd7-4737-bd0c-8e1683e8aad1",
   "metadata": {},
   "source": [
    "Para tener los datos de cada dataset ordenados, voy a tener que crear una columna que se llame Curso y añadir el año del curso de finalización "
   ]
  },
  {
   "cell_type": "code",
   "execution_count": null,
   "id": "0b30e283-069b-42ce-907a-ce647bacacd9",
   "metadata": {},
   "outputs": [],
   "source": [
    "# Añadir una nueva columna llamada 'Año' con el valor '2022' Realmente se refiere al Curso \n",
    "RG_21_22['Año'] = '2022'\n",
    "RG_21_22"
   ]
  },
  {
   "cell_type": "code",
   "execution_count": null,
   "id": "baee8a18-6014-4ce1-9148-947ca637e4fd",
   "metadata": {},
   "outputs": [],
   "source": [
    "# Mover la columna a la posición 2. \n",
    "RG_21_22.insert(2, 'Año',RG_21_22.pop('Año'))\n",
    "RG_21_22"
   ]
  },
  {
   "cell_type": "markdown",
   "id": "39caf884-a105-4ee3-8fdf-f384b4ffcff3",
   "metadata": {},
   "source": [
    "También veo que tengo que ordenar los datos de todos los datasets, en el Tipo de plazas. Es decir, tengo que crear una columna llamada Tipo de plaza, y le asigno el registro de Ordinaria o Especial. \n",
    "La diferencia de cada plaza es la siguiente: \n",
    "\n",
    "- Ordinaria: una vacante disponible en una institución educativa, ya sea en un nivel escolar o universitario, que no está reservada para un programa específico o para estudiantes con necesidades especiales.\n",
    "  \n",
    "- Especial: una vacante o espacio reservado para un programa educativo específico. Por ejemplo, en el caso de la educación especial, una \"plaza especial\" podría ser una vacante destinada a un estudiante con necesidades educativas especiales que requiere apoyo adicional o servicios personalizados."
   ]
  },
  {
   "cell_type": "code",
   "execution_count": null,
   "id": "060d1fdb-8eed-480e-965a-7342199bc656",
   "metadata": {},
   "outputs": [],
   "source": [
    "# Añadir una nueva columna llamada \"Plaza\" con registros \"Ordinaria\" en la posición 3\n",
    "RG_21_22.insert(loc=3, column='Plaza', value='Ordinarias')\n",
    "RG_21_22"
   ]
  },
  {
   "cell_type": "markdown",
   "id": "034b7249-29c9-4d32-9162-8e3bc1dc481e",
   "metadata": {},
   "source": [
    "De todos los datasets, voy a eliminar las columnas de 'Titularidad/financiación del centro' y también 'Enseñanza'. Ya que el dato que me proporciona no es relevante para mi estudio. "
   ]
  },
  {
   "cell_type": "code",
   "execution_count": null,
   "id": "d4337110-7cf3-42c9-9044-e8ab2abcae43",
   "metadata": {},
   "outputs": [],
   "source": [
    "# Eliminar la columna 'Titularidad/financiación del centro'\n",
    "RG_21_22 = RG_21_22.drop('Titularidad/financiación del centro', axis=1)"
   ]
  },
  {
   "cell_type": "code",
   "execution_count": null,
   "id": "51080c84-df44-4657-827a-7a5e594ecc06",
   "metadata": {},
   "outputs": [],
   "source": [
    "# Eliminar la columna 'Enseñanza'\n",
    "RG_21_22 = RG_21_22.drop('Enseñanza', axis=1)"
   ]
  },
  {
   "cell_type": "code",
   "execution_count": null,
   "id": "024c2447-106b-4ccb-aa73-6f859c3bc487",
   "metadata": {},
   "outputs": [],
   "source": [
    "RG_21_22"
   ]
  },
  {
   "cell_type": "code",
   "execution_count": null,
   "id": "14bd41b4-f921-41fc-80d3-0600d6158b77",
   "metadata": {},
   "outputs": [],
   "source": [
    "NESE_21_22 = pd.read_csv(\"NESE_21_22_CSV1.csv\", sep='\\t', encoding='latin1')\n",
    "NESE_21_22"
   ]
  },
  {
   "cell_type": "code",
   "execution_count": null,
   "id": "9336c7e7-8017-403c-b2f6-356dd7d34a91",
   "metadata": {},
   "outputs": [],
   "source": [
    "# Añadir una nueva columna llamada 'Año' con el valor '2022' Realmente se refiere al Curso \n",
    "NESE_21_22['Año'] = '2022'\n",
    "NESE_21_22"
   ]
  },
  {
   "cell_type": "code",
   "execution_count": null,
   "id": "b6365dda-9096-4467-b329-1ad4b3b8609c",
   "metadata": {},
   "outputs": [],
   "source": [
    "# Mover la columna a la posición 2. \n",
    "NESE_21_22.insert(2, 'Año',NESE_21_22.pop('Año'))\n",
    "NESE_21_22"
   ]
  },
  {
   "cell_type": "code",
   "execution_count": null,
   "id": "1e8764a9-eb9d-43b0-9a71-75bf1fcaaf5e",
   "metadata": {},
   "outputs": [],
   "source": [
    "# Añadir una nueva columna llamada \"Plaza\" con registros \"Ordinarios\" en la posición 3\n",
    "NESE_21_22.insert(loc=3, column='Plaza', value='Especiales')\n",
    "NESE_21_22"
   ]
  },
  {
   "cell_type": "code",
   "execution_count": null,
   "id": "900d9424-a695-4ae5-8219-d9ae1a961c0e",
   "metadata": {},
   "outputs": [],
   "source": [
    "# Eliminar la columna 'Titularidad'\n",
    "NESE_21_22 = NESE_21_22.drop('Titularidad', axis=1)"
   ]
  },
  {
   "cell_type": "code",
   "execution_count": null,
   "id": "74bac8d6-c641-4b9c-a526-ae17ce1bcf6c",
   "metadata": {},
   "outputs": [],
   "source": [
    "NESE_21_22"
   ]
  },
  {
   "cell_type": "markdown",
   "id": "581ddb32-ce77-4d2a-a047-24d51fedc52f",
   "metadata": {},
   "source": [
    "Empiezo a unir los datasets con MERGE, y en la columna de Discapacidad, le asigno el valor 0 a los registros que no tienen valores, ya que están considerados como plazas sin discapacidad. Después más adelante, modifico el valor 0 por No (de No discapacidad). "
   ]
  },
  {
   "cell_type": "code",
   "execution_count": null,
   "id": "1963dce2-70a0-46f6-8963-08cd8d826603",
   "metadata": {},
   "outputs": [],
   "source": [
    "import numpy as np\n",
    "# Copiar los DataFrames originales\n",
    "RG_21_22_copy = RG_21_22.copy()\n",
    "NESE_21_22_copy = NESE_21_22.copy()\n",
    "\n",
    "# Unir los DataFrames por las columnas especificadas\n",
    "Plazas_21_22 = pd.merge(RG_21_22_copy, NESE_21_22_copy, on=['Comunidad autónoma/provincia', 'Año', 'Plaza', 'Sexo','Total'], how='outer')\n",
    "\n",
    "# Rellenar los valores NaN con ceros\n",
    "Plazas_21_22 = Plazas_21_22.fillna(0)"
   ]
  },
  {
   "cell_type": "code",
   "execution_count": null,
   "id": "be3f6dbb-479e-4721-aac1-73d0cd382e75",
   "metadata": {},
   "outputs": [],
   "source": [
    "Plazas_21_22"
   ]
  },
  {
   "cell_type": "code",
   "execution_count": null,
   "id": "4bd038f9-72b5-496e-a016-7ae754dae5a9",
   "metadata": {},
   "outputs": [],
   "source": [
    "# Cambio los valores de 0 en la columna de discapacidad por NO. \n",
    "Plazas_21_22['Discapacidad'] = Plazas_21_22['Discapacidad'].replace(0, 'No')"
   ]
  },
  {
   "cell_type": "code",
   "execution_count": null,
   "id": "87fef5c3-e519-4296-92b4-8c0e8a2ba564",
   "metadata": {},
   "outputs": [],
   "source": [
    "Plazas_21_22"
   ]
  },
  {
   "cell_type": "code",
   "execution_count": null,
   "id": "49d87789-d3b5-4488-a86c-505f01e70cde",
   "metadata": {},
   "outputs": [],
   "source": [
    "# Descargo archivo RG 2020-2021 \n",
    "RG_20_21 = pd.read_csv(\"RG_20_21.csv\", sep='\\t', encoding='latin1')\n",
    "RG_20_21"
   ]
  },
  {
   "cell_type": "code",
   "execution_count": null,
   "id": "a62823ca-a94e-4ba5-974a-033fac59c59f",
   "metadata": {},
   "outputs": [],
   "source": [
    "# Añadir una nueva columna llamada 'Año' con el valor '2022' Realmente se refiere al Curso \n",
    "RG_20_21['Año'] = '2021'\n",
    "\n",
    "# Mover la columna a la posición 2. \n",
    "RG_20_21.insert(2, 'Año',RG_20_21.pop('Año'))\n",
    "\n",
    "# Añadir una nueva columna llamada \"Plaza\" con registros \"Ordinaria\" en la posición 3\n",
    "RG_20_21.insert(loc=3, column='Plaza', value='Ordinarias')\n",
    "\n",
    "# Eliminar la columna 'Titularidad/financiación del centro'\n",
    "RG_20_21 = RG_20_21.drop('Titularidad/financiación del centro', axis=1)\n",
    "\n",
    "# Eliminar la columna 'Enseñanza'\n",
    "RG_20_21 = RG_20_21.drop('Enseñanza', axis=1)\n",
    "\n",
    "RG_20_21"
   ]
  },
  {
   "cell_type": "code",
   "execution_count": null,
   "id": "84fa18ec-6a8f-46f2-aa86-85ca7259ee95",
   "metadata": {},
   "outputs": [],
   "source": [
    "NESE_20_21 = pd.read_csv(\"NESE_20_21.csv\", sep=';', encoding='latin1')\n",
    "NESE_20_21"
   ]
  },
  {
   "cell_type": "code",
   "execution_count": null,
   "id": "4074bd35-3e00-45b7-a13b-83835219d825",
   "metadata": {},
   "outputs": [],
   "source": [
    "# Añadir una nueva columna llamada 'Año' con el valor '2021' Realmente se refiere al Curso \n",
    "NESE_20_21['Año'] = '2021'\n",
    "\n",
    "# Mover la columna a la posición 2. \n",
    "NESE_20_21.insert(2, 'Año',NESE_20_21.pop('Año'))\n",
    "\n",
    "# Añadir una nueva columna llamada \"Plaza\" con registros \"Especial\" en la posición 3\n",
    "NESE_20_21.insert(loc=3, column='Plaza', value='Especiales')\n",
    "\n",
    "# Eliminar la columna 'Titularidad'\n",
    "NESE_20_21 = NESE_20_21.drop('Titularidad', axis=1)\n",
    "\n",
    "NESE_20_21"
   ]
  },
  {
   "cell_type": "code",
   "execution_count": null,
   "id": "218b21bb-04b8-442c-bdb0-3d62fd1e10fd",
   "metadata": {},
   "outputs": [],
   "source": [
    "# Copiar los DataFrames originales\n",
    "RG_20_21_copy = RG_20_21.copy()\n",
    "NESE_20_21_copy = NESE_20_21.copy()\n",
    "\n",
    "# Unir los DataFrames por las columnas Comunidad autónoma, Año, Plaza, Sexo y Total.\n",
    "Plazas_20_21 = pd.merge(RG_20_21_copy, NESE_20_21_copy, on=['Comunidad autónoma/provincia', 'Año', 'Plaza', 'Sexo', 'Total'], how='outer')\n",
    "\n",
    "# Rellenar los valores NaN con ceros\n",
    "Plazas_20_21 = Plazas_20_21.fillna(0)\n",
    "\n",
    "# Cambiar los valores de 0 en la columna de discapacidad por 'No'\n",
    "Plazas_20_21['Discapacidad'] = Plazas_20_21['Discapacidad'].replace(0, 'No')\n",
    "\n",
    "# Mostrar el DataFrame resultante\n",
    "Plazas_20_21"
   ]
  },
  {
   "cell_type": "code",
   "execution_count": null,
   "id": "926689ee-6a80-4b5c-b482-8e3d5a5e83d5",
   "metadata": {},
   "outputs": [],
   "source": [
    "# Copiar los DataFrames originales\n",
    "Plazas_21_22_copy = Plazas_21_22.copy()\n",
    "Plazas_20_21_copy = Plazas_20_21.copy()\n",
    "\n",
    "# Unir los DataFrames por las columnas Comunidad autónoma, Año, Plaza, Sexo, Total, Discapacidad\n",
    "Plazas = pd.merge(Plazas_21_22_copy, Plazas_20_21_copy, on=['Comunidad autónoma/provincia', 'Año', 'Plaza', 'Sexo', 'Discapacidad', 'Total'], how='outer')\n",
    "\n",
    "# Mostrar el DataFrame resultante\n",
    "Plazas"
   ]
  },
  {
   "cell_type": "code",
   "execution_count": null,
   "id": "a8f99c19-a2ef-4530-b68f-4c7064d9892d",
   "metadata": {},
   "outputs": [],
   "source": [
    "# Mover la columna discapacidad a la posición 3. \n",
    "Plazas.insert(3, 'Discapacidad',Plazas.pop('Discapacidad'))\n",
    "\n",
    "# Mover la columna año a la posición 0. \n",
    "Plazas.insert(0, 'Año',Plazas.pop('Año'))\n",
    "\n",
    "Plazas"
   ]
  },
  {
   "cell_type": "code",
   "execution_count": null,
   "id": "51b538c1-1cfb-40cb-b7a7-afff2fbc0dfc",
   "metadata": {},
   "outputs": [],
   "source": [
    "# Descargo archivo RG 2019-2020 \n",
    "RG_19_20 = pd.read_csv(\"RG_19_20.csv\", sep='\\t', encoding='latin1')\n",
    "\n",
    "# Añadir una nueva columna llamada 'Año' con el valor '2020' Realmente se refiere al Curso \n",
    "RG_19_20['Año'] = '2020'\n",
    "\n",
    "# Mover la columna a la posición 2. \n",
    "RG_19_20.insert(2, 'Año',RG_19_20.pop('Año'))\n",
    "\n",
    "# Añadir una nueva columna llamada \"Plaza\" con registros \"Ordinaria\" en la posición 3\n",
    "RG_19_20.insert(loc=3, column='Plaza', value='Ordinarias')\n",
    "\n",
    "# Eliminar la columna 'Titularidad/financiación del centro'\n",
    "RG_19_20 = RG_19_20.drop('Titularidad/financiación del centro', axis=1)\n",
    "\n",
    "# Eliminar la columna 'Enseñanza'\n",
    "RG_19_20 = RG_19_20.drop('Enseñanza', axis=1)\n",
    "\n",
    "RG_19_20\n"
   ]
  },
  {
   "cell_type": "code",
   "execution_count": null,
   "id": "f7fd432a-01e8-45e2-91c8-2c45d211b061",
   "metadata": {},
   "outputs": [],
   "source": [
    "NESE_19_20 = pd.read_csv(\"NESE_19_20.csv\", sep='\\t', encoding='latin1')\n",
    "\n",
    "# Añadir una nueva columna llamada 'Año' con el valor '2021' Realmente se refiere al Curso \n",
    "NESE_19_20['Año'] = '2020'\n",
    "\n",
    "# Mover la columna a la posición 2. \n",
    "NESE_19_20.insert(2, 'Año',NESE_19_20.pop('Año'))\n",
    "\n",
    "# Añadir una nueva columna llamada \"Plaza\" con registros \"Especial\" en la posición 3\n",
    "NESE_19_20.insert(loc=3, column='Plaza', value='Especiales')\n",
    "\n",
    "# Eliminar la columna 'Titularidad'\n",
    "NESE_19_20 = NESE_19_20.drop('Titularidad', axis=1)\n",
    "\n",
    "NESE_19_20\n"
   ]
  },
  {
   "cell_type": "code",
   "execution_count": null,
   "id": "828e7770-a34f-4fa5-b420-f52f86e91941",
   "metadata": {},
   "outputs": [],
   "source": [
    "# Copiar los DataFrames originales\n",
    "RG_19_20_copy = RG_19_20.copy()\n",
    "NESE_19_20_copy = NESE_19_20.copy()\n",
    "\n",
    "# Unir los DataFrames por las columnas Comunidad autónoma, Año, Plaza, Sexo y Total\n",
    "Plazas_19_20 = pd.merge(RG_19_20_copy, NESE_19_20_copy , on=['Comunidad autónoma/provincia', 'Año', 'Plaza', 'Sexo', 'Total'], how='outer')\n"
   ]
  },
  {
   "cell_type": "code",
   "execution_count": null,
   "id": "2314177e-a985-4a85-8dea-ba4e7db9d80a",
   "metadata": {},
   "outputs": [],
   "source": [
    "# Rellenar los valores NaN con ceros\n",
    "Plazas_19_20 = Plazas_19_20.fillna(0)\n",
    "\n",
    "# Cambio los valores de 0 en la columna de discapacidad por 'No'\n",
    "Plazas_19_20['Discapacidad'] = Plazas_19_20['Discapacidad'].replace(0, 'No')\n",
    "\n",
    "# Mostrar el DataFrame resultante\n",
    "Plazas_19_20"
   ]
  },
  {
   "cell_type": "code",
   "execution_count": null,
   "id": "c0c9079c-41e5-4be1-8058-2263a734dd3e",
   "metadata": {},
   "outputs": [],
   "source": [
    "# Hacer copias de los DataFrames originales\n",
    "Plazas_copy = Plazas.copy()\n",
    "Plazas_19_20_copy = Plazas_19_20.copy()\n",
    "\n",
    "# Unir los DataFrames de los años 2019 y 2020 por las columnas Comunidad autónoma, Año, Plaza, Sexo, Total, Discapacidad\n",
    "Plazas = pd.merge(Plazas_copy, Plazas_19_20_copy, on=['Comunidad autónoma/provincia', 'Año', 'Plaza', 'Sexo', 'Discapacidad', 'Total'], how='outer')\n",
    "\n",
    "# Mostrar el DataFrame resultante\n",
    "Plazas"
   ]
  },
  {
   "cell_type": "code",
   "execution_count": null,
   "id": "eeeb649c-421c-46aa-9ab0-770a45db3466",
   "metadata": {},
   "outputs": [],
   "source": [
    "# Descargo archivo RG 2018-2019 \n",
    "RG_18_19 = pd.read_csv(\"RG_18_19.csv\", sep='\\t', encoding='latin1')\n",
    "\n",
    "# Añadir una nueva columna llamada 'Año' con el valor '2020' Realmente se refiere al Curso \n",
    "RG_18_19['Año'] = '2019'\n",
    "\n",
    "# Mover la columna a la posición 2. \n",
    "RG_18_19.insert(2, 'Año',RG_18_19.pop('Año'))\n",
    "\n",
    "# Añadir una nueva columna llamada \"Plaza\" con registros \"Ordinaria\" en la posición 3\n",
    "RG_18_19.insert(loc=3, column='Plaza', value='Ordinarias')\n",
    "\n",
    "# Eliminar la columna 'Titularidad/financiación del centro'\n",
    "RG_18_19 = RG_18_19.drop('Titularidad/financiación del centro', axis=1)\n",
    "\n",
    "# Eliminar la columna 'Enseñanza'\n",
    "RG_18_19 = RG_18_19.drop('Enseñanza', axis=1)\n",
    "\n",
    "RG_18_19\n"
   ]
  },
  {
   "cell_type": "code",
   "execution_count": null,
   "id": "452d32ee-4094-4de6-9aaf-d49209822c10",
   "metadata": {},
   "outputs": [],
   "source": [
    "NESE_18_19 = pd.read_csv(\"NESE_18_19.csv\", sep='\\t', encoding='latin1')\n",
    "\n",
    "# Añadir una nueva columna llamada 'Año' con el valor '2021' Realmente se refiere al Curso \n",
    "NESE_18_19['Año'] = '2019'\n",
    "\n",
    "# Mover la columna a la posición 2. \n",
    "NESE_18_19.insert(2, 'Año',NESE_18_19.pop('Año'))\n",
    "\n",
    "# Añadir una nueva columna llamada \"Plaza\" con registros \"Especial\" en la posición 3\n",
    "NESE_18_19.insert(loc=3, column='Plaza', value='Especiales')\n",
    "\n",
    "# Eliminar la columna 'Titularidad'\n",
    "NESE_18_19 = NESE_18_19.drop('Titularidad', axis=1)\n",
    "\n",
    "NESE_18_19\n"
   ]
  },
  {
   "cell_type": "code",
   "execution_count": null,
   "id": "40b9e9bd-26e5-4cff-9a5b-01cf27d20b9b",
   "metadata": {},
   "outputs": [],
   "source": [
    "# Hacer copias de los DataFrames originales\n",
    "RG_18_19_copy = RG_18_19.copy()\n",
    "NESE_18_19_copy = NESE_18_19.copy()\n",
    "\n",
    "# Unir los DataFrames por las columnas Comunidad autónoma, Año, Plaza, Sexo y Total\n",
    "Plazas_18_19 = pd.merge(RG_18_19_copy, NESE_18_19_copy, on=['Comunidad autónoma/provincia', 'Año', 'Plaza', 'Sexo', 'Total'], how='outer')\n",
    "\n",
    "# Rellenar los valores NaN con ceros\n",
    "Plazas_18_19 = Plazas_18_19.fillna(0)\n",
    "\n",
    "# Cambiar los valores de 0 en la columna de discapacidad por 'No'\n",
    "Plazas_18_19['Discapacidad'] = Plazas_18_19['Discapacidad'].replace(0, 'No')\n",
    "\n",
    "# Mostrar el DataFrame resultante\n",
    "Plazas_18_19"
   ]
  },
  {
   "cell_type": "code",
   "execution_count": null,
   "id": "0fc09984-eac0-4445-a35e-2a92d78d0da8",
   "metadata": {},
   "outputs": [],
   "source": [
    "# Hacer copia del DataFrame Plazas_18_19\n",
    "Plazas_18_19_copy = Plazas_18_19.copy()\n",
    "\n",
    "# Unir los DataFrames por las columnas Comunidad autónoma, Año, Plaza, Sexo, Discapacidad y Total\n",
    "Plazas = pd.merge(Plazas, Plazas_18_19_copy, on=['Comunidad autónoma/provincia', 'Año', 'Plaza', 'Sexo', 'Discapacidad', 'Total'], how='outer')\n",
    "\n",
    "# Mostrar el DataFrame resultante\n",
    "Plazas"
   ]
  },
  {
   "cell_type": "code",
   "execution_count": null,
   "id": "e383e5df-e52b-41fa-9101-c67967c673bf",
   "metadata": {},
   "outputs": [],
   "source": [
    "# Descargo archivo RG 2017-2018 \n",
    "RG_17_18 = pd.read_csv(\"RG_17_18.csv\", sep='\\t', encoding='latin1')\n",
    "\n",
    "# Añadir una nueva columna llamada 'Año' con el valor '2020' Realmente se refiere al Curso \n",
    "RG_17_18['Año'] = '2018'\n",
    "\n",
    "# Mover la columna a la posición 2. \n",
    "RG_17_18.insert(2, 'Año',RG_17_18.pop('Año'))\n",
    "\n",
    "# Añadir una nueva columna llamada \"Plaza\" con registros \"Ordinaria\" en la posición 3\n",
    "RG_17_18.insert(loc=3, column='Plaza', value='Ordinarias')\n",
    "\n",
    "# Eliminar la columna 'Titularidad/financiación del centro'\n",
    "RG_17_18 = RG_17_18.drop('Titularidad/financiación del centro', axis=1)\n",
    "\n",
    "# Eliminar la columna 'Enseñanza'\n",
    "RG_17_18 = RG_17_18.drop('Enseñanza', axis=1)\n",
    "\n",
    "RG_17_18"
   ]
  },
  {
   "cell_type": "code",
   "execution_count": null,
   "id": "7fdbf480-4c0c-40b0-b321-0350010abccc",
   "metadata": {},
   "outputs": [],
   "source": [
    "NESE_17_18 = pd.read_csv(\"NESE_17_18.csv\", sep='\\t', encoding='latin1')\n",
    "\n",
    "# Añadir una nueva columna llamada 'Año' con el valor '2021' Realmente se refiere al Curso \n",
    "NESE_17_18['Año'] = '2018'\n",
    "\n",
    "# Mover la columna a la posición 2. \n",
    "NESE_17_18.insert(2, 'Año',NESE_17_18.pop('Año'))\n",
    "\n",
    "# Añadir una nueva columna llamada \"Plaza\" con registros \"Especial\" en la posición 3\n",
    "NESE_17_18.insert(loc=3, column='Plaza', value='Especiales')\n",
    "\n",
    "# Eliminar la columna 'Titularidad'\n",
    "NESE_17_18 = NESE_17_18.drop('Titularidad', axis=1)\n",
    "\n",
    "NESE_17_18"
   ]
  },
  {
   "cell_type": "code",
   "execution_count": null,
   "id": "91fd648b-5912-4e9a-b527-ec64ae7d2984",
   "metadata": {},
   "outputs": [],
   "source": [
    "# Hacer copia del DataFrame original\n",
    "RG_17_18_copy = RG_17_18.copy()\n",
    "NESE_17_18_copy = NESE_17_18.copy()\n",
    "\n",
    "# Unir los DataFrames por las columnas Comunidad autónoma, Año, Plaza, Sexo y Total\n",
    "Plazas_17_18 = pd.merge(RG_17_18_copy, NESE_17_18, on=['Comunidad autónoma/provincia', 'Año', 'Plaza', 'Sexo', 'Total'], how='outer')\n",
    "\n",
    "# Rellenar los valores NaN con ceros\n",
    "Plazas_17_18 =Plazas_17_18.fillna(0)\n",
    "\n",
    "# Cambio los valores de 0 en la columna de discapacidad por NO. \n",
    "Plazas_17_18['Discapacidad'] = Plazas_17_18['Discapacidad'].replace(0, 'No')\n",
    "\n",
    "Plazas_17_18"
   ]
  },
  {
   "cell_type": "code",
   "execution_count": null,
   "id": "d502e320-06e3-4d15-aecc-f6a957cfe98d",
   "metadata": {},
   "outputs": [],
   "source": [
    "# Hacer copia del DataFrame original\n",
    "Plazas_copy = Plazas.copy()\n",
    "Plazas_17_18_copy = Plazas_17_18.copy()\n",
    "# Unir los DataFrames de Plazas con 2019 por las columnas Comunidad autónoma, Año, Plaza, Sexo, Total, Discapacidad.\n",
    "Plazas = pd.merge(Plazas_copy, Plazas_17_18 , on=['Comunidad autónoma/provincia', 'Año', 'Plaza', 'Sexo','Discapacidad','Total'], how='outer')\n",
    "\n",
    "Plazas"
   ]
  },
  {
   "cell_type": "code",
   "execution_count": null,
   "id": "05a03420-9f60-4be0-b7b1-2098e3054763",
   "metadata": {},
   "outputs": [],
   "source": [
    "# Cambiar el nombre de la columna 'Año', por 'Año finalización curso'.\n",
    "Plazas.rename(columns={'Año': 'Año finalización curso'}, inplace=True)\n",
    "\n",
    "# Cambiar el nombre de la columna Total, por 'Total plazas matriculaciones'.\n",
    "Plazas.rename(columns={'Total': 'Total plazas matriculaciones'}, inplace=True)\n",
    "\n",
    "# Cambiar el nombre de la columna 'Plaza', por 'Tipo de plazas'.\n",
    "Plazas.rename(columns={'Plaza': 'Tipo de plazas'}, inplace=True)\n",
    "\n",
    "Plazas"
   ]
  },
  {
   "cell_type": "code",
   "execution_count": null,
   "id": "d8e574e1-6379-485c-b3a9-c13b72519e2f",
   "metadata": {},
   "outputs": [],
   "source": [
    "Plazas = Plazas.copy()"
   ]
  },
  {
   "cell_type": "markdown",
   "id": "5b4d7ca1-4738-4280-ac34-46940f5606ec",
   "metadata": {},
   "source": [
    "## YA TENGO LA BASE DE DATOS CREADAAAAAAA!!!!!"
   ]
  },
  {
   "cell_type": "markdown",
   "id": "f76df49b-f637-48c8-b384-4b6bcdeaeacf",
   "metadata": {},
   "source": [
    "Vale, pues ahora me encuentro que los datos en la columna de Comunidad autónoma/provincia, tienen diferentes valores que no me lo ha registrado correctamente. Así que verifico los valores únicos de la columna y visualizo los errores. De ahí, aplico str.strip para eliminar los espacios en blanco no deseados y así limpiar los registros de la columna. "
   ]
  },
  {
   "cell_type": "code",
   "execution_count": null,
   "id": "13170868-09da-4ebc-b022-e4cd35f5e1bc",
   "metadata": {},
   "outputs": [],
   "source": [
    "valores_unicos_comunidad = Plazas['Comunidad autónoma/provincia'].unique()\n",
    "valores_unicos_comunidad"
   ]
  },
  {
   "cell_type": "code",
   "execution_count": null,
   "id": "cbc23678-4069-437b-8337-29cdd94f029c",
   "metadata": {},
   "outputs": [],
   "source": [
    "# Filtrar las filas donde la \"Comunidad autónoma/provincia\" sea Barcelona\n",
    "df_barcelona = Plazas[Plazas['Tipo de plazas'] == 'Especiales']"
   ]
  },
  {
   "cell_type": "code",
   "execution_count": null,
   "id": "8b534ebe-b78b-40d5-b4c9-0319c23152b5",
   "metadata": {},
   "outputs": [],
   "source": [
    "df_barcelona"
   ]
  },
  {
   "cell_type": "markdown",
   "id": "460f68a2-a3c5-4d71-b556-b5344d58a7c8",
   "metadata": {},
   "source": [
    "Me encunetro que algún registro de la misma columna Comunidad, está duplicado. Entonces, verifico los casos que hay más de cada uno de ellos. Así que, el tenga más, pues es la descripción que aplico para el resto. De esta manera todos los mismos registros se unificarán y no me causarán errores. "
   ]
  },
  {
   "cell_type": "code",
   "execution_count": null,
   "id": "4c87532a-970e-48f5-9abb-390ef1ce7e6b",
   "metadata": {},
   "outputs": [],
   "source": [
    "# Limpiar los valores de la columna 'Comunidad autónoma/provincia' eliminando los espacios en blanco no deseados\n",
    "Plazas['Comunidad autónoma/provincia'] = Plazas['Comunidad autónoma/provincia'].str.strip()\n"
   ]
  },
  {
   "cell_type": "code",
   "execution_count": null,
   "id": "562c8fcd-e51b-41eb-bd78-b166995adc9b",
   "metadata": {},
   "outputs": [],
   "source": [
    "# Obtener los registros únicos de la columna \"Comunidad autónoma\"\n",
    "comunidades_autonomas = Plazas['Comunidad autónoma/provincia'].unique()\n",
    "\n",
    "# Mostrar los registros únicos\n",
    "print(comunidades_autonomas)"
   ]
  },
  {
   "cell_type": "code",
   "execution_count": null,
   "id": "619a4526-1299-4cba-8160-10d7291efef4",
   "metadata": {},
   "outputs": [],
   "source": [
    "# Contar el número de registros para cada entrada de \"Navarra\"\n",
    "conteo_navarra_1 = len(Plazas[Plazas['Comunidad autónoma/provincia'] == '15 NAVARRA, COMUNIDAD FORAL DE'])\n",
    "conteo_navarra_2 = len(Plazas[Plazas['Comunidad autónoma/provincia'] == '15 NAVARRA (Comunidad Foral de) (3)'])\n",
    "\n",
    "# Mostrar los conteos\n",
    "print(\"Número de registros para '15 NAVARRA, COMUNIDAD FORAL DE':\", conteo_navarra_1)\n",
    "print(\"Número de registros para '15 NAVARRA (Comunidad Foral de) (3)':\", conteo_navarra_2)"
   ]
  },
  {
   "cell_type": "code",
   "execution_count": null,
   "id": "bfa86a23-8c8f-456e-946d-6137d7e4d30b",
   "metadata": {},
   "outputs": [],
   "source": [
    "# Actualizar el nombre de '15 NAVARRA (Comunidad Foral de) (3)' a '15 NAVARRA, COMUNIDAD FORAL DE'\n",
    "Plazas.loc[Plazas['Comunidad autónoma/provincia'] == '15 NAVARRA (Comunidad Foral de) (3)', 'Comunidad autónoma/provincia'] = '15 NAVARRA, COMUNIDAD FORAL DE'"
   ]
  },
  {
   "cell_type": "code",
   "execution_count": null,
   "id": "550db8f4-3adc-4664-9ff8-d4e54f8e93a5",
   "metadata": {},
   "outputs": [],
   "source": [
    "# Obtener los registros únicos de la columna \"Comunidad autónoma\"\n",
    "comunidades_autonomas = Plazas['Comunidad autónoma/provincia'].unique()\n",
    "\n",
    "# Mostrar los registros únicos\n",
    "print(comunidades_autonomas)"
   ]
  },
  {
   "cell_type": "markdown",
   "id": "195fa4f4-de72-47cd-868a-3229dec389c4",
   "metadata": {},
   "source": [
    "## PERFECTOOOOO!!!"
   ]
  },
  {
   "cell_type": "markdown",
   "id": "af630d99-f5bf-41db-9747-33bd6eaf39f9",
   "metadata": {},
   "source": [
    "Me encuentro también que hasta 2021 se pasa a llamar trastorno del espectro autismo, pero anteriormente se llamaba Trastornos generalizados del desarrollo. La definición de Trastornos generalizados del desarrollo, dice que es:\n",
    "\n",
    "- Los trastornos generalizados del desarrollo (TGD) son un grupo de trastornos del neurodesarrollo que afectan la capacidad del individuo para interactuar y comunicarse con los demás, así como para comprender y adaptarse al entorno social que lo rodea. Estos trastornos suelen manifestarse en la infancia temprana y persistir a lo largo de toda la vida de la persona.dad de vida."
   ]
  },
  {
   "cell_type": "markdown",
   "id": "2b3f0c7b-88ed-4ca2-8506-e5eb866910aa",
   "metadata": {},
   "source": [
    "Algunos ejemplos de trastornos generalizados del desarrollo incluyen:\n",
    "\n",
    "\n",
    "1. Trastorno del espectro autista (TEA): Es un trastorno del desarrollo que se caracteriza por déficits en la comunicación social y patrones de comportamiento repetitivos o restrictivos.\n",
    "\n",
    "2. Trastorno de Asperger: Anteriormente se consideraba una condición separada, pero ahora se considera parte del espectro autista. Se caracteriza por dificultades en la interacción social y patrones de comportamiento repetitivos, pero generalmente no hay retrasos significativos en el desarrollo del lenguaje o cognitivo.\n",
    "\n",
    "3. Trastorno desintegrativo infantil: Es un trastorno poco común que implica la pérdida de habilidades previamente adquiridas, como el lenguaje, las habilidades sociales y motoras, después de un período de desarrollo normal.\n",
    "\n",
    "4. Trastorno generalizado del desarrollo no especificado (PDD-NOS): Se utiliza cuando una persona tiene algunos síntomas de los trastornos del espectro autista pero no cumple con todos los criterios para un diagnóstico específico.\n",
    "\n"
   ]
  },
  {
   "cell_type": "markdown",
   "id": "0d21530a-a360-4b55-ab22-710c977e6ded",
   "metadata": {},
   "source": [
    "Estos trastornos pueden manifestarse de diversas maneras y con diferentes grados de gravedad, desde formas leves hasta formas más graves que afectan significativamente la vida diaria y la capacidad de funcionamiento de la persona. El diagnóstico y tratamiento tempranos son importantes para ayudar a las personas con trastornos generalizados del desarrollo a maximizar su potencial y mejorar su cali\n",
    "\n",
    "Básicamente se relacionaba a lo que ahora se le llama Autismo. \n",
    "\n",
    "Así que también hago un cambio en des descripción de la discapacidad, para que no me lo separe y lo intergre todo conjuntamente. dad de vida."
   ]
  },
  {
   "cell_type": "code",
   "execution_count": null,
   "id": "7b940a90-bd67-4ea1-a0ac-188ad121249b",
   "metadata": {},
   "outputs": [],
   "source": [
    "# Obtener los registros únicos de la columna \"Discapacidad\"\n",
    "Discapacidad = Plazas['Discapacidad'].unique()\n",
    "\n",
    "# Mostrar los registros únicos\n",
    "print(Discapacidad)"
   ]
  },
  {
   "cell_type": "code",
   "execution_count": null,
   "id": "869a202a-0de8-44ea-8c94-894a84474fb7",
   "metadata": {},
   "outputs": [],
   "source": [
    "# Actualizar el nombre de 'Trastornos graves de conducta' a 'Trastornos graves de conducta/personalidad'\n",
    "Plazas.loc[Plazas['Discapacidad'] == 'Trastornos graves de conducta', 'Discapacidad'] = 'Trastornos graves de conducta/personalidad'\n",
    "\n",
    "# Actualizar el nombre de 'Trastornos generalizados del desarrollo' a 'Trastornos del espectro del autismo (2)'\n",
    "Plazas.loc[Plazas['Discapacidad'] == 'Trastornos generalizados del desarrollo', 'Discapacidad'] = 'Trastornos del espectro del autismo (2)'"
   ]
  },
  {
   "cell_type": "code",
   "execution_count": null,
   "id": "f8bdb48f-5ae2-466a-8c69-0c99047c6e9f",
   "metadata": {},
   "outputs": [],
   "source": [
    "# Obtener los registros únicos de la columna \"Comunidad autónoma\"\n",
    "Discapacidad = Plazas['Discapacidad'].unique()\n",
    "\n",
    "# Mostrar los registros únicos\n",
    "print(Discapacidad)"
   ]
  },
  {
   "cell_type": "code",
   "execution_count": null,
   "id": "803d1286-c951-4551-98ca-d7cce60948a8",
   "metadata": {},
   "outputs": [],
   "source": [
    "Plazas = Plazas.copy()\n",
    "Plazas"
   ]
  },
  {
   "cell_type": "code",
   "execution_count": null,
   "id": "45bf4483-5b76-4d58-8e26-a1f895e01a8f",
   "metadata": {},
   "outputs": [],
   "source": [
    "# Mover la columna 'Tipo de plazas' a la posición 2\n",
    "nombre_columna = 'Tipo de plazas'\n",
    "posicion_deseada = 1  # Posición basada en 0\n",
    "columna_extraida = Plazas.pop(nombre_columna)  # Extraer la columna\n",
    "Plazas.insert(posicion_deseada, nombre_columna, columna_extraida)\n",
    "Plazas"
   ]
  },
  {
   "cell_type": "code",
   "execution_count": null,
   "id": "b74d2a2c-920e-44ff-887e-d98216e97da7",
   "metadata": {},
   "outputs": [],
   "source": [
    "Plazas = Plazas.copy()"
   ]
  },
  {
   "cell_type": "code",
   "execution_count": null,
   "id": "ae2af447-e464-474d-9e41-52147e3fc043",
   "metadata": {},
   "outputs": [],
   "source": [
    "Plazas.info()"
   ]
  },
  {
   "cell_type": "markdown",
   "id": "f9d8dc32-44e7-498f-a4c2-9cd074f76c26",
   "metadata": {},
   "source": [
    "La columna de 'Año de finalización curso' estaba como object y tiene que estar cambiada a 'int', para convertirlo en datos enteros. \n",
    "La columna de 'Total plazas matriculaciones también está mal considerada, ya que está como Float, números con parte entera y parte fraccional, realmente son número enteros. Así que también realizo el cambio a int. "
   ]
  },
  {
   "cell_type": "markdown",
   "id": "7d324301-a7eb-47ba-8107-7c835312d822",
   "metadata": {},
   "source": [
    "Aquí me encunetro con otro error, los registros de la columna de Total plazas matriculaciones me está contabilizando el punto separador de miles, como si fuera una coma. Entonces me lo contabiliza como decimal. ¿Qúe pasa? pues que los datos no están bien. Así que tnego que quitar el punto. Pero además los números enteros como por ejemplo 70, me pone un punto al final 70. Entonces al quitar el (.) me transforma de 70 a 700 y ese valor tampoco es correcto. Entonces empiezo a trastear, hasta que consigo quitar el punto de todas, sin que ello me modifica las cifras. "
   ]
  },
  {
   "cell_type": "code",
   "execution_count": null,
   "id": "4b1efb0a-3008-47c2-ad10-d39540977ce0",
   "metadata": {},
   "outputs": [],
   "source": [
    "print(Plazas['Total plazas matriculaciones'].unique())"
   ]
  },
  {
   "cell_type": "code",
   "execution_count": null,
   "id": "3b2c8e7c-27b6-4480-9251-0946e0636799",
   "metadata": {},
   "outputs": [],
   "source": [
    "# Define una función para eliminar los puntos de los miles en un número\n",
    "def eliminar_puntos(numero):\n",
    "    if isinstance(numero, str):\n",
    "        return numero.replace('.', '')\n",
    "    else:\n",
    "        return numero\n",
    "\n",
    "# Aplica la función a la columna 'Total plazas matriculaciones'\n",
    "Plazas['Total plazas matriculaciones'] = Plazas['Total plazas matriculaciones'].apply(eliminar_puntos)\n",
    "\n",
    "# Convierte la columna al tipo de datos adecuado (float)\n",
    "Plazas['Total plazas matriculaciones'] = Plazas['Total plazas matriculaciones'].astype(float)"
   ]
  },
  {
   "cell_type": "code",
   "execution_count": null,
   "id": "6ccccc4c-b4f3-495b-82a1-fa6cfbcd38af",
   "metadata": {},
   "outputs": [],
   "source": [
    "print(Plazas['Total plazas matriculaciones'].unique())"
   ]
  },
  {
   "cell_type": "code",
   "execution_count": null,
   "id": "8e44b557-39ed-4fd8-bb68-1bfa75a6f669",
   "metadata": {},
   "outputs": [],
   "source": [
    "import re\n",
    "\n",
    "def clean_value(x):\n",
    "    # Utilizamos una expresión regular para encontrar los números decimales y eliminar los ceros adicionales\n",
    "    cleaned_value = re.sub(r'(\\d+)\\.(\\d+)', lambda match: f\"{match.group(1)}.{match.group(2).rstrip('0').lstrip('0')}\", x)\n",
    "    # Eliminamos los puntos decimales de los números enteros y eliminamos los ceros adicionales\n",
    "    cleaned_value = re.sub(r'\\.(\\d+)', lambda match: match.group(1).rstrip('0').lstrip('0'), cleaned_value)\n",
    "    # Eliminamos los puntos finales que puedan quedar al final del número\n",
    "    cleaned_value = cleaned_value.rstrip('.')\n",
    "    return cleaned_value\n",
    "\n",
    "Plazas['Total plazas matriculaciones'] = Plazas['Total plazas matriculaciones'].astype(str).apply(clean_value)\n",
    "\n",
    "print(Plazas['Total plazas matriculaciones'].unique())"
   ]
  },
  {
   "cell_type": "code",
   "execution_count": null,
   "id": "27eb3ad2-94d6-4877-9ca4-22643452946f",
   "metadata": {},
   "outputs": [],
   "source": [
    "Plazas.info()"
   ]
  },
  {
   "cell_type": "code",
   "execution_count": null,
   "id": "0ae09a39-9540-4bff-bcc0-a1ab186f1586",
   "metadata": {},
   "outputs": [],
   "source": [
    "\n",
    "Plazas['Total plazas matriculaciones'] = Plazas['Total plazas matriculaciones'].astype('int64')"
   ]
  },
  {
   "cell_type": "code",
   "execution_count": null,
   "id": "a66f7497-f96a-4b5c-b642-e894b6bf8e20",
   "metadata": {},
   "outputs": [],
   "source": [
    "Plazas.info()"
   ]
  },
  {
   "cell_type": "code",
   "execution_count": null,
   "id": "c9222a10-3786-4a21-8c2c-24da0807cc10",
   "metadata": {},
   "outputs": [],
   "source": [
    "print(Plazas['Total plazas matriculaciones'].unique())"
   ]
  },
  {
   "cell_type": "code",
   "execution_count": null,
   "id": "25e30dcd-6fec-4598-b921-38775d014164",
   "metadata": {},
   "outputs": [],
   "source": [
    "# Convertir la columna 'Año finalización curso' a tipo string\n",
    "Plazas['Año finalización curso'] = Plazas['Año finalización curso'].astype(str)"
   ]
  },
  {
   "cell_type": "code",
   "execution_count": null,
   "id": "44438037-1ce3-47f7-b173-5bc2c9fc2368",
   "metadata": {},
   "outputs": [],
   "source": [
    "Plazas.info()"
   ]
  },
  {
   "cell_type": "code",
   "execution_count": null,
   "id": "3f2f074f-e702-475a-9e38-455cbce845fd",
   "metadata": {},
   "outputs": [],
   "source": [
    "print(Plazas['Año finalización curso'].dtype)"
   ]
  },
  {
   "cell_type": "code",
   "execution_count": null,
   "id": "747a9648-7119-476c-b510-8663b37ec67b",
   "metadata": {},
   "outputs": [],
   "source": [
    "# Filtrar valores no numéricos en la columna 'Año finalización curso'\n",
    "non_numeric_values = Plazas[~Plazas['Año finalización curso'].str.isnumeric()]['Año finalización curso']\n",
    "\n",
    "# Imprimir los valores no numéricos\n",
    "print(non_numeric_values)"
   ]
  },
  {
   "cell_type": "code",
   "execution_count": null,
   "id": "3d942f3e-9a76-4fa0-8822-c106fe9ef55c",
   "metadata": {},
   "outputs": [],
   "source": [
    "print(Plazas['Año finalización curso'].unique())"
   ]
  },
  {
   "cell_type": "code",
   "execution_count": null,
   "id": "d9f1e3d1-7828-4388-a263-cc58fb2541d9",
   "metadata": {},
   "outputs": [],
   "source": [
    "Plazas['Año finalización curso'] = Plazas['Año finalización curso'].astype(int)"
   ]
  },
  {
   "cell_type": "code",
   "execution_count": null,
   "id": "f7fa0bf4-aeea-41b1-9c67-5be14046e95b",
   "metadata": {},
   "outputs": [],
   "source": [
    "Plazas = Plazas.copy()"
   ]
  },
  {
   "cell_type": "code",
   "execution_count": null,
   "id": "c6703eb7-4bd0-45af-8996-ea1c2c3688e2",
   "metadata": {},
   "outputs": [],
   "source": [
    "Plazas.info()"
   ]
  },
  {
   "cell_type": "markdown",
   "id": "808e5a6f-74e5-47ff-aab3-749c6c8cc2ca",
   "metadata": {},
   "source": [
    "# Finalmente lo he conseguido así que puedo hacer el cambio de dtype de los datos para que porfin ya estén correctos. "
   ]
  },
  {
   "cell_type": "code",
   "execution_count": null,
   "id": "399d2226-f8fc-4f0c-8384-c9bf6010ffe7",
   "metadata": {},
   "outputs": [],
   "source": [
    "# Filtrar las filas correspondientes a la Comunidad autónoma/provincia 09 CATALUÑA y tipo de plazas especiales\n",
    "plazas_especiales_cataluna = Plazas[(Plazas['Comunidad autónoma/provincia'] == '05 CANARIAS') & \n",
    "                                    (Plazas['Tipo de plazas'] == 'Especiales')]\n",
    "\n",
    "plazas_especiales_cataluna"
   ]
  },
  {
   "cell_type": "code",
   "execution_count": null,
   "id": "ff105865-eb6f-46e3-afef-04ee04dc1df5",
   "metadata": {},
   "outputs": [],
   "source": [
    "# Filtrar los datos solo para el año 2022\n",
    "df_2022 = Plazas[Plazas['Año finalización curso'] == 2022]\n",
    "\n",
    "# Mostrar todos los datos de las columnas para el año 2022\n",
    "with pd.option_context('display.max_rows', None, 'display.max_columns', None):\n",
    "    df_2022"
   ]
  },
  {
   "cell_type": "code",
   "execution_count": null,
   "id": "e3162e10-17fd-4582-9a09-77587171f9af",
   "metadata": {},
   "outputs": [],
   "source": [
    "df_2022"
   ]
  },
  {
   "cell_type": "markdown",
   "id": "0161964d-c545-477c-b6f6-f2a533f01aed",
   "metadata": {},
   "source": [
    "# Pues No, todavía no están bien todos los datos. \n",
    "\n",
    "Cuando cargué los datasets de Registros generales, me dí cuenta de que el número de plazas matriculadas por Comunidad, no corresponde con lo que quiero trabajar. Es decir, cuando se habla de Registros Genereales, se incluyen todas las plazas especiales más las plazas Ordinarias, es decir el computo de ambas. Mi interés por diferenciar el total de plazas Ordinarias y Especiales, principalmente es para saber que porcentaje de plazas especiales se asignan por comunidad en función de las plazas Ordinales. Y de este modo poder saber si realmente existe un porcentaje mayor o más de lo previsto por Comuindad. \n",
    "Así que lo que realizo ahora simplemnete es una modificación de los registros de las plazas Ordinales de Hombres y Mujeres de cada Comunidad autónoma por cada año, que en este caso son 5 años, sin modificar los registros de las plazas Especiales. "
   ]
  },
  {
   "cell_type": "code",
   "execution_count": null,
   "id": "faa492f5-d975-4460-906a-50774959c91c",
   "metadata": {},
   "outputs": [],
   "source": [
    "# Diccionario de plazas ordinarias de hombres por comunidad autónoma\n",
    "plazas_hombres = {\n",
    "    '01 ANDALUCÍA': 798099,\n",
    "    '02 ARAGÓN': 112841,\n",
    "    '03 ASTURIAS, PRINCIPADO DE': 66721,\n",
    "    '04 BALEARS, ILLES': 97068,\n",
    "    '05 CANARIAS': 165638,\n",
    "    '06 CANTABRIA': 46862,\n",
    "    '07 CASTILLA Y LEÓN': 171251,\n",
    "    '08 CASTILLA-LA MANCHA': 182962,\n",
    "    '09 CATALUÑA': 694616,\n",
    "    'Barcelona': 502282,\n",
    "    'Girona': 68615,\n",
    "    'Lleida': 49595,\n",
    "    'Tarragona': 74124,\n",
    "    '10 COMUNITAT VALENCIANA': 449753,\n",
    "    '11 EXTREMADURA': 87310,\n",
    "    '12 GALICIA': 196730,\n",
    "    '13 MADRID, COMUNIDAD DE': 617463,\n",
    "    '14 MURCIA, REGIÓN DE': 150790,\n",
    "    '15 NAVARRA (Comunidad Foral de) (3)': 59530,\n",
    "    '16 PAÍS VASCO': 189047,\n",
    "    '17 RIOJA, LA': 28670,\n",
    "    '18 CEUTA': 9628,\n",
    "    '19 MELILLA': 10360\n",
    "}\n",
    "\n",
    "# Diccionario de plazas ordinarias de mujeres por comunidad autónoma\n",
    "plazas_mujeres = {\n",
    "    '01 ANDALUCÍA': 770165,\n",
    "    '02 ARAGÓN': 105110,\n",
    "    '03 ASTURIAS, PRINCIPADO DE': 63932,\n",
    "    '04 BALEARS, ILLES': 91797,\n",
    "    '05 CANARIAS': 163993,\n",
    "    '06 CANTABRIA': 45060,\n",
    "    '07 CASTILLA Y LEÓN': 161263,\n",
    "    '08 CASTILLA-LA MANCHA': 173693,\n",
    "    '09 CATALUÑA': 681427,\n",
    "    'Barcelona': 483460,\n",
    "    'Girona': 65570,\n",
    "    'Lleida': 62730,\n",
    "    'Tarragona': 69667,\n",
    "    '10 COMUNITAT VALENCIANA': 424172,\n",
    "    '11 EXTREMADURA': 82402,\n",
    "    '12 GALICIA': 189185,\n",
    "    '13 MADRID, COMUNIDAD DE': 590850,\n",
    "    '14 MURCIA, REGIÓN DE': 138973,\n",
    "    '15 NAVARRA (Comunidad Foral de) (3)': 55799,\n",
    "    '16 PAÍS VASCO': 172326,\n",
    "    '17 RIOJA, LA': 26909,\n",
    "    '18 CEUTA': 9390,\n",
    "    '19 MELILLA': 10000\n",
    "}\n",
    "# Actualizar los valores de 'Total plazas matriculaciones' en el DataFrame para hombres y mujeres\n",
    "for index, row in Plazas.iterrows():\n",
    "    if (row['Año finalización curso'] == 2022 and \n",
    "        row['Tipo de plazas'] == 'Ordinarias' and \n",
    "        row['Discapacidad'] == 'No'):\n",
    "        \n",
    "        comunidad = row['Comunidad autónoma/provincia']\n",
    "        sexo = row['Sexo']\n",
    "        \n",
    "        if comunidad in plazas_hombres and sexo == 'Hombres':\n",
    "            Plazas.at[index, 'Total plazas matriculaciones'] = plazas_hombres[comunidad]\n",
    "        elif comunidad in plazas_mujeres and sexo == 'Mujeres':\n",
    "            Plazas.at[index, 'Total plazas matriculaciones'] = plazas_mujeres[comunidad]"
   ]
  },
  {
   "cell_type": "code",
   "execution_count": null,
   "id": "5c740863-9af5-46ef-96bf-673fd06d3a43",
   "metadata": {},
   "outputs": [],
   "source": [
    "# Diccionario de plazas ordinarias de hombres por comunidad autónoma para el año 2021\n",
    "plazas_hombres_2021 = {\n",
    "    '01 ANDALUCÍA': 796023,\n",
    "    '02 ARAGÓN': 112429,\n",
    "    '03 ASTURIAS, PRINCIPADO DE': 67709,\n",
    "    '04 BALEARS, ILLES': 97377,\n",
    "    '05 CANARIAS': 167624,\n",
    "    '06 CANTABRIA': 47189,\n",
    "    '07 CASTILLA Y LEÓN': 172827,\n",
    "    '08 CASTILLA-LA MANCHA': 183092,\n",
    "    '09 CATALUÑA': 691519,\n",
    "    'Barcelona': 502786,\n",
    "    'Girona': 68524,\n",
    "    'Lleida': 46427,\n",
    "    'Tarragona': 73782,\n",
    "    '10 COMUNITAT VALENCIANA': 450421,\n",
    "    '11 EXTREMADURA': 87560,\n",
    "    '12 GALICIA': 197702,\n",
    "    '13 MADRID, COMUNIDAD DE': 615405,\n",
    "    '14 MURCIA, REGIÓN DE': 151271,\n",
    "    '15 NAVARRA (Comunidad Foral de) (3)': 57101,\n",
    "    '16 PAÍS VASCO': 190449,\n",
    "    '17 RIOJA, LA': 28078,\n",
    "    '18 CEUTA': 9913,\n",
    "    '19 MELILLA': 10497\n",
    "}\n",
    "\n",
    "# Diccionario de plazas ordinarias de mujeres por comunidad autónoma para el año 2021\n",
    "plazas_mujeres_2021 = {\n",
    "    '01 ANDALUCÍA': 767490,\n",
    "    '02 ARAGÓN': 104425,\n",
    "    '03 ASTURIAS, PRINCIPADO DE': 64760,\n",
    "    '04 BALEARS, ILLES': 91303,\n",
    "    '05 CANARIAS': 165040,\n",
    "    '06 CANTABRIA': 45325,\n",
    "    '07 CASTILLA Y LEÓN': 162787,\n",
    "    '08 CASTILLA-LA MANCHA': 173449,\n",
    "    '09 CATALUÑA': 671113,\n",
    "    'Barcelona': 483266,\n",
    "    'Girona': 65520,\n",
    "    'Lleida': 53338,\n",
    "    'Tarragona': 68989,\n",
    "    '10 COMUNITAT VALENCIANA': 424751,\n",
    "    '11 EXTREMADURA': 83288,\n",
    "    '12 GALICIA': 190007,\n",
    "    '13 MADRID, COMUNIDAD DE': 587995,\n",
    "    '14 MURCIA, REGIÓN DE': 138881,\n",
    "    '15 NAVARRA (Comunidad Foral de) (3)': 54739,\n",
    "    '16 PAÍS VASCO': 174190,\n",
    "    '17 RIOJA, LA': 26542,\n",
    "    '18 CEUTA': 9650,\n",
    "    '19 MELILLA': 10087\n",
    "}\n",
    "# Actualizar los valores de 'Total plazas matriculaciones' en el DataFrame para hombres y mujeres\n",
    "for index, row in Plazas.iterrows():\n",
    "    if (row['Año finalización curso'] == 2021 and \n",
    "        row['Tipo de plazas'] == 'Ordinarias' and \n",
    "        row['Discapacidad'] == 'No'):\n",
    "        \n",
    "        comunidad = row['Comunidad autónoma/provincia']\n",
    "        sexo = row['Sexo']\n",
    "        \n",
    "        if comunidad in plazas_hombres and sexo == 'Hombres':\n",
    "            Plazas.at[index, 'Total plazas matriculaciones'] = plazas_hombres_2021[comunidad]\n",
    "        elif comunidad in plazas_mujeres and sexo == 'Mujeres':\n",
    "            Plazas.at[index, 'Total plazas matriculaciones'] = plazas_mujeres_2021[comunidad]"
   ]
  },
  {
   "cell_type": "code",
   "execution_count": null,
   "id": "dfec1232-9e8b-45c8-84b7-442d30b14fe5",
   "metadata": {},
   "outputs": [],
   "source": [
    "# Diccionario de plazas ordinarias de hombres por comunidad autónoma para el año 2020\n",
    "plazas_hombres_2020 = {\n",
    "    '01 ANDALUCÍA': 830411,\n",
    "    '02 ARAGÓN': 114943,\n",
    "    '03 ASTURIAS, PRINCIPADO DE': 70750,\n",
    "    '04 BALEARS, ILLES': 100617,\n",
    "    '05 CANARIAS': 176822,\n",
    "    '06 CANTABRIA': 48462,\n",
    "    '07 CASTILLA Y LEÓN': 179734,\n",
    "    '08 CASTILLA-LA MANCHA': 187861,\n",
    "    '09 CATALUÑA': 711783,\n",
    "    'Barcelona': 520398,\n",
    "    'Girona': 70708,\n",
    "    'Lleida': 44374,\n",
    "    'Tarragona': 76303,\n",
    "    '10 COMUNITAT VALENCIANA': 455708,\n",
    "    '11 EXTREMADURA': 89974,\n",
    "    '12 GALICIA': 210048,\n",
    "    '13 MADRID, COMUNIDAD DE': 632698,\n",
    "    '14 MURCIA, REGIÓN DE': 157148,\n",
    "    '15 NAVARRA (Comunidad Foral de) (3)': 60723,\n",
    "    '16 PAÍS VASCO': 198313,\n",
    "    '17 RIOJA, LA': 28886,\n",
    "    '18 CEUTA': 10455,\n",
    "    '19 MELILLA': 11055\n",
    "}\n",
    "\n",
    "# Diccionario de plazas ordinarias de mujeres por comunidad autónoma para el año 2020\n",
    "plazas_mujeres_2020 = {\n",
    "    '01 ANDALUCÍA': 767490,\n",
    "    '02 ARAGÓN': 104425,\n",
    "    '03 ASTURIAS, PRINCIPADO DE': 64760,\n",
    "    '04 BALEARS, ILLES': 91303,\n",
    "    '05 CANARIAS': 165040,\n",
    "    '06 CANTABRIA': 45325,\n",
    "    '07 CASTILLA Y LEÓN': 162787,\n",
    "    '08 CASTILLA-LA MANCHA': 173449,\n",
    "    '09 CATALUÑA': 671113,\n",
    "    'Barcelona': 483266,\n",
    "    'Girona': 65520,\n",
    "    'Lleida': 53338,\n",
    "    'Tarragona': 68989,\n",
    "    '10 COMUNITAT VALENCIANA': 424751,\n",
    "    '11 EXTREMADURA': 83288,\n",
    "    '12 GALICIA': 190007,\n",
    "    '13 MADRID, COMUNIDAD DE': 587995,\n",
    "    '14 MURCIA, REGIÓN DE': 138881,\n",
    "    '15 NAVARRA (Comunidad Foral de) (3)': 54739,\n",
    "    '16 PAÍS VASCO': 174190,\n",
    "    '17 RIOJA, LA': 26542,\n",
    "    '18 CEUTA': 9650,\n",
    "    '19 MELILLA': 10087\n",
    "}\n",
    "# Actualizar los valores de 'Total plazas matriculaciones' en el DataFrame para hombres y mujeres\n",
    "for index, row in Plazas.iterrows():\n",
    "    if (row['Año finalización curso'] == 2020 and \n",
    "        row['Tipo de plazas'] == 'Ordinarias' and \n",
    "        row['Discapacidad'] == 'No'):\n",
    "        \n",
    "        comunidad = row['Comunidad autónoma/provincia']\n",
    "        sexo = row['Sexo']\n",
    "        \n",
    "        if comunidad in plazas_hombres and sexo == 'Hombres':\n",
    "            Plazas.at[index, 'Total plazas matriculaciones'] = plazas_hombres_2020[comunidad]\n",
    "        elif comunidad in plazas_mujeres and sexo == 'Mujeres':\n",
    "            Plazas.at[index, 'Total plazas matriculaciones'] = plazas_mujeres_2020[comunidad]"
   ]
  },
  {
   "cell_type": "code",
   "execution_count": null,
   "id": "a9ad89fc-8f01-4993-ba80-e469018347e6",
   "metadata": {},
   "outputs": [],
   "source": [
    "# Diccionario de plazas ordinarias de hombres por comunidad autónoma para el año 2019\n",
    "plazas_hombres_2019 = {\n",
    "    '01 ANDALUCÍA': 824514,\n",
    "    '02 ARAGÓN': 113508,\n",
    "    '03 ASTURIAS, PRINCIPADO DE': 70526,\n",
    "    '04 BALEARS, ILLES': 98963,\n",
    "    '05 CANARIAS': 176734,\n",
    "    '06 CANTABRIA': 48154,\n",
    "    '07 CASTILLA Y LEÓN': 179327,\n",
    "    '08 CASTILLA-LA MANCHA': 186258,\n",
    "    '09 CATALUÑA': 699442,\n",
    "    'Barcelona': 512379,\n",
    "    'Girona': 69694,\n",
    "    'Lleida': 42084,\n",
    "    'Tarragona': 75285,\n",
    "    '10 COMUNITAT VALENCIANA': 449109,\n",
    "    '11 EXTREMADURA': 90271,\n",
    "    '12 GALICIA': 207997,\n",
    "    '13 MADRID, COMUNIDAD DE': 620450,\n",
    "    '14 MURCIA, REGIÓN DE': 153805,\n",
    "    '15 NAVARRA (Comunidad Foral de) (3)': 59599,\n",
    "    '16 PAÍS VASCO': 197765,\n",
    "    '17 RIOJA, LA': 28205,\n",
    "    '18 CEUTA': 10403,\n",
    "    '19 MELILLA': 10837\n",
    "}\n",
    "\n",
    "# Diccionario de plazas ordinarias de mujeres por comunidad autónoma para el año 2019\n",
    "plazas_mujeres_2019 = {\n",
    "    '01 ANDALUCÍA': 778869,\n",
    "    '02 ARAGÓN': 104966,\n",
    "    '03 ASTURIAS, PRINCIPADO DE': 65704,\n",
    "    '04 BALEARS, ILLES': 89463,\n",
    "    '05 CANARIAS': 169406,\n",
    "    '06 CANTABRIA': 45713,\n",
    "    '07 CASTILLA Y LEÓN': 166431,\n",
    "    '08 CASTILLA-LA MANCHA': 174450,\n",
    "    '09 CATALUÑA': 662553,\n",
    "    'Barcelona': 484360,\n",
    "    'Girona': 65811,\n",
    "    'Lleida': 42719,\n",
    "    'Tarragona': 69663,\n",
    "    '10 COMUNITAT VALENCIANA': 421178,\n",
    "    '11 EXTREMADURA': 85525,\n",
    "    '12 GALICIA': 193955,\n",
    "    '13 MADRID, COMUNIDAD DE': 584850,\n",
    "    '14 MURCIA, REGIÓN DE': 139251,\n",
    "    '15 NAVARRA (Comunidad Foral de) (3)': 55412,\n",
    "    '16 PAÍS VASCO': 177818,\n",
    "    '17 RIOJA, LA': 26546,\n",
    "    '18 CEUTA': 9948,\n",
    "    '19 MELILLA': 10387\n",
    "}\n",
    "# Actualizar los valores de 'Total plazas matriculaciones' en el DataFrame para hombres y mujeres\n",
    "for index, row in Plazas.iterrows():\n",
    "    if (row['Año finalización curso'] == 2029 and \n",
    "        row['Tipo de plazas'] == 'Ordinarias' and \n",
    "        row['Discapacidad'] == 'No'):\n",
    "        \n",
    "        comunidad = row['Comunidad autónoma/provincia']\n",
    "        sexo = row['Sexo']\n",
    "        \n",
    "        if comunidad in plazas_hombres and sexo == 'Hombres':\n",
    "            Plazas.at[index, 'Total plazas matriculaciones'] = plazas_hombres_2019[comunidad]\n",
    "        elif comunidad in plazas_mujeres and sexo == 'Mujeres':\n",
    "            Plazas.at[index, 'Total plazas matriculaciones'] = plazas_mujeres_2019[comunidad]"
   ]
  },
  {
   "cell_type": "code",
   "execution_count": null,
   "id": "e7a12ae0-a9df-4ec2-bc77-88baba3be20c",
   "metadata": {},
   "outputs": [],
   "source": [
    "# Diccionario de plazas ordinarias de hombres por comunidad autónoma para el año 2018\n",
    "plazas_hombres_2018 = {\n",
    "    '01 ANDALUCÍA': 825162,\n",
    "    '02 ARAGÓN': 112815,\n",
    "    '03 ASTURIAS, PRINCIPADO DE': 70608,\n",
    "    '04 BALEARS, ILLES': 97340,\n",
    "    '05 CANARIAS': 177948,\n",
    "    '06 CANTABRIA': 48227,\n",
    "    '07 CASTILLA Y LEÓN': 180888,\n",
    "    '08 CASTILLA-LA MANCHA': 186527,\n",
    "    '09 CATALUÑA': 693353,\n",
    "    'Barcelona': 508574,\n",
    "    'Girona': 68980,\n",
    "    'Lleida': 41002,\n",
    "    'Tarragona': 74797,\n",
    "    '10 COMUNITAT VALENCIANA': 446971,\n",
    "    '11 EXTREMADURA': 91648,\n",
    "    '12 GALICIA': 207600,\n",
    "    '13 MADRID, COMUNIDAD DE': 614646,\n",
    "    '14 MURCIA, REGIÓN DE': 152661,\n",
    "    '15 NAVARRA (Comunidad Foral de) (3)': 58726,\n",
    "    '16 PAÍS VASCO': 197826,\n",
    "    '17 RIOJA, LA': 27960,\n",
    "    '18 CEUTA': 10321,\n",
    "    '19 MELILLA': 10710\n",
    "}\n",
    "\n",
    "# Diccionario de plazas ordinarias de mujeres por comunidad autónoma para el año 2018\n",
    "plazas_mujeres_2018 = {\n",
    "    '01 ANDALUCÍA': 778009,\n",
    "    '02 ARAGÓN': 104492,\n",
    "    '03 ASTURIAS, PRINCIPADO DE': 65712,\n",
    "    '04 BALEARS, ILLES': 87723,\n",
    "    '05 CANARIAS': 170584,\n",
    "    '06 CANTABRIA': 45719,\n",
    "    '07 CASTILLA Y LEÓN': 167972,\n",
    "    '08 CASTILLA-LA MANCHA': 174427,\n",
    "    '09 CATALUÑA': 656537,\n",
    "    'Barcelona': 481180,\n",
    "    'Girona': 65355,\n",
    "    'Lleida': 40534,\n",
    "    'Tarragona': 69468,\n",
    "    '10 COMUNITAT VALENCIANA': 418921,\n",
    "    '11 EXTREMADURA': 86716,\n",
    "    '12 GALICIA': 194134,\n",
    "    '13 MADRID, COMUNIDAD DE': 579320,\n",
    "    '14 MURCIA, REGIÓN DE': 139279,\n",
    "    '15 NAVARRA (Comunidad Foral de) (3)': 54658,\n",
    "    '16 PAÍS VASCO': 177691,\n",
    "    '17 RIOJA, LA': 26505,\n",
    "    '18 CEUTA': 9904,\n",
    "    '19 MELILLA': 10103\n",
    "}\n",
    "\n",
    "# Actualizar los valores de 'Total plazas matriculaciones' en el DataFrame para hombres y mujeres\n",
    "for index, row in Plazas.iterrows():\n",
    "    if (row['Año finalización curso'] == 2018 and \n",
    "        row['Tipo de plazas'] == 'Ordinarias' and \n",
    "        row['Discapacidad'] == 'No'):\n",
    "        \n",
    "        comunidad = row['Comunidad autónoma/provincia']\n",
    "        sexo = row['Sexo']\n",
    "        \n",
    "        if comunidad in plazas_hombres_2019 and sexo == 'Hombres':\n",
    "            Plazas.at[index, 'Total plazas matriculaciones'] = plazas_hombres_2018[comunidad]\n",
    "        elif comunidad in plazas_mujeres_2019 and sexo == 'Mujeres':\n",
    "            Plazas.at[index, 'Total plazas matriculaciones'] = plazas_mujeres_2018[comunidad]"
   ]
  },
  {
   "cell_type": "code",
   "execution_count": null,
   "id": "0a86f3c6-c56f-4538-a714-2621c2d4193d",
   "metadata": {},
   "outputs": [],
   "source": [
    "Plazas = Plazas.copy()"
   ]
  },
  {
   "cell_type": "code",
   "execution_count": null,
   "id": "025864da-6582-41cb-86a6-346dd6d7d93e",
   "metadata": {},
   "outputs": [],
   "source": [
    "Plazas"
   ]
  },
  {
   "cell_type": "markdown",
   "id": "51a52883-0ed5-4f26-8511-5cb02b81f4cb",
   "metadata": {},
   "source": [
    "### Vale, los datos ya los tengo actualizados, he tenido que restar las plazas especiales por sexo a las plazas ordinarias, porque mostraba el total de plazas de matriculaciones incluyendo las discapacidades a trabajar. "
   ]
  },
  {
   "cell_type": "code",
   "execution_count": null,
   "id": "92d91bac-38d0-49ff-a9de-f8aa235d5adf",
   "metadata": {},
   "outputs": [],
   "source": [
    "Plazas.duplicated()"
   ]
  },
  {
   "cell_type": "markdown",
   "id": "6e66c0ed-a7b4-45a3-9032-c7111706dd48",
   "metadata": {},
   "source": [
    "No exiten duplicados. Voy a mirar valores NAN. "
   ]
  },
  {
   "cell_type": "code",
   "execution_count": null,
   "id": "bf18db4a-ef46-4849-a88c-72cd5db4aebc",
   "metadata": {},
   "outputs": [],
   "source": [
    "Plazas.isna().sum()"
   ]
  },
  {
   "cell_type": "markdown",
   "id": "ddc8f89e-aeb8-4c02-be6f-93ba71e5b2d5",
   "metadata": {},
   "source": [
    "Tampoco tenemos datos Nulos. Empezaríamos con datos estadísticos, gráficos, EDA\n"
   ]
  },
  {
   "cell_type": "code",
   "execution_count": null,
   "id": "4f345ec1-ad5d-40f9-bdc6-cdf1c8b3ac6f",
   "metadata": {},
   "outputs": [],
   "source": [
    "# Calculo de inicio estadísticas descriptivas. \n",
    "Plazas.describe().round()"
   ]
  },
  {
   "cell_type": "markdown",
   "id": "407d9428-0b08-401a-afbd-f5dcf9c812b6",
   "metadata": {},
   "source": [
    "Como ya dije al principio me encuentro con un dataframe con muchas columnas categoricas. En cuanto a numéricas una me indica el año y de ahí saco que la media es 2020, realmente no es muy relevante, ya que lo que principalmente me va a aportar esta columna es la evolución y tendencia a través de los registros.\n",
    "Pero la otra columna numérica, que es el Total de plazas matriculaciones, aquí si que del total de los datos registrados me dice que hay un total de 920 registros, la media de los datos es 49945, la mediana es 141171, el número min 0 y el máximo 830411 y el primer quartil es 28, el segundo 148, y el tercero 2130. "
   ]
  },
  {
   "cell_type": "markdown",
   "id": "aa3f96de-7bda-4140-b71d-5827b6f116ac",
   "metadata": {},
   "source": [
    "Para la limpieza y prepocesado de datos, me encuentro que los datos están bien, aunque en montar los datos he tardado mucho, ahora los datos están limpios. Así que ya puedo pasar al Análisi Exploratorio de Datos. "
   ]
  },
  {
   "cell_type": "markdown",
   "id": "5ad786aa-4a1c-4e0b-9aa6-924bf82ebd85",
   "metadata": {},
   "source": [
    "### EDA"
   ]
  },
  {
   "cell_type": "code",
   "execution_count": null,
   "id": "4420f10c-9e8d-4d65-aeee-7711a9b84da9",
   "metadata": {},
   "outputs": [],
   "source": [
    "Plazas"
   ]
  },
  {
   "cell_type": "code",
   "execution_count": null,
   "id": "07832da0-3d14-428a-be29-3f169d68c404",
   "metadata": {},
   "outputs": [],
   "source": [
    "Plazas = Plazas.copy()"
   ]
  },
  {
   "cell_type": "markdown",
   "id": "feda6f4f-aa99-4db5-b2ae-db6199bd182e",
   "metadata": {},
   "source": [
    "# Voy a empezar a visualizar los datos, que es lo que me tiene más intrigada.\n",
    "\n",
    "Empezaré por ver Plazas Ordinarias asignadas por Comunidad del año 2022. Después pasaré a ver las plazas especiales, y por cada discapacidad. "
   ]
  },
  {
   "cell_type": "markdown",
   "id": "842840e4-12ab-4de4-ba09-c83a13463b8f",
   "metadata": {},
   "source": [
    "## Visualización plazas ordinarias por Comunidad y Sexo, 2022"
   ]
  },
  {
   "cell_type": "code",
   "execution_count": null,
   "id": "1c200498-8ad3-44c5-b2ae-8e7b8949e59e",
   "metadata": {},
   "outputs": [],
   "source": [
    "# Filtrar los datos para el año 2022 y tipo de plazas (ordinarias)\n",
    "plazas_ordinarias_2022 = Plazas[(Plazas['Año finalización curso'] == 2022) & \n",
    "                                (Plazas['Tipo de plazas'] == 'Ordinarias') &\n",
    "                                (~Plazas['Comunidad autónoma/provincia'].isin(['Barcelona', 'Tarragona', 'Lleida', 'Girona']))]\n",
    "\n",
    "# Agrupar por comunidad autónoma/provincia y sexo, luego sumar las plazas matriculaciones\n",
    "plazas_ordinarias_2022_por_sexo = plazas_ordinarias_2022.groupby(['Comunidad autónoma/provincia', 'Sexo'])['Total plazas matriculaciones'].sum()\n",
    "\n",
    "# Ordenar de más a menos plazas\n",
    "plazas_ordinarias_2022_por_sexo_sorted = plazas_ordinarias_2022_por_sexo.sort_values(ascending=False)\n",
    "\n",
    "# Mostrar el resultado\n",
    "print(plazas_ordinarias_2022_por_sexo_sorted)"
   ]
  },
  {
   "cell_type": "code",
   "execution_count": null,
   "id": "b2769981-e2b6-4a73-ac91-7b73d3e8a776",
   "metadata": {},
   "outputs": [],
   "source": [
    "import matplotlib.pyplot as plt\n",
    "\n",
    "# Sumar las plazas ordinarias por sexo y comunidad autónoma\n",
    "plazas_ordinarias_2022_por_sexo_sum = plazas_ordinarias_2022.groupby(['Comunidad autónoma/provincia', 'Sexo'])['Total plazas matriculaciones'].sum().unstack()\n",
    "\n",
    "# Calcular la suma total de plazas ordinarias por comunidad autónoma\n",
    "plazas_ordinarias_2022_por_sexo_sum['Total'] = plazas_ordinarias_2022_por_sexo_sum.sum(axis=1)\n",
    "\n",
    "# Ordenar los datos por el total de plazas ordinarias para hombres y mujeres\n",
    "plazas_ordinarias_2022_por_sexo_sum_sorted = plazas_ordinarias_2022_por_sexo_sum.sort_values(by='Total', ascending=False)\n",
    "\n",
    "# Eliminar la columna 'Total' ya que solo es un auxiliar para ordenar los datos\n",
    "plazas_ordinarias_2022_por_sexo_sum_sorted.drop(columns='Total', inplace=True)\n",
    "\n",
    "# Definir colores para hombres y mujeres\n",
    "color_hombre = 'turquoise'\n",
    "color_mujer = 'purple'\n",
    "\n",
    "# Graficar el total de plazas ordinarias por comunidad autónoma y sexo para el año 2022 (ordenado)\n",
    "plazas_ordinarias_2022_por_sexo_sum_sorted.plot(kind='bar', figsize=(12, 6), stacked=False, color=[color_hombre, color_mujer])\n",
    "\n",
    "plt.title('Plazas Ordinarias por Comunidad Autónoma y Sexo (2022)')\n",
    "plt.xlabel('Comunidad Autónoma/Provincia')\n",
    "plt.ylabel('Total de Plazas Ordinarias')\n",
    "plt.xticks(rotation=45, ha='right')\n",
    "plt.legend(title='Sexo', labels=['Hombre', 'Mujer'])\n",
    "plt.tight_layout()\n",
    "plt.show()"
   ]
  },
  {
   "cell_type": "markdown",
   "id": "b881e62d-94c5-4831-a3ee-ac3cf9284294",
   "metadata": {},
   "source": [
    "En todas las comunidades autónomas vemos que existen más plazas asignadas en este caso Ordinarias, para los hombres. Importante destacar que las comunidades autónomas que más matriculación registra son:\n",
    "\n",
    "- ANDALUCÍA\n",
    "- CATALUÑA\n",
    "- MADRID\n",
    "- VALENCIA\n",
    "- GALICIA\n",
    "\n",
    "Pasamos a visualizas las plazas especiales...\n",
    "  "
   ]
  },
  {
   "cell_type": "markdown",
   "id": "4340aee8-260c-452b-aa86-aff899292f91",
   "metadata": {},
   "source": [
    "## Visualización total plazas especiales por Comunidad y Sexo, 2022"
   ]
  },
  {
   "cell_type": "code",
   "execution_count": null,
   "id": "a132c636-b851-4a10-933a-2d484793091e",
   "metadata": {},
   "outputs": [],
   "source": [
    "# Filtrar los datos para el año 2022 y tipo de plazas (Especiales), excluyendo Barcelona, Tarragona, Lleida y Girona\n",
    "plazas_especiales_2022_filtered = Plazas[(Plazas['Año finalización curso'] == 2022) & \n",
    "                                         (Plazas['Tipo de plazas'] == 'Especiales') & \n",
    "                                         (~Plazas['Comunidad autónoma/provincia'].isin(['Barcelona', 'Tarragona', 'Lleida', 'Girona']))]\n",
    "\n",
    "# Agrupar los datos por comunidad autónoma/provincia y sexo, y calcular el total de plazas matriculaciones para cada grupo\n",
    "plazas_especiales_sexo_comunidad_2022 = plazas_especiales_2022_filtered.groupby(['Comunidad autónoma/provincia', 'Sexo'])['Total plazas matriculaciones'].sum()\n",
    "\n",
    "# Mostrar los datos agrupados por comunidad autónoma/provincia y sexo\n",
    "print(plazas_especiales_sexo_comunidad_2022)\n"
   ]
  },
  {
   "cell_type": "code",
   "execution_count": null,
   "id": "ef7a5c73-6c28-46f4-950c-6e1a704397b7",
   "metadata": {},
   "outputs": [],
   "source": [
    "## Definir colores para hombres y mujeres\n",
    "color_hombre = 'turquoise'\n",
    "color_mujer = 'purple'\n",
    "\n",
    "# Ordenar los datos de más a menos según el total de plazas matriculaciones por cada comunidad y sexo\n",
    "plazas_especiales_sexo_comunidad_2022_sorted = plazas_especiales_sexo_comunidad_2022.unstack().sort_values(by='Hombres', ascending=False)\n",
    "\n",
    "# Crear una figura y ejes para el gráfico\n",
    "fig, ax = plt.subplots(figsize=(12, 6))\n",
    "\n",
    "# Graficar los datos ordenados\n",
    "plazas_especiales_sexo_comunidad_2022_sorted.plot(kind='bar', ax=ax, color=[color_hombre, color_mujer])\n",
    "\n",
    "# Configurar el título y etiquetas de los ejes\n",
    "ax.set_title('Plazas especiales por comunidad y sexo (2022)')\n",
    "ax.set_xlabel('Comunidad autónoma/provincia')\n",
    "ax.set_ylabel('Total plazas matriculaciones')\n",
    "\n",
    "# Mostrar la leyenda\n",
    "ax.legend(title='Sexo')\n",
    "\n",
    "# Rotar las etiquetas del eje x para una mejor visualización\n",
    "plt.xticks(rotation=45, ha='right')\n",
    "\n",
    "# Mostrar el gráfico\n",
    "plt.tight_layout()\n",
    "plt.show()"
   ]
  },
  {
   "cell_type": "markdown",
   "id": "46c1da04-2a45-4ada-a29c-c187db85f75c",
   "metadata": {},
   "source": [
    "En este caso, el total de plazas de necesidades especiales por Comunidad nos indica que los hombres destinan casi el doble de plazas neurológicas, en comparación a las mujeres.\n",
    "\n",
    "El top 5 de comunidades de plazas asignadas por Necesidades especiales son: \n",
    "\n",
    "- ANDALUCÍA\n",
    "- CATALUÑA\n",
    "- VALENCIA\n",
    "- MADRID\n",
    "- CANARIAS\n",
    "\n",
    "Las 4 primeras posiciones coinciden en el volumen total de matriculaciones con respecto a la población. Sin embargo, llama la atención el caso de Canarias, ya que, según la tabla anterior, se encuentra en la mitad de la clasificación. \n",
    "Es posible que intervengan otros factores, como el medio ambiente o el desarrollo de la comunidad en estos casos, entre otras cosas.\n",
    "\n",
    "Ahora vamos a visualizar por cada una de las discapacidades que trabajamos. \n"
   ]
  },
  {
   "cell_type": "markdown",
   "id": "0b054626-e665-47a6-88ec-f6436d2ea20d",
   "metadata": {},
   "source": [
    "## Visualización plazas discapacidad intelectual por Comunidad y Sexo, 2022"
   ]
  },
  {
   "cell_type": "code",
   "execution_count": null,
   "id": "347b05c6-2e71-45bf-82fb-3b6c18d8e88b",
   "metadata": {},
   "outputs": [],
   "source": [
    "# Filtrar los datos para discapacidad intelectual y excluir Barcelona, Tarragona, Lleida y Girona\n",
    "filtered_data = Plazas[(Plazas['Discapacidad'] == 'Intelectual') &\n",
    "                       (~Plazas['Comunidad autónoma/provincia'].isin(['Barcelona', 'Tarragona', 'Lleida', 'Girona']))]\n",
    "\n",
    "# Agrupar los datos por comunidad autónoma/provincia y sexo, y calcular el total de plazas matriculaciones\n",
    "grouped_data = filtered_data.groupby(['Comunidad autónoma/provincia', 'Sexo'])['Total plazas matriculaciones'].sum()\n",
    "\n",
    "# Ordenar los datos de más a menos según el total de plazas matriculaciones\n",
    "sorted_data = grouped_data.unstack().sort_values(by='Hombres', ascending=False)\n",
    "\n",
    "# Mostrar los datos ordenados\n",
    "print(sorted_data)"
   ]
  },
  {
   "cell_type": "code",
   "execution_count": null,
   "id": "9f9b83ba-fbf1-4add-a592-7489db8be57b",
   "metadata": {},
   "outputs": [],
   "source": [
    "# Definir colores para hombres y mujeres\n",
    "color_hombre = 'turquoise'\n",
    "color_mujer = 'purple'\n",
    "\n",
    "# Crear una figura y ejes para el gráfico\n",
    "fig, ax = plt.subplots(figsize=(12, 6))\n",
    "\n",
    "# Graficar los datos ordenados y especificar colores para hombres y mujeres\n",
    "sorted_data.plot(kind='bar', ax=ax, color=[color_hombre, color_mujer])\n",
    "\n",
    "# Configurar el título y etiquetas de los ejes\n",
    "ax.set_title('Discapacidad Intelectual por comunidad y sexo (2022)')\n",
    "ax.set_xlabel('Comunidad autónoma/provincia')\n",
    "ax.set_ylabel('Total plazas matriculaciones')\n",
    "\n",
    "# Mostrar la leyenda\n",
    "ax.legend(title='Sexo')\n",
    "\n",
    "# Rotar las etiquetas del eje x para una mejor visualización\n",
    "plt.xticks(rotation=45, ha='right')\n",
    "\n",
    "# Mostrar el gráfico\n",
    "plt.tight_layout()\n",
    "plt.show()"
   ]
  },
  {
   "cell_type": "markdown",
   "id": "44d5925b-876c-4d34-b34f-1226cee34025",
   "metadata": {},
   "source": [
    "El top 5 de discapacidad intelectual: \n",
    "\n",
    "- ANDALUCÍA \n",
    "- MADRID\n",
    "- CATALUÑA\n",
    "- VALENCIA \n",
    "- CANARIAS\n",
    "\n",
    "Tengo la misma sensación del gráfico anterior. Me llama la atención Madrid dónde los datos reflejan 4 veces más que las mujeres. \n"
   ]
  },
  {
   "cell_type": "markdown",
   "id": "d3aeac36-860f-4795-be7b-d2361488ee7a",
   "metadata": {},
   "source": [
    "## Visualización plazas discapacidad Trastornos del espectro del autismo (2) por Comunidad y Sexo, 2022"
   ]
  },
  {
   "cell_type": "code",
   "execution_count": null,
   "id": "b41eef8c-d293-49d7-9d75-5dddd772ca02",
   "metadata": {},
   "outputs": [],
   "source": [
    "# Filtrar los datos para el año 2022, discapacidad intelectual y excluir Barcelona, Tarragona, Lleida y Girona\n",
    "filtered_data_2022 = Plazas[(Plazas['Año finalización curso'] == 2022) & \n",
    "                             (Plazas['Discapacidad'] == 'Trastornos del espectro del autismo (2)') &\n",
    "                             (~Plazas['Comunidad autónoma/provincia'].isin(['Barcelona', 'Tarragona', 'Lleida', 'Girona']))]\n",
    "\n",
    "# Agrupar los datos por comunidad autónoma/provincia y sexo, y calcular el total de plazas matriculaciones\n",
    "grouped_data_2022 = filtered_data_2022.groupby(['Comunidad autónoma/provincia', 'Sexo'])['Total plazas matriculaciones'].sum()\n",
    "\n",
    "# Ordenar los datos de más a menos según el total de plazas matriculaciones\n",
    "sorted_data_2022 = grouped_data_2022.unstack().sort_values(by='Hombres', ascending=False)\n",
    "\n",
    "# Mostrar los datos ordenados\n",
    "print(sorted_data_2022)"
   ]
  },
  {
   "cell_type": "code",
   "execution_count": null,
   "id": "398df43e-4655-43fb-a4ca-9b146a033a78",
   "metadata": {},
   "outputs": [],
   "source": [
    "# Definir colores para hombres y mujeres\n",
    "color_hombre = 'turquoise'\n",
    "color_mujer = 'purple'\n",
    "\n",
    "# Crear una figura y ejes para el gráfico\n",
    "fig, ax = plt.subplots(figsize=(12, 6))\n",
    "\n",
    "# Graficar los datos ordenados y especificar colores para hombres y mujeres\n",
    "sorted_data_2022.plot(kind='bar', ax=ax, color=[color_hombre, color_mujer])\n",
    "\n",
    "# Configurar el título y etiquetas de los ejes\n",
    "ax.set_title('Discapacidad Trastornos del espectro del autismo (2) por comunidad y sexo (2022)')\n",
    "ax.set_xlabel('Comunidad autónoma/provincia')\n",
    "ax.set_ylabel('Total plazas matriculaciones')\n",
    "\n",
    "# Mostrar la leyenda\n",
    "ax.legend(title='Sexo')\n",
    "\n",
    "# Rotar las etiquetas del eje x para una mejor visualización\n",
    "plt.xticks(rotation=45, ha='right')\n",
    "\n",
    "# Mostrar el gráfico\n",
    "plt.tight_layout()\n",
    "plt.show()"
   ]
  },
  {
   "cell_type": "markdown",
   "id": "73ff8d0c-70a7-4c25-8a61-e35f3bee1724",
   "metadata": {},
   "source": [
    "En cuanto al autismo, \n",
    "El top 5: \n",
    "\n",
    "- ANDALUCÍA\n",
    "- CATALUÑA\n",
    "- VALENCIA\n",
    "- MADRID\n",
    "- CANARIAS\n",
    "\n",
    "Volvemos a repetir con Canarias en el 5 puesto y vemos que en el caso de autismo el hombre dobla los datos en relación a las mujeres. \n"
   ]
  },
  {
   "cell_type": "markdown",
   "id": "70c21968-3e90-444a-ae27-9546a58e2fda",
   "metadata": {},
   "source": [
    "## Visualización plazas discapacidad Trastornos graves de conducta/personalidad por Comunidad y Sexo, 2022"
   ]
  },
  {
   "cell_type": "code",
   "execution_count": null,
   "id": "1be9286c-4ac9-4517-935d-78038540b51d",
   "metadata": {},
   "outputs": [],
   "source": [
    "# Filtrar los datos para el año 2022, discapacidad intelectual y excluir Barcelona, Tarragona, Lleida y Girona\n",
    "filtered_data_2022 = Plazas[(Plazas['Año finalización curso'] == 2022) & \n",
    "                             (Plazas['Discapacidad'] == 'Trastornos graves de conducta/personalidad') &\n",
    "                             (~Plazas['Comunidad autónoma/provincia'].isin(['Barcelona', 'Tarragona', 'Lleida', 'Girona']))]\n",
    "\n",
    "# Agrupar los datos por comunidad autónoma/provincia y sexo, y calcular el total de plazas matriculaciones\n",
    "grouped_data_2022 = filtered_data_2022.groupby(['Comunidad autónoma/provincia', 'Sexo'])['Total plazas matriculaciones'].sum()\n",
    "\n",
    "# Ordenar los datos de más a menos según el total de plazas matriculaciones\n",
    "sorted_data_2022 = grouped_data_2022.unstack().sort_values(by='Hombres', ascending=False)\n",
    "\n",
    "# Mostrar los datos ordenados\n",
    "print(sorted_data_2022)"
   ]
  },
  {
   "cell_type": "code",
   "execution_count": null,
   "id": "9e239816-a460-4744-ad4f-fc396a529514",
   "metadata": {},
   "outputs": [],
   "source": [
    "# Definir colores para hombres y mujeres\n",
    "color_hombre = 'turquoise'\n",
    "color_mujer = 'purple'\n",
    "\n",
    "# Crear una figura y ejes para el gráfico\n",
    "fig, ax = plt.subplots(figsize=(12, 6))\n",
    "\n",
    "# Graficar los datos ordenados y especificar colores para hombres y mujeres\n",
    "sorted_data_2022.plot(kind='bar', ax=ax, color=[color_hombre, color_mujer])\n",
    "\n",
    "# Configurar el título y etiquetas de los ejes\n",
    "ax.set_title('Discapacidad Trastornos graves de conducta/personalidad por comunidad y sexo (2022)')\n",
    "ax.set_xlabel('Comunidad autónoma/provincia')\n",
    "ax.set_ylabel('Total plazas matriculaciones')\n",
    "\n",
    "# Mostrar la leyenda\n",
    "ax.legend(title='Sexo')\n",
    "\n",
    "# Rotar las etiquetas del eje x para una mejor visualización\n",
    "plt.xticks(rotation=45, ha='right')\n",
    "\n",
    "# Mostrar el gráfico\n",
    "plt.tight_layout()\n",
    "plt.show()"
   ]
  },
  {
   "cell_type": "markdown",
   "id": "e03f5660-41ef-4fae-b7ed-b687372929d9",
   "metadata": {},
   "source": [
    "Con el trastorno grave de conducta, el top 5:\n",
    "\n",
    "- MADRID\n",
    "- CATALUÑA\n",
    "- ANDALUCÍA\n",
    "- GALICIA\n",
    "- MURCIA\n",
    "\n",
    "En este caso si tenemos variación, y se entiende que la población no tiene tanto que ver, bueno, un poci sí pero en este caso Andalucía se encuentra en 3 posición, pero Valencia baja a mitad de la lista y sube posiciones Galicia y Murcia. \n",
    "\n",
    "Ahora quiero mirar la evolución y la tendencia de cada discapacidad. \n"
   ]
  },
  {
   "cell_type": "markdown",
   "id": "5bce3a34-2aec-4c0a-8b56-84d042e82e94",
   "metadata": {},
   "source": [
    "## Visualización evolución total discapacidad intelectual (2018-1022)"
   ]
  },
  {
   "cell_type": "code",
   "execution_count": null,
   "id": "f514a863-884a-4175-ad61-958eb9c0eb32",
   "metadata": {},
   "outputs": [],
   "source": [
    "# Filtrar los datos para discapacidad intelectual\n",
    "data_discapacidad_intelectual = Plazas[Plazas['Discapacidad'] == 'Intelectual']\n",
    "\n",
    "# Agrupar los datos por año y calcular el total de plazas matriculaciones para cada año\n",
    "grouped_data_año = data_discapacidad_intelectual.groupby('Año finalización curso')['Total plazas matriculaciones'].sum()\n",
    "\n",
    "# Crear una figura y ejes para el gráfico\n",
    "fig, ax = plt.subplots(figsize=(10, 6))\n",
    "\n",
    "# Graficar la evolución del total de plazas matriculaciones por año\n",
    "grouped_data_año.plot(kind='line', marker='o', color='b', ax=ax)\n",
    "\n",
    "# Configurar el título y etiquetas de los ejes\n",
    "ax.set_title('Evolución del total de matriculaciones por Discapacidad Intelectual (2018-2022)')\n",
    "ax.set_xlabel('Año')\n",
    "ax.set_ylabel('Total plazas matriculaciones')\n",
    "\n",
    "# Mostrar la cuadrícula\n",
    "ax.grid(True)\n",
    "\n",
    "# Mostrar el gráfico\n",
    "plt.tight_layout()\n",
    "plt.show()"
   ]
  },
  {
   "cell_type": "markdown",
   "id": "d176246a-f66c-4770-ab20-4ec9b11582d4",
   "metadata": {},
   "source": [
    "En este caso, se puede comprobar que existe una tendencia positiva, con lo que se indica que posiblemente haya que destinar cada año más matriculaciones a esta discapacidad. "
   ]
  },
  {
   "cell_type": "markdown",
   "id": "985962e2-9d74-4058-8a07-0371532dbe34",
   "metadata": {},
   "source": [
    "## Visualización evolución total discapacidad Trastornos del espectro del autismo (2)  (2018-1022)"
   ]
  },
  {
   "cell_type": "code",
   "execution_count": null,
   "id": "f832b158-3065-4a2f-9579-ab01a4824c65",
   "metadata": {},
   "outputs": [],
   "source": [
    "# Filtrar los datos para la discapacidad \"Trastornos del espectro del autismo (2)\"\n",
    "data_discapacidad_autismo = Plazas[Plazas['Discapacidad'] == 'Trastornos del espectro del autismo (2)']\n",
    "\n",
    "# Agrupar los datos por año y calcular el total de plazas matriculaciones para cada año\n",
    "grouped_data_autismo_año = data_discapacidad_autismo.groupby('Año finalización curso')['Total plazas matriculaciones'].sum()\n",
    "\n",
    "# Convertir el índice a enteros\n",
    "grouped_data_autismo_año.index = grouped_data_autismo_año.index.astype(int)\n",
    "\n",
    "# Crear una figura y ejes para el gráfico\n",
    "fig, ax = plt.subplots(figsize=(10, 6))\n",
    "\n",
    "# Graficar la evolución del total de plazas matriculaciones por año\n",
    "grouped_data_autismo_año.plot(kind='line', marker='o', color='b', ax=ax)\n",
    "\n",
    "# Configurar el título y etiquetas de los ejes\n",
    "ax.set_title('Evolución del total de matriculaciones por Discapacidad Trastornos del espectro del autismo (2) (2018-2022)')\n",
    "ax.set_xlabel('Año')\n",
    "ax.set_ylabel('Total plazas matriculaciones')\n",
    "\n",
    "# Mostrar la cuadrícula\n",
    "ax.grid(True)\n",
    "\n",
    "# Mostrar el gráfico\n",
    "plt.tight_layout()\n",
    "plt.show()"
   ]
  },
  {
   "cell_type": "markdown",
   "id": "063f21f8-a2c4-430f-9463-6b86b8abe643",
   "metadata": {},
   "source": [
    "En el caso del autismo, se pecibe una tendencia positiva hasta 2021, que después se estabiliza. Posiblemente sea porque hace pocos años que se está implementando en España, quizás por ello la primera impresión de tendencia, y en este momento está más controlado. Es una suposición. "
   ]
  },
  {
   "cell_type": "markdown",
   "id": "5678f0dd-1103-4e18-956c-1df03f3e7159",
   "metadata": {},
   "source": [
    "## Visualización evolución total discapacidad Trastornos graves de conducta/personalidad (2018-1022)"
   ]
  },
  {
   "cell_type": "code",
   "execution_count": null,
   "id": "1cca5996-f1d9-48e2-bf4b-f2207daa49b0",
   "metadata": {},
   "outputs": [],
   "source": [
    "# Filtrar los datos para la discapacidad \"Trastornos graves de conducta/personalidad\"\n",
    "data_discapacidad_graves_conducta = Plazas[Plazas['Discapacidad'] == 'Trastornos graves de conducta/personalidad']\n",
    "\n",
    "# Agrupar los datos por año y calcular el total de plazas matriculaciones para cada año\n",
    "grouped_data_graves_conducta_año = data_discapacidad_graves_conducta.groupby('Año finalización curso')['Total plazas matriculaciones'].sum()\n",
    "\n",
    "# Convertir el índice a enteros\n",
    "grouped_data_graves_conducta_año.index = grouped_data_graves_conducta_año.index.astype(int)\n",
    "\n",
    "# Crear una figura y ejes para el gráfico\n",
    "fig, ax = plt.subplots(figsize=(10, 6))\n",
    "\n",
    "# Graficar la evolución del total de plazas matriculaciones por año\n",
    "grouped_data_graves_conducta_año.plot(kind='line', marker='o', color='b', ax=ax)\n",
    "\n",
    "# Configurar el título y etiquetas de los ejes\n",
    "ax.set_title('Evolución del total de matriculaciones por Discapacidad Trastornos graves de conducta/personalidad (2018-2022)')\n",
    "ax.set_xlabel('Año')\n",
    "ax.set_ylabel('Total plazas matriculaciones')\n",
    "\n",
    "# Mostrar la cuadrícula\n",
    "ax.grid(True)\n",
    "\n",
    "# Mostrar el gráfico\n",
    "plt.tight_layout()\n",
    "plt.show()"
   ]
  },
  {
   "cell_type": "markdown",
   "id": "438aad36-3fc8-4ae7-8d04-fadd11b808c5",
   "metadata": {},
   "source": [
    "La evolución del trastorno grave de conducta, la tendencia es negativa, hasta 2020 que parece que se estabiliza y sigue bajando. Hay que tener en cuenta que el total de plazas destinadas para cada discapacidades son muy diferentes y en cada una de sus visualizaciones se percibe las tendencias, pero voy a gruparlas en un gráfico con una escala de plazas de matriculaciones iguales para cada una de ellas, y se verá de diferente manera. "
   ]
  },
  {
   "cell_type": "markdown",
   "id": "37e87639-8f15-48a7-9354-8147988fc9d5",
   "metadata": {},
   "source": [
    "## Visualización evolución matriculaciones por discapacidad (2018-2022)"
   ]
  },
  {
   "cell_type": "code",
   "execution_count": null,
   "id": "da306539-c78d-45ac-b5e3-6b250ab96c12",
   "metadata": {},
   "outputs": [],
   "source": [
    "# Filtrar los datos para cada tipo de discapacidad\n",
    "data_intelectual = Plazas[Plazas['Discapacidad'] == 'Intelectual']\n",
    "data_autismo = Plazas[Plazas['Discapacidad'] == 'Trastornos del espectro del autismo (2)']\n",
    "data_graves = Plazas[Plazas['Discapacidad'] == 'Trastornos graves de conducta/personalidad']\n",
    "\n",
    "# Agrupar los datos por año y calcular el total de plazas matriculaciones para cada año\n",
    "grouped_data_intelectual = data_intelectual.groupby('Año finalización curso')['Total plazas matriculaciones'].sum()\n",
    "grouped_data_autismo = data_autismo.groupby('Año finalización curso')['Total plazas matriculaciones'].sum()\n",
    "grouped_data_graves = data_graves.groupby('Año finalización curso')['Total plazas matriculaciones'].sum()\n",
    "\n",
    "# Crear una figura y ejes para el gráfico\n",
    "fig, ax = plt.subplots(figsize=(10, 6))\n",
    "\n",
    "# Graficar la evolución del total de plazas matriculaciones por año para cada tipo de discapacidad\n",
    "grouped_data_intelectual.plot(kind='line', marker='o', color='b', label='Intelectual', ax=ax)\n",
    "grouped_data_autismo.plot(kind='line', marker='o', color='r', label='Autismo', ax=ax)\n",
    "grouped_data_graves.plot(kind='line', marker='o', color='g', label='Trastornos graves', ax=ax)\n",
    "\n",
    "# Configurar el título y etiquetas de los ejes\n",
    "ax.set_title('Evolución del total de matriculaciones por Discapacidad (2018-2022)')\n",
    "ax.set_xlabel('Año')\n",
    "ax.set_ylabel('Total plazas matriculaciones')\n",
    "\n",
    "# Agregar la leyenda\n",
    "ax.legend()\n",
    "\n",
    "# Mostrar la cuadrícula\n",
    "ax.grid(True)\n",
    "\n",
    "# Mostrar el gráfico\n",
    "plt.tight_layout()\n",
    "plt.show()"
   ]
  },
  {
   "cell_type": "markdown",
   "id": "191feb6a-5d75-4675-ad57-f21454314714",
   "metadata": {},
   "source": [
    "De este modo, no sorprende tanto los datos, ya que en trastornos graves se mantiene constante, en los otros dos casao se percibe lo mismo, pero siguen habiendo más casos de plazas especiales destinadas a discapacidad intelectual. \n",
    "\n",
    "\n",
    "Tenía ganas de mostrar un mapa gráfico nacional por cada discapacidad, para que visualmente se viera como están distribuidas el total de plazas. "
   ]
  },
  {
   "cell_type": "markdown",
   "id": "9bf9009b-3f4b-4fcf-99f7-49487e3b3e9f",
   "metadata": {},
   "source": [
    "## VISUALIZACIÓN MAPA ESPAÑA DISCAPACIDAD INTELECTUAL 2022"
   ]
  },
  {
   "cell_type": "code",
   "execution_count": null,
   "id": "dc75b287-8008-487f-99a4-d564e5325534",
   "metadata": {},
   "outputs": [],
   "source": [
    "# Filtrar los datos para el año 2022, discapacidad intelectual y excluir Barcelona, Tarragona, Lleida y Girona\n",
    "filtered_data_2022 = Plazas[(Plazas['Año finalización curso'] == 2022) & \n",
    "                             (Plazas['Discapacidad'] == 'Intelectual') &\n",
    "                             (~Plazas['Comunidad autónoma/provincia'].isin(['Barcelona', 'Tarragona', 'Lleida', 'Girona']))]\n",
    "\n",
    "# Agrupar los datos por comunidad autónoma/provincia y sexo, y calcular el total de plazas matriculaciones\n",
    "filtro_intelectual = filtered_data_2022.groupby(['Comunidad autónoma/provincia'])['Total plazas matriculaciones'].sum()\n",
    "\n",
    "# Ordenar los datos de forma descendente\n",
    "filtro_intelectual_ordenado = filtro_intelectual.sort_values(ascending=False)\n",
    "\n",
    "# Mostrar los datos ordenados\n",
    "print(filtro_intelectual_ordenado)"
   ]
  },
  {
   "cell_type": "code",
   "execution_count": null,
   "id": "74871a6f-38db-42c8-a6a1-260540ee38b9",
   "metadata": {},
   "outputs": [],
   "source": [
    "# Guardar los datos en un archivo CSV\n",
    "filtro_intelectual.to_csv(\"matriculaciones_discapacidad_intelectual_2022.csv\", header=True)"
   ]
  },
  {
   "cell_type": "code",
   "execution_count": null,
   "id": "c7bb2e95-86f7-411c-8882-cddb57f845a1",
   "metadata": {},
   "outputs": [],
   "source": [
    "import pandas as pd\n",
    "import plotly.express as px\n",
    "import json\n",
    "from urllib.request import urlopen\n",
    "\n",
    "# Cargar los datos desde el archivo CSV\n",
    "datos_csv = \"matriculaciones_discapacidad_intelectual_2022.csv\"\n",
    "df = pd.read_csv(datos_csv)\n",
    "\n",
    "# Definir el diccionario de mapeo de nombres\n",
    "mapeo_nombres = {\n",
    "    '01 ANDALUCÍA': 'Andalucía',\n",
    "    '02 ARAGÓN': 'Aragón',\n",
    "    '03 ASTURIAS, PRINCIPADO DE': 'Principado de Asturias',\n",
    "    '04 BALEARS, ILLES': 'Islas Baleares',\n",
    "    '05 CANARIAS': 'Islas Canarias',\n",
    "    '06 CANTABRIA': 'Cantabria',\n",
    "    '07 CASTILLA Y LEÓN': 'Castilla y León',\n",
    "    '08 CASTILLA-LA MANCHA': 'Castilla-La Mancha',\n",
    "    '09 CATALUÑA': 'Cataluña',\n",
    "    '10 COMUNITAT VALENCIANA': 'Comunidad Valenciana',\n",
    "    '11 EXTREMADURA': 'Extremadura',\n",
    "    '12 GALICIA': 'Galicia',\n",
    "    '13 MADRID, COMUNIDAD DE': 'Comunidad de Madrid',\n",
    "    '14 MURCIA, REGIÓN DE': 'Región de Murcia',\n",
    "    '15 NAVARRA, COMUNIDAD FORAL DE': 'Comunidad Foral de Navarra',\n",
    "    '16 PAÍS VASCO': 'País Vasco',\n",
    "    '17 RIOJA, LA': 'La Rioja',\n",
    "    '18 CEUTA': 'Ceuta',\n",
    "    '19 MELILLA': 'Melilla'\n",
    "}\n",
    "\n",
    "# Aplicar el mapeo al DataFrame\n",
    "df['Comunidad autónoma/provincia'] = df['Comunidad autónoma/provincia'].map(mapeo_nombres)\n",
    "\n",
    "# URL del archivo GeoJSON que contiene las geometrías de las comunidades autónomas de España\n",
    "url_geojson_espana = \"https://raw.githubusercontent.com/R-CoderDotCom/data/main/shapefile_spain/spain.geojson\"\n",
    "\n",
    "# Cargar el GeoJSON desde la URL\n",
    "with urlopen(url_geojson_espana) as response:\n",
    "    geojson_espana = json.load(response)\n",
    "\n",
    "# Crear el mapa coroplético con dimensiones más grandes\n",
    "fig = px.choropleth_mapbox(df, \n",
    "                           geojson=geojson_espana, \n",
    "                           locations='Comunidad autónoma/provincia', \n",
    "                           featureidkey=\"properties.name\",\n",
    "                           color='Total plazas matriculaciones',\n",
    "                           color_continuous_scale=\"Viridis\",\n",
    "                           range_color=(0, max(df['Total plazas matriculaciones'])),\n",
    "                           mapbox_style=\"carto-positron\",\n",
    "                           zoom=5, center = {\"lat\": 40.4168, \"lon\": -3.7038},\n",
    "                           opacity=0.7,\n",
    "                           labels={'Total plazas matriculaciones':'Total de matriculaciones'},\n",
    "                           title='Total de Matriculaciones por Comunidad de Discapacidad Intelectual en 2022',\n",
    "                           width=1200, height=800  # ajustar el ancho y alto del gráfico\n",
    "                          )\n",
    "\n",
    "# Mostrar el mapa\n",
    "fig.show()"
   ]
  },
  {
   "cell_type": "markdown",
   "id": "c9fe8c8e-c971-4888-9056-f0da57d09d16",
   "metadata": {},
   "source": [
    "## VISUALIZACIÓN MAPA ESPAÑA DISCAPACIDAD Trastornos del espectro del autismo (2) 2022"
   ]
  },
  {
   "cell_type": "code",
   "execution_count": null,
   "id": "cffdcaf2-638b-4110-9f4c-a0da32c3ca8e",
   "metadata": {},
   "outputs": [],
   "source": [
    "# Filtrar los datos para el año 2022, discapacidad Trastornos del espectro del autismo (2) y excluir Barcelona, Tarragona, Lleida y Girona\n",
    "filtered_data_2022 = Plazas[(Plazas['Año finalización curso'] == 2022) & \n",
    "                             (Plazas['Discapacidad'] == 'Trastornos del espectro del autismo (2)') &\n",
    "                             (~Plazas['Comunidad autónoma/provincia'].isin(['Barcelona', 'Tarragona', 'Lleida', 'Girona']))]\n",
    "\n",
    "# Agrupar los datos por comunidad autónoma/provincia y sexo, y calcular el total de plazas matriculaciones\n",
    "filtro_autismo = filtered_data_2022.groupby(['Comunidad autónoma/provincia'])['Total plazas matriculaciones'].sum()\n",
    "\n",
    "# Ordenar los datos de forma ascendente (de menos a más)\n",
    "filtro_autismo_ordenado_ascendente = filtro_autismo.sort_values(ascending=False)\n",
    "\n",
    "# Mostrar los datos ordenados de forma ascendente\n",
    "print(filtro_autismo_ordenado_ascendente)"
   ]
  },
  {
   "cell_type": "code",
   "execution_count": null,
   "id": "5e89058f-a899-46cf-a21a-6c8f64029418",
   "metadata": {},
   "outputs": [],
   "source": [
    "# Guardar los datos en un archivo CSV\n",
    "filtro_autismo.to_csv(\"matriculaciones_discapacidad_autismo_2022.csv\", header=True)"
   ]
  },
  {
   "cell_type": "code",
   "execution_count": null,
   "id": "cc8b0e79-d20e-46e2-8e5f-23afff512ec5",
   "metadata": {},
   "outputs": [],
   "source": [
    "import pandas as pd\n",
    "import plotly.express as px\n",
    "import json\n",
    "from urllib.request import urlopen\n",
    "\n",
    "# Cargar los datos desde el archivo CSV\n",
    "datos_csv = \"matriculaciones_discapacidad_autismo_2022.csv\"\n",
    "df = pd.read_csv(datos_csv)\n",
    "\n",
    "# Definir el diccionario de mapeo de nombres\n",
    "mapeo_nombres = {\n",
    "     '01 ANDALUCÍA': 'Andalucía',\n",
    "    '02 ARAGÓN': 'Aragón',\n",
    "    '03 ASTURIAS, PRINCIPADO DE': 'Principado de Asturias',\n",
    "    '04 BALEARS, ILLES': 'Islas Baleares',\n",
    "    '05 CANARIAS': 'Islas Canarias',\n",
    "    '06 CANTABRIA': 'Cantabria',\n",
    "    '07 CASTILLA Y LEÓN': 'Castilla y León',\n",
    "    '08 CASTILLA-LA MANCHA': 'Castilla-La Mancha',\n",
    "    '09 CATALUÑA': 'Cataluña',\n",
    "    '10 COMUNITAT VALENCIANA': 'Comunidad Valenciana',\n",
    "    '11 EXTREMADURA': 'Extremadura',\n",
    "    '12 GALICIA': 'Galicia',\n",
    "    '13 MADRID, COMUNIDAD DE': 'Comunidad de Madrid',\n",
    "    '14 MURCIA, REGIÓN DE': 'Región de Murcia',\n",
    "    '15 NAVARRA, COMUNIDAD FORAL DE': 'Comunidad Foral de Navarra',\n",
    "    '16 PAÍS VASCO': 'País Vasco',\n",
    "    '17 RIOJA, LA': 'La Rioja',\n",
    "    '18 CEUTA': 'Ceuta',\n",
    "    '19 MELILLA': 'Melilla'\n",
    "}\n",
    "\n",
    "# Aplicar el mapeo al DataFrame\n",
    "df['Comunidad autónoma/provincia'] = df['Comunidad autónoma/provincia'].map(mapeo_nombres)\n",
    "\n",
    "# URL del archivo GeoJSON que contiene las geometrías de las comunidades autónomas de España\n",
    "url_geojson_espana = \"https://raw.githubusercontent.com/R-CoderDotCom/data/main/shapefile_spain/spain.geojson\"\n",
    "\n",
    "# Cargar el GeoJSON desde la URL\n",
    "with urlopen(url_geojson_espana) as response:\n",
    "    geojson_espana = json.load(response)\n",
    "\n",
    "# Crear el mapa coroplético\n",
    "fig = px.choropleth_mapbox(df, \n",
    "                           geojson=geojson_espana, \n",
    "                           locations='Comunidad autónoma/provincia', \n",
    "                           featureidkey=\"properties.name\",\n",
    "                           color='Total plazas matriculaciones',\n",
    "                           color_continuous_scale=\"Viridis\",\n",
    "                           range_color=(0, max(df['Total plazas matriculaciones'])),\n",
    "                           mapbox_style=\"carto-positron\",\n",
    "                           zoom=5, center = {\"lat\": 40.4168, \"lon\": -3.7038},\n",
    "                           opacity=0.7,\n",
    "                           labels={'Total plazas matriculaciones':'Total de matriculaciones'},\n",
    "                           title='Total de Matriculaciones por Comunidad de Discapacidad Trastornos del espectro del autismo (2) en 2022',\n",
    "                           width=1200, height=800\n",
    "                          )\n",
    "\n",
    "# Mostrar el mapa\n",
    "fig.show()"
   ]
  },
  {
   "cell_type": "markdown",
   "id": "a333e068-789d-487c-b5f7-5d9e78ea804f",
   "metadata": {},
   "source": [
    "## VISUALIZACIÓN MAPA ESPAÑA DISCAPACIDAD Trastornos graves de conducta/personalidad' 2022"
   ]
  },
  {
   "cell_type": "code",
   "execution_count": null,
   "id": "eb8a42a7-396c-434d-8b3e-b1645ae3f34d",
   "metadata": {},
   "outputs": [],
   "source": [
    "# Filtrar los datos para el año 2022, discapacidad Trastornos graves de conducta/personalidad y excluir Barcelona, Tarragona, Lleida y Girona\n",
    "filtered_data_2022 = Plazas[(Plazas['Año finalización curso'] == 2022) & \n",
    "                             (Plazas['Discapacidad'] == 'Trastornos graves de conducta/personalidad') &\n",
    "                             (~Plazas['Comunidad autónoma/provincia'].isin(['Barcelona', 'Tarragona', 'Lleida', 'Girona']))]\n",
    "\n",
    "# Agrupar los datos por comunidad autónoma/provincia y sexo, y calcular el total de plazas matriculaciones\n",
    "filtro_trastornos = filtered_data_2022.groupby(['Comunidad autónoma/provincia'])['Total plazas matriculaciones'].sum()\n",
    "\n",
    "# Ordenar los datos de forma ascendente (de menos a más)\n",
    "filtro_trastornos_ordenado_ascendente = filtro_trastornos.sort_values(ascending=False)\n",
    "\n",
    "# Mostrar los datos ordenados de forma ascendente\n",
    "print(filtro_trastornos_ordenado_ascendente)"
   ]
  },
  {
   "cell_type": "code",
   "execution_count": null,
   "id": "fa039ce9-a6df-4c29-a526-11082104fb70",
   "metadata": {},
   "outputs": [],
   "source": [
    "# Guardar los datos en un archivo CSV\n",
    "filtro_trastornos.to_csv(\"matriculaciones_discapacidad_trastornos_2022.csv\", header=True)"
   ]
  },
  {
   "cell_type": "code",
   "execution_count": null,
   "id": "78682257-f550-4974-b592-e6295d144a20",
   "metadata": {},
   "outputs": [],
   "source": [
    "import pandas as pd\n",
    "import plotly.express as px\n",
    "import json\n",
    "from urllib.request import urlopen\n",
    "\n",
    "# Cargar los datos desde el archivo CSV\n",
    "datos_csv = \"matriculaciones_discapacidad_trastornos_2022.csv\"\n",
    "df = pd.read_csv(datos_csv)\n",
    "\n",
    "# Definir el diccionario de mapeo de nombres\n",
    "mapeo_nombres = {\n",
    "     '01 ANDALUCÍA': 'Andalucía',\n",
    "    '02 ARAGÓN': 'Aragón',\n",
    "    '03 ASTURIAS, PRINCIPADO DE': 'Principado de Asturias',\n",
    "    '04 BALEARS, ILLES': 'Islas Baleares',\n",
    "    '05 CANARIAS': 'Islas Canarias',\n",
    "    '06 CANTABRIA': 'Cantabria',\n",
    "    '07 CASTILLA Y LEÓN': 'Castilla y León',\n",
    "    '08 CASTILLA-LA MANCHA': 'Castilla-La Mancha',\n",
    "    '09 CATALUÑA': 'Cataluña',\n",
    "    '10 COMUNITAT VALENCIANA': 'Comunidad Valenciana',\n",
    "    '11 EXTREMADURA': 'Extremadura',\n",
    "    '12 GALICIA': 'Galicia',\n",
    "    '13 MADRID, COMUNIDAD DE': 'Comunidad de Madrid',\n",
    "    '14 MURCIA, REGIÓN DE': 'Región de Murcia',\n",
    "    '15 NAVARRA, COMUNIDAD FORAL DE': 'Comunidad Foral de Navarra',\n",
    "    '16 PAÍS VASCO': 'País Vasco',\n",
    "    '17 RIOJA, LA': 'La Rioja',\n",
    "    '18 CEUTA': 'Ceuta',\n",
    "    '19 MELILLA': 'Melilla'\n",
    "}\n",
    "\n",
    "# Aplicar el mapeo al DataFrame\n",
    "df['Comunidad autónoma/provincia'] = df['Comunidad autónoma/provincia'].map(mapeo_nombres)\n",
    "\n",
    "# URL del archivo GeoJSON que contiene las geometrías de las comunidades autónomas de España\n",
    "url_geojson_espana = \"https://raw.githubusercontent.com/R-CoderDotCom/data/main/shapefile_spain/spain.geojson\"\n",
    "\n",
    "# Cargar el GeoJSON desde la URL\n",
    "with urlopen(url_geojson_espana) as response:\n",
    "    geojson_espana = json.load(response)\n",
    "\n",
    "# Crear el mapa coroplético\n",
    "fig = px.choropleth_mapbox(df, \n",
    "                           geojson=geojson_espana, \n",
    "                           locations='Comunidad autónoma/provincia', \n",
    "                           featureidkey=\"properties.name\",\n",
    "                           color='Total plazas matriculaciones',\n",
    "                           color_continuous_scale=\"Viridis\",\n",
    "                           range_color=(0, max(df['Total plazas matriculaciones'])),\n",
    "                           mapbox_style=\"carto-positron\",\n",
    "                           zoom=5, center = {\"lat\": 40.4168, \"lon\": -3.7038},\n",
    "                           opacity=0.7,\n",
    "                           labels={'Total plazas matriculaciones':'Total de matriculaciones'},\n",
    "                           title='Total de Matriculaciones por Comunidad de Discapacidad Trastornos graves de conducta/personalidad en 2022',\n",
    "                           width=1200, height=800\n",
    "                          )\n",
    "\n",
    "# Mostrar el mapa\n",
    "fig.show()"
   ]
  },
  {
   "cell_type": "markdown",
   "id": "45c14462-4cde-44a3-aaee-7263441f6ea2",
   "metadata": {},
   "source": [
    "Lo que sorprende es que sin valorar las plazas Ordinales asignadas por comunidad, si visualizo el tamaño de cada comunidad se entiende que es posible que deberian haber más casos en Andalucía, Castilla i León i Castilla la Mancha, pero en ninguno de los tres gráficos se visualiza. Sólo coincide Andalucía. \n",
    "\n",
    "\n",
    "A partir de aquí, empezamos a trabajar con el dataset reducido, voy a trabajar con los datos de Catalunya, por provincia. Quiero visualizar los datos en Cataluña. "
   ]
  },
  {
   "cell_type": "code",
   "execution_count": null,
   "id": "0368bf67-0706-4aa5-a4a1-23d3361fac43",
   "metadata": {},
   "outputs": [],
   "source": [
    "\n",
    "# 1. Filtrar los datos originales\n",
    "datos_filtrados = Plazas[\n",
    "    (Plazas['Año finalización curso'].between(2018, 2022)) & \n",
    "    ((Plazas['Tipo de plazas'] == 'Ordinarias') | (Plazas['Tipo de plazas'] == 'Especiales')) & \n",
    "    (Plazas['Comunidad autónoma/provincia'].isin(['Barcelona', 'Tarragona', 'Lleida', 'Girona']))\n",
    "]\n",
    "\n",
    "# 2. Seleccionar columnas específicas\n",
    "columnas_seleccionadas = [\n",
    "    'Año finalización curso', 'Tipo de plazas', 'Comunidad autónoma/provincia', \n",
    "    'Discapacidad', 'Sexo', 'Total plazas matriculaciones'\n",
    "]\n",
    "\n",
    "# 3. Crear el nuevo DataFrame\n",
    "Cataluña = datos_filtrados[columnas_seleccionadas]\n",
    "\n",
    "# Mostrar las primeras filas del nuevo DataFrame\n",
    "Cataluña"
   ]
  },
  {
   "cell_type": "code",
   "execution_count": null,
   "id": "881f2b65-cd85-4501-bd89-65edd8051902",
   "metadata": {},
   "outputs": [],
   "source": [
    "# 1. Filtrar los datos originales para el año 2022\n",
    "datos_filtrados_2022 = Plazas[\n",
    "    (Plazas['Año finalización curso'] == 2022) & \n",
    "    ((Plazas['Tipo de plazas'] == 'Ordinarias') | (Plazas['Tipo de plazas'] == 'Especiales')) & \n",
    "    (Plazas['Comunidad autónoma/provincia'].isin(['Barcelona', 'Tarragona', 'Lleida', 'Girona']))\n",
    "]\n",
    "\n",
    "# 2. Seleccionar columnas específicas\n",
    "columnas_seleccionadas = [\n",
    "    'Año finalización curso', 'Tipo de plazas', 'Comunidad autónoma/provincia', \n",
    "    'Discapacidad', 'Sexo', 'Total plazas matriculaciones'\n",
    "]\n",
    "\n",
    "# 3. Crear el nuevo DataFrame\n",
    "df_cat_2022 = datos_filtrados_2022[columnas_seleccionadas]\n",
    "\n",
    "# Mostrar las primeras filas del nuevo DataFrame\n",
    "df_cat_2022"
   ]
  },
  {
   "cell_type": "code",
   "execution_count": null,
   "id": "d5e11bcc-1109-4650-9f95-7528fcefc410",
   "metadata": {
    "scrolled": true
   },
   "outputs": [],
   "source": [
    "# Filtrar los datos para el año de finalización del curso 2022 y excluir los valores \"No\" de la discapacidad\n",
    "datos_2022_sin_no = Cataluña[(Cataluña['Año finalización curso'] == 2022) & (Cataluña['Discapacidad'] != 'No')]\n",
    "\n",
    "# Agrupar los datos por discapacidad y comunidad autónoma/provincia, y sumar el total de plazas matriculaciones\n",
    "total_plazas_por_discapacidad = datos_2022_sin_no.groupby(['Discapacidad', 'Comunidad autónoma/provincia'])['Total plazas matriculaciones'].sum()\n",
    "\n",
    "# Definir la paleta de colores personalizada\n",
    "colores = {'Barcelona': 'Lavender',  # Lila\n",
    "           'Girona': 'SandyBrown',         # Turquesa\n",
    "           'Lleida': 'HoneyDew',             # Amarillo\n",
    "           'Tarragona': 'LightSteelBlue'}      # Verde pistacho\n",
    "\n",
    "# Crear tres gráficos circulares, uno para cada discapacidad\n",
    "for discapacidad in total_plazas_por_discapacidad.index.levels[0]:\n",
    "    # Filtrar los datos para la discapacidad específica\n",
    "    datos_discapacidad = total_plazas_por_discapacidad.loc[discapacidad]\n",
    "    \n",
    "    # Crear la figura y los ejes del gráfico circular\n",
    "    plt.figure(figsize=(6, 6))\n",
    "    \n",
    "    # Graficar el gráfico circular\n",
    "    plt.pie(datos_discapacidad, labels=datos_discapacidad.index, colors=[colores.get(x, 'blue') for x in datos_discapacidad.index], autopct='%1.1f%%', startangle=140)\n",
    "    \n",
    "    # Configurar el título del gráfico\n",
    "    plt.suptitle(f'Distribución del total de plazas matriculaciones por provincia en Cataluña para la discapacidad: {discapacidad}', y=1.05, fontsize=16)\n",
    "    \n",
    "    # Mostrar el gráfico\n",
    "    plt.axis('equal')  # Aspecto igual para que sea circular\n",
    "    plt.tight_layout()\n",
    "    plt.show()"
   ]
  },
  {
   "cell_type": "markdown",
   "id": "ea89fcc5-5a96-4042-8ceb-a4df065902e3",
   "metadata": {},
   "source": [
    "Está claro que Barcelona es la provincia que más casos tiene y de calle, se entiende que por población. \n",
    "\n",
    "- En Barcelona a 2023 tenemos una población de 1,66 millones.\n",
    "- En Tarragona a 2023 tenemos una población de 138260.\n",
    "- En Lleida a 2023 tenemos una población de 143090.\n",
    "- En Girona a 2023 tenemos una población de 171211.\n",
    "\n",
    "\n",
    "Así que está claro porque salen estos resultados. \n",
    "\n",
    "Voy a calcular la tendencia en cataluña de las tres discapacidaes. \n"
   ]
  },
  {
   "cell_type": "code",
   "execution_count": null,
   "id": "bd067ca3-b4a3-42c8-be9e-fc311c6f142a",
   "metadata": {},
   "outputs": [],
   "source": [
    "# Filtrar los datos para las tres discapacidades y las provincias específicas desde 2018 hasta 2022\n",
    "data_intelectual = Plazas[(Plazas['Discapacidad'] == 'Intelectual') & \n",
    "                          (Plazas['Comunidad autónoma/provincia'].isin(['Barcelona', 'Tarragona', 'Lleida', 'Girona'])) & \n",
    "                          (Plazas['Año finalización curso'] >= 2018) & \n",
    "                          (Plazas['Año finalización curso'] <= 2022)]\n",
    "\n",
    "data_autismo = Plazas[(Plazas['Discapacidad'] == 'Trastornos del espectro del autismo (2)') & \n",
    "                      (Plazas['Comunidad autónoma/provincia'].isin(['Barcelona', 'Tarragona', 'Lleida', 'Girona'])) & \n",
    "                      (Plazas['Año finalización curso'] >= 2018) & \n",
    "                      (Plazas['Año finalización curso'] <= 2022)]\n",
    "\n",
    "data_graves = Plazas[(Plazas['Discapacidad'] == 'Trastornos graves de conducta/personalidad') & \n",
    "                     (Plazas['Comunidad autónoma/provincia'].isin(['Barcelona', 'Tarragona', 'Lleida', 'Girona'])) & \n",
    "                     (Plazas['Año finalización curso'] >= 2018) & \n",
    "                     (Plazas['Año finalización curso'] <= 2022)]\n",
    "\n",
    "# Agrupar los datos por año y calcular el total de plazas matriculaciones para cada año\n",
    "grouped_data_intelectual = data_intelectual.groupby('Año finalización curso')['Total plazas matriculaciones'].sum()\n",
    "grouped_data_autismo = data_autismo.groupby('Año finalización curso')['Total plazas matriculaciones'].sum()\n",
    "grouped_data_graves = data_graves.groupby('Año finalización curso')['Total plazas matriculaciones'].sum()\n",
    "\n",
    "# Crear una figura y ejes para el gráfico\n",
    "fig, ax = plt.subplots(figsize=(10, 6))\n",
    "\n",
    "# Graficar la evolución del total de plazas matriculaciones por año para cada tipo de discapacidad\n",
    "grouped_data_intelectual.plot(kind='line', marker='o', color='b', label='Intelectual', ax=ax)\n",
    "grouped_data_autismo.plot(kind='line', marker='o', color='r', label='Autismo', ax=ax)\n",
    "grouped_data_graves.plot(kind='line', marker='o', color='g', label='Trastornos graves', ax=ax)\n",
    "\n",
    "# Configurar el título y etiquetas de los ejes\n",
    "ax.set_title('Evolución del total de matriculaciones por Discapacidad (2018-2022) - Barcelona, Tarragona, Lleida, Girona')\n",
    "ax.set_xlabel('Año')\n",
    "ax.set_ylabel('Total plazas matriculaciones')\n",
    "\n",
    "# Agregar la leyenda debajo del gráfico\n",
    "ax.legend(loc='upper center', bbox_to_anchor=(0.5, -0.15), shadow=True, ncol=3, fontsize='medium')\n",
    "\n",
    "# Mostrar la cuadrícula\n",
    "ax.grid(True)\n",
    "\n",
    "# Mostrar el gráfico\n",
    "plt.tight_layout()\n",
    "plt.show()"
   ]
  },
  {
   "cell_type": "markdown",
   "id": "99a73e8c-1367-462e-ab69-3dd6bcb75e01",
   "metadata": {},
   "source": [
    "Trastornos graves de conducta se mantiene constante, como los datos nacionales, el autismo, existe la misma tendencia que la nacional pero de 2021 a 2022 decrece, así que son buenos datos. Y en el caso de la discapacidad intelectual existe también la misma tendencia positiva hasta 2020, y a posterior la tendencia es negativa, así que también son buenas noticias. \n",
    "\n",
    "Volvemos al dataset a nivel nacional, pero sólo vamos a contemplar los datos de 2022, ya que para aplicar el modelo de clasificación, no creo que le resulte fácil o coherente agrupar los datos repetidos temporalmente. "
   ]
  },
  {
   "cell_type": "code",
   "execution_count": null,
   "id": "992344bd-ad18-4db2-8683-da132f8439e8",
   "metadata": {},
   "outputs": [],
   "source": [
    "Plazas"
   ]
  },
  {
   "cell_type": "code",
   "execution_count": null,
   "id": "e83b4736-61a4-4849-9447-352f68e27af5",
   "metadata": {},
   "outputs": [],
   "source": [
    "# Filtrar las filas que tienen el año de finalización del curso igual a 2022\n",
    "plazas_2022 = Plazas[Plazas['Año finalización curso'] == 2022]\n",
    "\n",
    "plazas_2022"
   ]
  },
  {
   "cell_type": "code",
   "execution_count": null,
   "id": "c4468172-5e48-4175-8589-cd72eb096af4",
   "metadata": {},
   "outputs": [],
   "source": [
    "# Eliminar registros de Barcelona, Girona, Lleida y Tarragona\n",
    "plazas_2022 = plazas_2022[~plazas_2022['Comunidad autónoma/provincia'].isin(['Barcelona', 'Girona', 'Lleida', 'Tarragona'])]\n",
    "plazas_2022"
   ]
  },
  {
   "cell_type": "markdown",
   "id": "1b882317-7df1-45f5-a2d7-000b4757f073",
   "metadata": {},
   "source": [
    "Nos encontramos con una tabla que tiene 2 columnas numéricas, y el resto son categóricas. Primero vamos a transformar las columnas en numéricas para poder aplicar correctamente los modelos.  Para la columna de Comunidad autónoma voy a aplicar un one-hot encoding, y para el resto de columnas aplico Ordinal Encoder. "
   ]
  },
  {
   "cell_type": "code",
   "execution_count": null,
   "id": "9a720e46-1adc-47ea-aa36-96111da0a505",
   "metadata": {},
   "outputs": [],
   "source": [
    "from sklearn.preprocessing import OrdinalEncoder\n",
    "\n",
    "\n",
    "# Creamos el codificador ordinal\n",
    "encoder = OrdinalEncoder()\n",
    "\n",
    "# Aplicamos el encoder a la columna 'Discapacidad' y asignamos los valores codificados directamente\n",
    "plazas_2022['Discapacidad_encoded'] = encoder.fit_transform(plazas_2022[['Discapacidad']])\n",
    "plazas_2022\n"
   ]
  },
  {
   "cell_type": "code",
   "execution_count": null,
   "id": "44df1b41-39e3-4802-a390-32d0619d8309",
   "metadata": {},
   "outputs": [],
   "source": [
    "from sklearn.preprocessing import OrdinalEncoder\n",
    "\n",
    "# Creamos el codificador ordinal\n",
    "encoder = OrdinalEncoder()\n",
    "\n",
    "# Aplicamos el encoder a la columna 'Tipo de plazas' y asignamos los valores codificados directamente\n",
    "plazas_2022['Tipo de plazas_encoded'] = encoder.fit_transform(plazas_2022[['Tipo de plazas']])"
   ]
  },
  {
   "cell_type": "code",
   "execution_count": null,
   "id": "bfe24c35-3197-4ed4-980e-aa674b3c32ba",
   "metadata": {},
   "outputs": [],
   "source": [
    "from sklearn.preprocessing import OrdinalEncoder\n",
    "\n",
    "# Creamos el codificador ordinal para Sexo\n",
    "encoder_sexo = OrdinalEncoder()\n",
    "\n",
    "# Aplicamos el encoder a la columna 'Sexo' y asignamos los valores codificados\n",
    "plazas_2022['Sexo_encoded'] = encoder_sexo.fit_transform(plazas_2022[['Sexo']])\n"
   ]
  },
  {
   "cell_type": "code",
   "execution_count": null,
   "id": "fbe2c47b-e658-4304-9984-c5a8ee389628",
   "metadata": {},
   "outputs": [],
   "source": [
    "# Aplicamos one-hot encoding\n",
    "comunidad_autonoma_encoded = pd.get_dummies(plazas_2022['Comunidad autónoma/provincia'], prefix='Comunidad')\n",
    "\n",
    "# Convertimos los valores True y False a 1 y 0\n",
    "comunidad_autonoma_encoded = comunidad_autonoma_encoded.astype(int)\n",
    "\n",
    "# Concatenamos el DataFrame original con las columnas codificadas\n",
    "plazas_2022 = pd.concat([plazas_2022, comunidad_autonoma_encoded], axis=1)\n",
    "\n",
    "# Eliminamos la columna original 'Comunidad autónoma/provincia'\n",
    "plazas_2022.drop(columns=['Comunidad autónoma/provincia'], inplace=True)"
   ]
  },
  {
   "cell_type": "code",
   "execution_count": null,
   "id": "3a2d2a8f-b0b8-4aa8-a043-3184586e01ab",
   "metadata": {},
   "outputs": [],
   "source": [
    "df_cat_2022.info()"
   ]
  },
  {
   "cell_type": "code",
   "execution_count": null,
   "id": "276245e6-168e-4eab-816e-39e7c249de08",
   "metadata": {},
   "outputs": [],
   "source": [
    "plazas_2022"
   ]
  },
  {
   "cell_type": "code",
   "execution_count": null,
   "id": "7273516a-e690-459d-bf22-08f625d503a9",
   "metadata": {},
   "outputs": [],
   "source": [
    "\n",
    "# Seleccionar solo las columnas numéricas\n",
    "columnas_numericas = ['Total plazas matriculaciones','Discapacidad_encoded','Tipo de plazas_encoded','Sexo_encoded','Comunidad_01 ANDALUCÍA','Comunidad_02 ARAGÓN',\t'Comunidad_10 COMUNITAT VALENCIANA','Comunidad_11 EXTREMADURA', 'Comunidad_12 GALICIA',\t'Comunidad_13 MADRID, COMUNIDAD DE', 'Comunidad_14 MURCIA, REGIÓN DE', 'Comunidad_15 NAVARRA, COMUNIDAD FORAL DE', 'Comunidad_16 PAÍS VASCO',\t'Comunidad_17 RIOJA, LA', 'Comunidad_18 CEUTA',\t'Comunidad_19 MELILLA']\n",
    "\n",
    "# Crear el nuevo DataFrame con las columnas numéricas y la columna categórica\n",
    "df = plazas_2022[columnas_numericas]\n"
   ]
  },
  {
   "cell_type": "code",
   "execution_count": null,
   "id": "8d11c049-247d-4b42-ac0f-6d75d51f3763",
   "metadata": {},
   "outputs": [],
   "source": [
    "df.describe().round(2)"
   ]
  },
  {
   "cell_type": "markdown",
   "id": "e66e2acd-2263-4a04-9c48-c76ed9c08b73",
   "metadata": {},
   "source": [
    "Voy a comprobar la distribución las las variables aplicando la prueba shapiro. "
   ]
  },
  {
   "cell_type": "code",
   "execution_count": null,
   "id": "d8bc152b-a99f-4522-9538-09b3e90885a8",
   "metadata": {},
   "outputs": [],
   "source": [
    "from scipy.stats import shapiro\n",
    "from tabulate import tabulate\n",
    "import pandas as pd\n",
    "\n",
    "# Creamos una lista para almacenar los resultados de la prueba\n",
    "resultados = []\n",
    "\n",
    "# Iteramos sobre cada columna en el DataFrame 'df'\n",
    "for columna in df.columns:\n",
    "    stat, p = shapiro(df[columna])\n",
    "        \n",
    "    alpha = 0.05  # Nivel de significancia\n",
    "    if p > alpha:\n",
    "        resultado = \"Probablemente sigue una distribución normal\"\n",
    "    else:\n",
    "        resultado = \"Probablemente no sigue una distribución normal\"\n",
    "        \n",
    "    resultados.append([columna, stat, p, resultado])\n",
    "\n",
    "# Imprimimos los resultados en formato tabular\n",
    "tabla_resultados = tabulate(resultados, headers=[\"Variable\", \"Estadística\", \"Valor-p\", \"Resultado\"], tablefmt=\"pretty\")\n",
    "print(tabla_resultados)"
   ]
  },
  {
   "cell_type": "markdown",
   "id": "d593a515-c722-4137-97f6-f317a419f46e",
   "metadata": {},
   "source": [
    "Y se confirma que no tiene una distribución normal. Así que voy a graficarlas. "
   ]
  },
  {
   "cell_type": "code",
   "execution_count": null,
   "id": "44bf8d8a-5ab2-40a9-a561-ba1464b7d0e5",
   "metadata": {},
   "outputs": [],
   "source": [
    "import seaborn as sns\n",
    "\n",
    "plt.figure(figsize=(20, 40))\n",
    "\n",
    "for columna in columnas_numericas:\n",
    "  \n",
    "    plt.subplot(10, 3, df.columns.get_loc(columna) + 1)\n",
    "    sns.histplot(data=df[columna],kde=True)\n",
    "    plt.xlabel(columna)\n",
    "    \n",
    "    plt.subplots_adjust(hspace=0.5)\n",
    "    \n",
    "    plt.show"
   ]
  },
  {
   "cell_type": "markdown",
   "id": "75f10a16-16e9-4f4c-bddd-fcc28261361b",
   "metadata": {},
   "source": [
    "Y este código me gusta mucho ya que me permite ver tanbién los outliers. "
   ]
  },
  {
   "cell_type": "code",
   "execution_count": null,
   "id": "0a0407f3-4d8f-4046-a3e4-5b413d06f238",
   "metadata": {},
   "outputs": [],
   "source": [
    "\n",
    "import matplotlib.pyplot as plt\n",
    "\n",
    "\n",
    "for i in columnas_numericas:\n",
    "    plt.figure(figsize=(8, 5))\n",
    "    sns.set()\n",
    "    \n",
    "    # Filtra los valores no nulos en la columna actual\n",
    "    filtered_data = df[df[i].notna()]\n",
    "    \n",
    "    # Crea un subplot con dos áreas (boxplot y histograma)\n",
    "    f, (ax_box, ax_hist) = plt.subplots(2, sharex=True, gridspec_kw={\"height_ratios\": (.15, .85)})\n",
    "    \n",
    "    # Dibuja el boxplot en la parte superior en posición horizontal\n",
    "    sns.boxplot(x=filtered_data[i], orient=\"h\", ax=ax_box, linewidth=1.0)\n",
    "    \n",
    "    # Dibuja el histograma en la parte inferior\n",
    "    sns.histplot(filtered_data[i], ax=ax_hist, bins=10, kde=True)\n",
    "    \n",
    "    # Añade títulos a los subplots\n",
    "    ax_box.set(xlabel='')\n",
    "    ax_hist.set(xlabel=i)\n",
    "    \n",
    "    plt.gca().set(xlabel=i, ylabel='Frequency')\n",
    "\n",
    "    # Mostrar los gráficos\n",
    "    plt.show()"
   ]
  },
  {
   "cell_type": "markdown",
   "id": "41c92e95-8725-4fe3-9728-88b696cd0e5e",
   "metadata": {},
   "source": [
    "\n",
    "Los datos no siguen una distribución normal(Gaussiana). Y en las variables Discapacidad_encoded, Sexo_encoded no presentan Outliers, así que voy a aplicar para el escalado MinMaxScaler.\n",
    "Para las variables que tienen Outliers que son, Total Plazas matriculaciones, Tipo de plazas_encoded, 'Comunidad_01 ANDALUCÍA','Comunidad_02 ARAGÓN',\t'Comunidad_10 COMUNITAT VALENCIANA','Comunidad_11 EXTREMADURA', 'Comunidad_12 GALICIA',\t'Comunidad_13 MADRID, COMUNIDAD DE', 'Comunidad_14 MURCIA, REGIÓN DE', 'Comunidad_15 NAVARRA, COMUNIDAD FORAL DE', 'Comunidad_16 PAÍS VASCO',\t'Comunidad_17 RIOJA, LA', 'Comunidad_18 CEUTA',\t'Comunidad_19 MELILLA', aplicaré RobustScaler. "
   ]
  },
  {
   "cell_type": "code",
   "execution_count": null,
   "id": "a28374ce-ca89-4696-b83f-bd6c32b78e99",
   "metadata": {},
   "outputs": [],
   "source": [
    "from sklearn.preprocessing import MinMaxScaler, RobustScaler\n",
    "\n",
    "# Selecciona las columnas numéricas que deseas escalar\n",
    "columns_minmax = [ 'Discapacidad_encoded', 'Sexo_encoded']\n",
    "columns_robust = ['Total plazas matriculaciones', 'Tipo de plazas_encoded', 'Comunidad_01 ANDALUCÍA','Comunidad_02 ARAGÓN','Comunidad_10 COMUNITAT VALENCIANA','Comunidad_11 EXTREMADURA', 'Comunidad_12 GALICIA',\t'Comunidad_13 MADRID, COMUNIDAD DE', 'Comunidad_14 MURCIA, REGIÓN DE', 'Comunidad_15 NAVARRA, COMUNIDAD FORAL DE', 'Comunidad_16 PAÍS VASCO',\t'Comunidad_17 RIOJA, LA', 'Comunidad_18 CEUTA',\t'Comunidad_19 MELILLA']\n",
    "\n",
    "# Crea una instancia de MinMaxScaler y RobustScaler\n",
    "minmax_scaler = MinMaxScaler()\n",
    "robust_scaler = RobustScaler()\n",
    "\n",
    "# Ajusta y transforma los datos seleccionados con MinMaxScaler\n",
    "df[columns_minmax] = minmax_scaler.fit_transform(df[columns_minmax])\n",
    "\n",
    "# Ajusta y transforma los datos seleccionados con RobustScaler\n",
    "df[columns_robust] = robust_scaler.fit_transform(df[columns_robust])\n",
    "\n",
    "# Visualiza el DataFrame después de escalar\n",
    "df"
   ]
  },
  {
   "cell_type": "code",
   "execution_count": null,
   "id": "7cc60eb8-06c7-4549-b6db-344688eb2a36",
   "metadata": {},
   "outputs": [],
   "source": [
    "df_scaler = df"
   ]
  },
  {
   "cell_type": "markdown",
   "id": "7e6e3c2e-f12e-4150-b67a-2e1f6cb28123",
   "metadata": {},
   "source": [
    "Consideré hacer una PCA, y los valores me los reducía a una dimensión, pero luego tenía dificultades para graficar los resultados. Así que finalmente he preferido omitir la PCA, y aplicar el modelo Kmeans para todos los datos. "
   ]
  },
  {
   "cell_type": "code",
   "execution_count": null,
   "id": "e64857ee-03b6-4b86-8823-8e739d2288d9",
   "metadata": {},
   "outputs": [],
   "source": [
    "from sklearn.cluster import KMeans\n",
    "from kneed import KneeLocator\n",
    "import matplotlib.pyplot as plt\n",
    "\n",
    "inertia = []\n",
    "for k in range(2, 10):\n",
    "    kmeans = KMeans(n_clusters=k).fit(df_scaler.values)\n",
    "    inertia.append(kmeans.inertia_)\n",
    "    \n",
    "plt.plot(range(2, 10), inertia, marker=\"o\", linestyle=\"-\")\n",
    "plt.xlabel(\"Número de Clusters\")\n",
    "plt.ylabel(\"Inercia\")\n",
    "plt.title(\"Número de Clusters vs. Inercia\")\n",
    "\n",
    "# Utilizamos KneeLocator para encontrar el punto de inflexión\n",
    "kneedle = KneeLocator(range(2, 10), inertia, curve=\"convex\", direction=\"decreasing\")\n",
    "plt.vlines(kneedle.knee, plt.ylim()[0], plt.ylim()[1], linestyles='dashed', color='red')\n",
    "plt.text(kneedle.knee+0.1, plt.ylim()[1]/2, 'Punto de codo', rotation=90)\n",
    "\n",
    "plt.show()"
   ]
  },
  {
   "cell_type": "markdown",
   "id": "0954c43c-f817-46ae-8b78-a768c41f7d06",
   "metadata": {},
   "source": [
    "He comprobado la inercia de mis datos, la prueba del codo y aplicando KneeLocator se ve que el punto más óptimo de Clusters es 4. "
   ]
  },
  {
   "cell_type": "code",
   "execution_count": null,
   "id": "5c35afb9-5b60-4055-8d48-84975af3643b",
   "metadata": {},
   "outputs": [],
   "source": [
    "from sklearn.metrics import silhouette_score\n",
    "\n",
    "\n",
    "def plot_silhouette(data, k_values):\n",
    "    silhouette_scores = []\n",
    "\n",
    "    for k in k_values:\n",
    "        kmeans = KMeans(n_clusters=k, n_init=10, random_state=45)\n",
    "        cluster_labels = kmeans.fit_predict(data)\n",
    "        silhouette_avg = silhouette_score(data, cluster_labels)\n",
    "        silhouette_scores.append(silhouette_avg)\n",
    "\n",
    "    plt.plot(k_values, silhouette_scores, 'bo-')\n",
    "    plt.xlabel('Número de Clusters (K)')\n",
    "    plt.ylabel('Silhouette Score')\n",
    "    plt.title('Silhouette Scores vs Número de Clusters(K)')\n",
    "    plt.show()\n",
    "\n",
    "k_values = list(range(2, 9))\n",
    "plot_silhouette(df.values, k_values)"
   ]
  },
  {
   "cell_type": "markdown",
   "id": "b995b78e-9c9a-44f1-ac7a-f1e0bf39f009",
   "metadata": {},
   "source": [
    "Con el método silhouette el valor más alto de su coeficiente es de 2. Este en principio sería el número de k, el número de centroides. Si establecemos 4, lo que nos está indicando es que no se están dividiendo los datos de una buena forma, ya que el Score se encuentra en 0.86. Sin embargo si optamos por establecer el número 2, el Score se encuentra lo más próximo a 1. Entonces, voy a aplicar los dos para ver que está haciendo. "
   ]
  },
  {
   "cell_type": "code",
   "execution_count": null,
   "id": "4840186f-fbd0-4523-b99e-b6b40b4cefe4",
   "metadata": {},
   "outputs": [],
   "source": [
    "#desplegamos el método kmeans con el número de k escogido \n",
    "kmeans = KMeans(n_clusters=4).fit(df_scaler)\n",
    "\n",
    "#predecimos los labels \n",
    "labels = kmeans.predict(df_scaler)\n",
    "\n",
    "#creamos una nueva columna en nuestro dataset limpio con los valores de los labels\n",
    "plazas_2022['label'] = labels"
   ]
  },
  {
   "cell_type": "markdown",
   "id": "0e57b93d-cef1-4964-bdda-408a7a858ca4",
   "metadata": {},
   "source": [
    "Primeramente, voy a graficar la descripción de los clusters teniendo en cuenta el tamaño de cada uno de los clusters y su relación con el conjunto total de datos."
   ]
  },
  {
   "cell_type": "code",
   "execution_count": null,
   "id": "5f1b39e5-b4dc-4832-8db6-22f4b8563b97",
   "metadata": {},
   "outputs": [],
   "source": [
    "#contamos el número de observaciones por cluster\n",
    "cluster_counts = plazas_2022['label'].value_counts()\n",
    "messages = [f'Cluster {label}: {count} observaciones' for label, count in cluster_counts.items()]\n",
    "\n",
    "#imprimimos la información\n",
    "for message in messages:\n",
    "    print(message)\n",
    "\n",
    "#creamos un gráfico de pastel\n",
    "plt.figure(figsize=(8, 8))\n",
    "plt.pie(cluster_counts, labels=cluster_counts.index, autopct='%1.1f%%', startangle=90)\n",
    "\n",
    "#configuramos el título\n",
    "plt.title('Tamaño de cada cluster')\n",
    "\n",
    "# Mostrar el gráfico\n",
    "plt.show()"
   ]
  },
  {
   "cell_type": "markdown",
   "id": "44519656-8907-4c47-bdc5-24b5b2f62e99",
   "metadata": {},
   "source": [
    "Según el gráfico se establecen 4 Clusters, :\n",
    "\n",
    "El cluster 0 es el que más observaciones tiene del conjunto de datos. \n",
    "Los clusters 1,2 y 3 representan solo el 17% del data set.\n",
    "Existe mucha diferencia del cluster 0 al resto de clusters."
   ]
  },
  {
   "cell_type": "code",
   "execution_count": null,
   "id": "7bfafe7d-0a88-4153-81c6-e169757796ce",
   "metadata": {},
   "outputs": [],
   "source": [
    "plazas_2022"
   ]
  },
  {
   "cell_type": "markdown",
   "id": "d26cc340-4911-4d9d-97be-bc0decc493ea",
   "metadata": {},
   "source": [
    "Voy a visualizar la distribución de los clusters vs las variables. \n",
    "Primeramente voy a ver como distribuye la variable discapacidad."
   ]
  },
  {
   "cell_type": "code",
   "execution_count": null,
   "id": "30de6ece-58cd-4a0c-971e-101b5c68b6af",
   "metadata": {},
   "outputs": [],
   "source": [
    "# Contar el número de ocurrencias de cada valor en 'Discapacidad_encoded' para cada cluster\n",
    "conteo_discapacidad_por_cluster = plazas_2022.groupby(['label', 'Discapacidad']).size().unstack()\n",
    "\n",
    "# Normalizar los valores para obtener el porcentaje\n",
    "conteo_discapacidad_porcentaje = conteo_discapacidad_por_cluster.div(conteo_discapacidad_por_cluster.sum(axis=1), axis=0) * 100\n",
    "\n",
    "# Escoger un estilo \n",
    "sns.set(style=\"whitegrid\")\n",
    "\n",
    "# Crear el gráfico\n",
    "plt.figure(figsize=(12, 8))\n",
    "conteo_discapacidad_porcentaje.plot(kind='barh', stacked=True)\n",
    "\n",
    "# Configurar\n",
    "plt.title('Distribución de Discapacidad por Cluster')\n",
    "plt.xlabel('Porcentaje del Total de Discapacidad')\n",
    "plt.ylabel('Cluster')\n",
    "\n",
    "# Ajustar leyenda\n",
    "plt.legend(title='Discapacidad', bbox_to_anchor=(1.05, 1), loc='upper left')\n",
    "\n",
    "# Mostrar el gráfico\n",
    "plt.show()"
   ]
  },
  {
   "cell_type": "markdown",
   "id": "b4b55ed5-cfc8-49dd-b7f6-3b29e662dc81",
   "metadata": {},
   "source": [
    "Y agrupa todas las discapacidades en el cluster 0, entonces se entiende que no tiene peso la variable Discapacidad para la agrupación ya que no lo hace de manera equitativa. \n",
    "\n",
    "Voy a visualizar si lo agrupa por tipo de plazas. "
   ]
  },
  {
   "cell_type": "code",
   "execution_count": null,
   "id": "885ff4cb-0df6-4057-92d9-a708cffba504",
   "metadata": {},
   "outputs": [],
   "source": [
    "# Contar el número de ocurrencias de cada valor en 'Tipo de plazas_encoded' para cada cluster\n",
    "conteo_tipo_plazas_por_cluster = plazas_2022.groupby(['label', 'Tipo de plazas']).size().unstack()\n",
    "\n",
    "# Normalizar los valores para obtener el porcentaje\n",
    "conteo_tipo_plazas_porcentaje = conteo_tipo_plazas_por_cluster.div(conteo_tipo_plazas_por_cluster.sum(axis=1), axis=0) * 100\n",
    "\n",
    "# Escoger un estilo \n",
    "sns.set(style=\"whitegrid\")\n",
    "\n",
    "# Crear el gráfico\n",
    "plt.figure(figsize=(12, 8))\n",
    "conteo_tipo_plazas_porcentaje.plot(kind='barh', stacked=True)\n",
    "\n",
    "# Configurar\n",
    "plt.title('Distribución de Tipo de Plazas por Cluster')\n",
    "plt.xlabel('Porcentaje del Total de Tipo de Plazas')\n",
    "plt.ylabel('Cluster')\n",
    "\n",
    "# Ajustar leyenda\n",
    "plt.legend(title='Tipo de Plazas', bbox_to_anchor=(1.05, 1), loc='upper left')\n",
    "\n",
    "# Mostrar el gráfico\n",
    "plt.show()"
   ]
  },
  {
   "cell_type": "markdown",
   "id": "12c7fb11-604a-41bc-bea0-f0b8f16b50b4",
   "metadata": {},
   "source": [
    "Y la sorpresa es que agrupa en el Cluster 0 las plazas especiales y el resto las distribuye en los otros Clusters.\n",
    "\n",
    "Ahora, voy a visualizar la variable de Sexo."
   ]
  },
  {
   "cell_type": "code",
   "execution_count": null,
   "id": "ec7a1631-9cee-4756-b235-c83e3fbaa27f",
   "metadata": {},
   "outputs": [],
   "source": [
    "# Contar el número de ocurrencias de cada valor en 'Tipo de plazas_encoded' para cada cluster\n",
    "conteo_tipo_plazas_por_cluster = plazas_2022.groupby(['label', 'Sexo']).size().unstack()\n",
    "\n",
    "# Normalizar los valores para obtener el porcentaje\n",
    "conteo_tipo_plazas_porcentaje = conteo_tipo_plazas_por_cluster.div(conteo_tipo_plazas_por_cluster.sum(axis=1), axis=0) * 100\n",
    "\n",
    "# Escoger un estilo \n",
    "sns.set(style=\"whitegrid\")\n",
    "\n",
    "# Crear el gráfico\n",
    "plt.figure(figsize=(12, 8))\n",
    "conteo_tipo_plazas_porcentaje.plot(kind='barh', stacked=True)\n",
    "\n",
    "# Configurar\n",
    "plt.title('Distribución de sexo por Cluster')\n",
    "plt.xlabel('Porcentaje por tipo de sexo')\n",
    "plt.ylabel('Cluster')\n",
    "\n",
    "# Ajustar leyenda\n",
    "plt.legend(title='Sexo', bbox_to_anchor=(1.05, 1), loc='upper left')\n",
    "\n",
    "# Mostrar el gráfico\n",
    "plt.show()"
   ]
  },
  {
   "cell_type": "markdown",
   "id": "4f7fea31-5265-4c8f-8cb8-3d3c07d2b5d5",
   "metadata": {},
   "source": [
    "Y aquí si que distribuye la mitad para cada cluster. \n",
    "Entonces voy a visualizar por el tota de plazas matriculaciones. "
   ]
  },
  {
   "cell_type": "code",
   "execution_count": null,
   "id": "a1fdbee6-8bca-46a2-9f61-df3bb1a05b48",
   "metadata": {},
   "outputs": [],
   "source": [
    "# Contar el número de ocurrencias de cada valor en 'Tipo de plazas_encoded' para cada cluster\n",
    "conteo_tipo_plazas_por_cluster = plazas_2022.groupby(['label', 'Total plazas matriculaciones']).size().unstack()\n",
    "\n",
    "# Normalizar los valores para obtener el porcentaje\n",
    "conteo_tipo_plazas_porcentaje = conteo_tipo_plazas_por_cluster.div(conteo_tipo_plazas_por_cluster.sum(axis=1), axis=0) * 100\n",
    "\n",
    "# Escoger un estilo \n",
    "sns.set(style=\"whitegrid\")\n",
    "\n",
    "# Crear el gráfico\n",
    "plt.figure(figsize=(12, 8))\n",
    "conteo_tipo_plazas_porcentaje.plot(kind='barh', stacked=True)\n",
    "\n",
    "# Configurar\n",
    "plt.title('Distribución de Total de  Plazas matriculaciones por Cluster')\n",
    "plt.xlabel('Porcentaje del Total de Plazas')\n",
    "plt.ylabel('Cluster')\n",
    "\n",
    "# Ajustar leyenda\n",
    "plt.legend(title='Tipo de Plazas', bbox_to_anchor=(1.05, 1), loc='upper left')\n",
    "\n",
    "# Mostrar el gráfico\n",
    "plt.show()"
   ]
  },
  {
   "cell_type": "markdown",
   "id": "c5561862-7df2-4775-b225-7b24d6df91cd",
   "metadata": {},
   "source": [
    "Y sorpresa, me está haciendo grupos por el número de registros de matriculaciones. Sinceramente no le veo el sentido, pero..."
   ]
  },
  {
   "cell_type": "code",
   "execution_count": null,
   "id": "a1110b3d-283f-4456-b900-849c13505d55",
   "metadata": {},
   "outputs": [],
   "source": [
    "#calculamos los valores medios por cada columna\n",
    "mean_values = plazas_2022.groupby('label')[columnas_numericas].mean()\n",
    "\n",
    "print(mean_values)"
   ]
  },
  {
   "cell_type": "code",
   "execution_count": null,
   "id": "d1ca8dd5-f48d-4811-be7c-6e61c2bae54b",
   "metadata": {},
   "outputs": [],
   "source": [
    "#determinamos la media  por cluster \n",
    "media = plazas_2022.groupby('label')[columnas_numericas].mean().reset_index()\n",
    "\n",
    "\n",
    "#creamos un gráfico de barras agrupadas\n",
    "plt.figure()\n",
    "sns.barplot(data=media.melt(id_vars='label'), x='label', y='value', hue='variable', palette='viridis')\n",
    "\n",
    "#configuramos el gráfico\n",
    "plt.title('Valores Medios de Reacciones por Cluster')\n",
    "plt.xlabel('Cluster')\n",
    "plt.ylabel('Valor Medio')\n",
    "plt.legend(title='Valor medio por Cluster', bbox_to_anchor=(1.05, 1), loc='upper left')\n",
    "\n",
    "plt.show()"
   ]
  },
  {
   "cell_type": "markdown",
   "id": "d6d1d77d-7cc7-41ef-b98e-dcffecc9a388",
   "metadata": {},
   "source": [
    "Bueno, pues con este gráfico puedo ver perfectamente como se está distribuyendo las variables en cada cluster. Y evidencia lo que he explicando anteriormente. "
   ]
  },
  {
   "cell_type": "code",
   "execution_count": null,
   "id": "07a99f8a-4a17-4efb-99ed-0dcd558cbd08",
   "metadata": {},
   "outputs": [],
   "source": [
    "#creamos el scatter con comments y shares\n",
    "sns.scatterplot(x='Total plazas matriculaciones', y='Sexo', hue='label', data=plazas_2022, alpha=0.7, palette='viridis')\n",
    "\n",
    "#configuramos el gráfico\n",
    "plt.title('Scatter Plot de Total plazas matriculaciones vs. Sexo_encoded (con Hue en Label)')\n",
    "plt.xlabel('Total plazas matriculaciones')\n",
    "plt.ylabel('Sexo_encoded')\n",
    "plt.legend(title='Label')\n",
    "\n",
    "plt.show()"
   ]
  },
  {
   "cell_type": "markdown",
   "id": "29c101e2-726b-47a5-a1ca-9c4198b387f4",
   "metadata": {},
   "source": [
    "Y haciendo un scatterplot de este modo me está agrupando los datos por sexo, y por el Total de plazas matriculaciones. Voy a aplicar 2 cluters para ver que pasa esta vez. "
   ]
  },
  {
   "cell_type": "code",
   "execution_count": null,
   "id": "6eff4a9a-8b3d-42a8-ba5c-98c82249cc2f",
   "metadata": {},
   "outputs": [],
   "source": [
    "#desplegamos el método kmeans con el número de k escogido \n",
    "kmeans = KMeans(n_clusters=2).fit(df_scaler)\n",
    "\n",
    "#predecimos los labels \n",
    "labels = kmeans.predict(df_scaler)\n",
    "\n",
    "#creamos una nueva columna en nuestro dataset limpio con los valores de los labels\n",
    "plazas_2022['label'] = labels"
   ]
  },
  {
   "cell_type": "code",
   "execution_count": null,
   "id": "ac92719b-e4e9-41b5-a44d-10ad0bdce841",
   "metadata": {},
   "outputs": [],
   "source": [
    "#contamos el número de observaciones por cluster\n",
    "cluster_counts = plazas_2022['label'].value_counts()\n",
    "messages = [f'Cluster {label}: {count} observaciones' for label, count in cluster_counts.items()]\n",
    "\n",
    "#imprimimos la información\n",
    "for message in messages:\n",
    "    print(message)\n",
    "\n",
    "#creamos un gráfico de pastel\n",
    "plt.figure(figsize=(8, 8))\n",
    "plt.pie(cluster_counts, labels=cluster_counts.index, autopct='%1.1f%%', startangle=90)\n",
    "\n",
    "#configuramos el título\n",
    "plt.title('Tamaño de cada cluster')\n",
    "\n",
    "# Mostrar el gráfico\n",
    "plt.show()"
   ]
  },
  {
   "cell_type": "markdown",
   "id": "3b36af23-d966-4c04-a4bd-28ba347f9088",
   "metadata": {},
   "source": [
    "Me asigna 94,7% en el Cluster 0 y un 5,3% en el Cluster 1. "
   ]
  },
  {
   "cell_type": "code",
   "execution_count": null,
   "id": "0352e7a2-7b84-440a-aaf5-1a6a058846e0",
   "metadata": {},
   "outputs": [],
   "source": [
    "# Contar el número de ocurrencias de cada valor en 'Discapacidad_encoded' para cada cluster\n",
    "conteo_discapacidad_por_cluster = plazas_2022.groupby(['label', 'Discapacidad']).size().unstack()\n",
    "\n",
    "# Normalizar los valores para obtener el porcentaje\n",
    "conteo_discapacidad_porcentaje = conteo_discapacidad_por_cluster.div(conteo_discapacidad_por_cluster.sum(axis=1), axis=0) * 100\n",
    "\n",
    "# Escoger un estilo \n",
    "sns.set(style=\"whitegrid\")\n",
    "\n",
    "# Crear el gráfico\n",
    "plt.figure(figsize=(12, 8))\n",
    "conteo_discapacidad_porcentaje.plot(kind='barh', stacked=True)\n",
    "\n",
    "# Configurar\n",
    "plt.title('Distribución de Discapacidad por Cluster')\n",
    "plt.xlabel('Porcentaje del Total de Discapacidad')\n",
    "plt.ylabel('Cluster')\n",
    "\n",
    "# Ajustar leyenda\n",
    "plt.legend(title='Discapacidad', bbox_to_anchor=(1.05, 1), loc='upper left')\n",
    "\n",
    "# Mostrar el gráfico\n",
    "plt.show()"
   ]
  },
  {
   "cell_type": "markdown",
   "id": "0ef42239-6b76-477b-9370-31e9bdc6a04e",
   "metadata": {},
   "source": [
    "Interesante, Discapacidades en el Cluster 0 y el resto en Cluster 1. Voy a seguir mirando. "
   ]
  },
  {
   "cell_type": "code",
   "execution_count": null,
   "id": "88447ff2-c11d-41f9-b14f-2c469e07948a",
   "metadata": {},
   "outputs": [],
   "source": [
    "# Contar el número de ocurrencias de cada valor en 'Tipo de plazas_encoded' para cada cluster\n",
    "conteo_tipo_plazas_por_cluster = plazas_2022.groupby(['label', 'Tipo de plazas']).size().unstack()\n",
    "\n",
    "# Normalizar los valores para obtener el porcentaje\n",
    "conteo_tipo_plazas_porcentaje = conteo_tipo_plazas_por_cluster.div(conteo_tipo_plazas_por_cluster.sum(axis=1), axis=0) * 100\n",
    "\n",
    "# Escoger un estilo \n",
    "sns.set(style=\"whitegrid\")\n",
    "\n",
    "# Crear el gráfico\n",
    "plt.figure(figsize=(12, 8))\n",
    "conteo_tipo_plazas_porcentaje.plot(kind='barh', stacked=True)\n",
    "\n",
    "# Configurar\n",
    "plt.title('Distribución de Tipo de Plazas por Cluster')\n",
    "plt.xlabel('Porcentaje del Total de Tipo de Plazas')\n",
    "plt.ylabel('Cluster')\n",
    "\n",
    "# Ajustar leyenda\n",
    "plt.legend(title='Tipo de Plazas', bbox_to_anchor=(1.05, 1), loc='upper left')\n",
    "\n",
    "# Mostrar el gráfico\n",
    "plt.show()"
   ]
  },
  {
   "cell_type": "markdown",
   "id": "3143d480-a890-4af7-b518-c59b3295f2ee",
   "metadata": {},
   "source": [
    "Bien, asigna plazas Especiales a Cluster 0 y Plazas Ordinarias a Cluster 1. "
   ]
  },
  {
   "cell_type": "code",
   "execution_count": null,
   "id": "42ca8aa2-5c4f-41bf-9113-e8fbc9d39439",
   "metadata": {},
   "outputs": [],
   "source": [
    "# Contar el número de ocurrencias de cada valor en 'Tipo de plazas_encoded' para cada cluster\n",
    "conteo_tipo_plazas_por_cluster = plazas_2022.groupby(['label', 'Sexo']).size().unstack()\n",
    "\n",
    "# Normalizar los valores para obtener el porcentaje\n",
    "conteo_tipo_plazas_porcentaje = conteo_tipo_plazas_por_cluster.div(conteo_tipo_plazas_por_cluster.sum(axis=1), axis=0) * 100\n",
    "\n",
    "# Escoger un estilo \n",
    "sns.set(style=\"whitegrid\")\n",
    "\n",
    "# Crear el gráfico\n",
    "plt.figure(figsize=(12, 8))\n",
    "conteo_tipo_plazas_porcentaje.plot(kind='barh', stacked=True)\n",
    "\n",
    "# Configurar\n",
    "plt.title('Distribución de sexo por Cluster')\n",
    "plt.xlabel('Porcentaje por tipo de sexo')\n",
    "plt.ylabel('Cluster')\n",
    "\n",
    "# Ajustar leyenda\n",
    "plt.legend(title='Sexo', bbox_to_anchor=(1.05, 1), loc='upper left')\n",
    "\n",
    "# Mostrar el gráfico\n",
    "plt.show()"
   ]
  },
  {
   "cell_type": "markdown",
   "id": "3db58526-62b1-49fb-9a31-b87596108427",
   "metadata": {},
   "source": [
    "Esta vez, igual que en la anterior agrupación, reparte hombres y mujeres por igual a cada Cluster. "
   ]
  },
  {
   "cell_type": "code",
   "execution_count": null,
   "id": "5f7cf4bc-e1d9-45c7-86e7-065b1f9e947b",
   "metadata": {},
   "outputs": [],
   "source": [
    "# Contar el número de ocurrencias de cada valor en 'Tipo de plazas_encoded' para cada cluster\n",
    "conteo_tipo_plazas_por_cluster = plazas_2022.groupby(['label', 'Total plazas matriculaciones']).size().unstack()\n",
    "\n",
    "# Normalizar los valores para obtener el porcentaje\n",
    "conteo_tipo_plazas_porcentaje = conteo_tipo_plazas_por_cluster.div(conteo_tipo_plazas_por_cluster.sum(axis=1), axis=0) * 100\n",
    "\n",
    "# Escoger un estilo \n",
    "sns.set(style=\"whitegrid\")\n",
    "\n",
    "# Crear el gráfico\n",
    "plt.figure(figsize=(12, 8))\n",
    "conteo_tipo_plazas_porcentaje.plot(kind='barh', stacked=True)\n",
    "\n",
    "# Configurar\n",
    "plt.title('Distribución de Total de  Plazas matriculaciones por Cluster')\n",
    "plt.xlabel('Porcentaje del Total de Plazas')\n",
    "plt.ylabel('Cluster')\n",
    "\n",
    "# Ajustar leyenda\n",
    "plt.legend(title='Tipo de Plazas', bbox_to_anchor=(1.05, 1), loc='upper left')\n",
    "\n",
    "# Mostrar el gráfico\n",
    "plt.show()"
   ]
  },
  {
   "cell_type": "markdown",
   "id": "1b32d75b-0f1f-4384-bc5d-ef5eeabc8ffe",
   "metadata": {},
   "source": [
    "También tiene en cuenta el Total de plazas, pero entiendo que tiene más peso los argumentos anteriores. "
   ]
  },
  {
   "cell_type": "code",
   "execution_count": null,
   "id": "eeb57db4-cf99-40d7-8bf3-feb8a01f6e33",
   "metadata": {},
   "outputs": [],
   "source": [
    "#calculamos los valores medios por cada columna\n",
    "mean_values = plazas_2022.groupby('label')[columnas_numericas].mean()\n",
    "\n",
    "print(mean_values)"
   ]
  },
  {
   "cell_type": "code",
   "execution_count": null,
   "id": "8cbcc234-0114-4759-b2b6-e3604613b7d1",
   "metadata": {},
   "outputs": [],
   "source": [
    "#determinamos la media  por cluster \n",
    "media = plazas_2022.groupby('label')[columnas_numericas].mean().reset_index()\n",
    "\n",
    "\n",
    "#creamos un gráfico de barras agrupadas\n",
    "plt.figure()\n",
    "sns.barplot(data=media.melt(id_vars='label'), x='label', y='value', hue='variable', palette='viridis')\n",
    "\n",
    "#configuramos el gráfico\n",
    "plt.title('Valores Medios de Reacciones por Cluster')\n",
    "plt.xlabel('Cluster')\n",
    "plt.ylabel('Valor Medio')\n",
    "plt.legend(title='Valor medio por Cluster', bbox_to_anchor=(1.05, 1), loc='upper left')\n",
    "\n",
    "plt.show()"
   ]
  },
  {
   "cell_type": "code",
   "execution_count": null,
   "id": "d9c25144-486d-4b96-847f-6acf636f8bb1",
   "metadata": {},
   "outputs": [],
   "source": [
    "#creamos el scatter con comments y shares\n",
    "sns.scatterplot(x='Total plazas matriculaciones', y='Sexo', hue='label', data=plazas_2022, alpha=0.7, palette='viridis')\n",
    "\n",
    "#configuramos el gráfico\n",
    "plt.title('Scatter Plot de Total plazas matriculaciones vs. Sexo_encoded (con Hue en Label)')\n",
    "plt.xlabel('Total plazas matriculaciones')\n",
    "plt.ylabel('Sexo_encoded')\n",
    "plt.legend(title='Label')\n",
    "\n",
    "plt.show()"
   ]
  },
  {
   "cell_type": "markdown",
   "id": "909e0d01-4ec5-4067-a439-0c83396e0b78",
   "metadata": {},
   "source": [
    "CONCLUSIONES: \n",
    "\n",
    "Partiendo que mi dataset tiene variables que no tienen relación entre ellas, ya que se trata de un dataset con registros anuales, que además son repetidos en el tiempo. \n",
    "También me encuentro que no tenemos una variable target, por ello se me presentaban 2 opciones de aplicación de modelo, o agrupación sin target, como es mi caso K-means, (ya que el resto de modelos de clasificación me piden expresamente que exista dicha variable) o por el contrario una predicción que tomara datos temporales sin estacionalidad. Revisé los modelos que se podrían aplicar y encontré uno la autoregresión pero tampoco lo logré. \n",
    "\n",
    "Así que finalmente, aplicando el modelo K-mens me quedo más convencida de que la segunda opción me lo agrupa de una manera más coherente que la primera. \n",
    "En plazas Ordinarias y plazas Especiales. \n",
    "\n",
    "Realmente el fin de mi proyecto a sido darme luz de la realidad que existe a nivel nacional las discapacidades especiales en nustro país. \n",
    "Creía que cada vez existian más casos, esa era mi sensación. Me he encontrado que en España no se está movilizando de la misma manera como se ha movilizado en Estados Unidos. Además de que llevan mucho más tiempo estuciando lo relacionado a las discapacidaes.\n",
    "Me encontré que practicamente no existian bases de datos relacionadas, que además lo que existía no eran datos reales, ya que existe un tardancia en la otorgación de la discapacidad por parte de las administraciones. Y que este dataset que he creado sí tiene esa transparencia real, ya que en el momento que se realiza un informe médico automáticamente se asigna una plaza de necesidades especiales. \n",
    "\n",
    "También he podido confirmar que un 94,7% se destina a plazas Ordinarias y el resto sólo el 5,3% se destina a las plazas especiales totales a nivel nacional. Esta es la realidad de mi proyecto. \n"
   ]
  },
  {
   "cell_type": "code",
   "execution_count": null,
   "id": "2aa4b155-85d6-4edb-983e-6d880a869a52",
   "metadata": {},
   "outputs": [],
   "source": []
  }
 ],
 "metadata": {
  "kernelspec": {
   "display_name": "Python 3 (ipykernel)",
   "language": "python",
   "name": "python3"
  },
  "language_info": {
   "codemirror_mode": {
    "name": "ipython",
    "version": 3
   },
   "file_extension": ".py",
   "mimetype": "text/x-python",
   "name": "python",
   "nbconvert_exporter": "python",
   "pygments_lexer": "ipython3",
   "version": "3.11.5"
  }
 },
 "nbformat": 4,
 "nbformat_minor": 5
}
